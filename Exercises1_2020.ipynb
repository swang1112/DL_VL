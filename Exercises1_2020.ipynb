{
 "cells": [
  {
   "cell_type": "markdown",
   "metadata": {
    "colab_type": "text",
    "collapsed": false,
    "id": "view-in-github"
   },
   "source": [
    "<a href=\"https://colab.research.google.com/github/swang1112/DL_VL/blob/main/Exercises1_2020.ipynb\" target=\"_parent\"><img src=\"https://colab.research.google.com/assets/colab-badge.svg\" alt=\"Open In Colab\"/></a>"
   ]
  },
  {
   "cell_type": "markdown",
   "metadata": {
    "collapsed": false,
    "id": "gsqKM5DLlLRm"
   },
   "source": [
    "# Exercise Sheet 1 – PyTorch Basics\n",
    "\n",
    " * Deep Learning – Winter term 2020/21\n",
    " * Instructor: Alexander Ecker\n",
    " * Tutors: Max Burg, Laura Pede\n",
    " * Due date: Nov 16, 2020 at noon\n"
   ]
  },
  {
   "cell_type": "markdown",
   "metadata": {
    "collapsed": false,
    "id": "eaoMWjbZdCLf"
   },
   "source": [
    "# IMPORTANT SUBMISSION INSTRUCTIONS\n",
    "\n",
    "- When you're done, download the notebook and rename it to \\<surname1\\>_\\<surname2\\>_\\<surname3\\>.ipynb\n",
    "- Only submit the ipynb file, no other file is required\n",
    "- Submit only once\n",
    "- The deadline is strict\n",
    "- You are required to present your solution in the tutorial; submission of the notebook alone is not sufficient\n",
    "\n",
    "Implementation\n",
    "- Do not change the cells which are marked as \"Do not change\", similarly write your solution to the marked cells.\n"
   ]
  },
  {
   "cell_type": "markdown",
   "metadata": {
    "collapsed": false,
    "id": "A8RW2QHHFQYe"
   },
   "source": [
    "# Introduction\n",
    "\n",
    "In this task you will get to know the basic tools used by the machine learning community.\n",
    "Later, we will build a logistic regression model with PyTorch and perform training and prediction on the MNIST dataset."
   ]
  },
  {
   "cell_type": "markdown",
   "metadata": {
    "collapsed": false,
    "id": "Dhw-7EA-10Xm"
   },
   "source": [
    "## Tutorials\n",
    "\n",
    "Some python libraries are required to accomplish the tasks assigned in this homework. If you feel like you need to follow a tutorial before, feel free to do so:"
   ]
  },
  {
   "cell_type": "markdown",
   "metadata": {
    "collapsed": false,
    "id": "VMyEloGz__BZ"
   },
   "source": [
    "*   [Pytorch Tutorial](https://pytorch.org/tutorials/)\n",
    "*   [Seaborn Tutorial](https://seaborn.pydata.org/tutorial.html)\n"
   ]
  },
  {
   "cell_type": "markdown",
   "metadata": {
    "collapsed": false,
    "id": "ActTWMg4XZ5v"
   },
   "source": [
    "## Imports\n",
    "\n",
    "Jupyter notebook provides the possibility of using libraries, functions and variables globally. This means, once you import the libraries, functions, etc. you won't have to import them again in the next cell. However, if for any reason you end the session (crash, timeout, etc.), then you'll have to run this cell to have your libraries imported again. So, let's go ahead and import whatever we need in this homework assignment."
   ]
  },
  {
   "cell_type": "code",
   "execution_count": 351,
   "metadata": {
    "collapsed": false,
    "id": "LArjND15dGNh"
   },
   "outputs": [],
   "source": [
    "import os\n",
    "import random\n",
    "import numpy as np\n",
    "from sklearn.datasets import fetch_openml\n",
    "import seaborn as sb\n",
    "import matplotlib as mpl\n",
    "import matplotlib.pyplot as plt\n",
    "import seaborn as sn\n",
    "import pandas as pd\n",
    "import torch\n",
    "import pathlib\n",
    "from torchvision import datasets, transforms\n",
    "from torch.utils.data import DataLoader\n",
    "from torch.utils.data import sampler\n",
    "\n",
    "import fastprogress"
   ]
  },
  {
   "cell_type": "markdown",
   "metadata": {
    "collapsed": false,
    "id": "gpqN-O0F_atv"
   },
   "source": [
    "## System checks\n",
    "\n",
    "Perform some rudimentary system checks. Do we have a CUDA-capable device? Multiple? Is CuDNN active (huge speedups for some networks)?"
   ]
  },
  {
   "cell_type": "code",
   "execution_count": 352,
   "metadata": {
    "colab": {
     "base_uri": "https://localhost:8080/"
    },
    "collapsed": false,
    "id": "b1r5yPHY_hsl",
    "outputId": "f0b36cb7-b232-48cd-d806-2e15ed890a76"
   },
   "outputs": [
    {
     "data": {
      "text/plain": [
       "(True, True, 1)"
      ]
     },
     "execution_count": 352,
     "metadata": {
      "tags": null
     },
     "output_type": "execute_result"
    }
   ],
   "source": [
    "torch.cuda.is_available(), torch.backends.cudnn.is_available(), torch.cuda.device_count()"
   ]
  },
  {
   "cell_type": "markdown",
   "metadata": {
    "collapsed": false,
    "id": "UZD5IRFWZX5u"
   },
   "source": [
    "If you see now that now that there is no CUDA-capable device available, you have to activate the GPU.\n",
    "\n",
    "Go to Edit -> Notebook settings -> Select GPU as Hardware accelerator.\n",
    "\n"
   ]
  },
  {
   "cell_type": "markdown",
   "metadata": {
    "collapsed": false,
    "id": "olx30IjdagoU"
   },
   "source": [
    "Now check the availability again."
   ]
  },
  {
   "cell_type": "code",
   "execution_count": 353,
   "metadata": {
    "colab": {
     "base_uri": "https://localhost:8080/"
    },
    "collapsed": false,
    "id": "MMCbCpAFao6q",
    "outputId": "f8a1b00d-1ea2-4c04-e549-6c430463547a"
   },
   "outputs": [
    {
     "data": {
      "text/plain": [
       "(True, True, 1, 0)"
      ]
     },
     "execution_count": 353,
     "metadata": {
      "tags": null
     },
     "output_type": "execute_result"
    }
   ],
   "source": [
    "torch.cuda.is_available(), torch.backends.cudnn.is_available(), torch.cuda.device_count(), torch.cuda.current_device()"
   ]
  },
  {
   "cell_type": "markdown",
   "metadata": {
    "collapsed": false,
    "id": "zbFbqGzT_ksO"
   },
   "source": [
    "Choose your device for computation. CPU or one of your CUDA devices?"
   ]
  },
  {
   "cell_type": "code",
   "execution_count": 354,
   "metadata": {
    "colab": {
     "base_uri": "https://localhost:8080/"
    },
    "collapsed": false,
    "id": "dk3DvooB_nFx",
    "outputId": "1690f77b-52f2-4e9d-9535-04be69eaad0a"
   },
   "outputs": [
    {
     "name": "stdout",
     "output_type": "stream",
     "text": [
      "Using device cuda:0\n"
     ]
    }
   ],
   "source": [
    "use_cuda = True\n",
    "use_cuda = False if not use_cuda else torch.cuda.is_available()\n",
    "device = torch.device('cuda:0' if use_cuda else 'cpu')\n",
    "torch.cuda.get_device_name(device) if use_cuda else 'cpu'\n",
    "print('Using device', device)"
   ]
  },
  {
   "cell_type": "markdown",
   "metadata": {
    "collapsed": false,
    "id": "kGmTWnQYq2Ug"
   },
   "source": [
    "# PyTorch tutorial\n",
    "\n",
    "PyTorch is a library for deep learning on arbitray datasets, including irregular input data such as graphs, point clouds and manifolds. \n",
    "\n",
    "In this short tutorial we will explore some of its features to handle data in tensors. \n",
    "If you want to, you can look into more [detailed PyTorch tutorials](https://pytorch.org/tutorials/) online."
   ]
  },
  {
   "cell_type": "code",
   "execution_count": 355,
   "metadata": {
    "collapsed": false,
    "id": "gadPm82Ce7NA"
   },
   "outputs": [],
   "source": [
    "# create numpy array\n",
    "numpyarray = np.arange(10).reshape(2, 5)\n",
    "# convert to pytorch tensor\n",
    "a = torch.tensor(numpyarray)\n",
    "# or\n",
    "a = torch.from_numpy(numpyarray)"
   ]
  },
  {
   "cell_type": "markdown",
   "metadata": {
    "collapsed": false,
    "id": "aUpPhyFZfMWM"
   },
   "source": [
    "Let us find out what the properties of this tensor 'a' are."
   ]
  },
  {
   "cell_type": "code",
   "execution_count": 356,
   "metadata": {
    "colab": {
     "base_uri": "https://localhost:8080/"
    },
    "collapsed": false,
    "id": "DbD1a1PEfu-5",
    "outputId": "bf20eeaa-b3ac-4196-9a03-0522bfdb0a4e"
   },
   "outputs": [
    {
     "name": "stdout",
     "output_type": "stream",
     "text": [
      "[[0 1 2 3 4]\n",
      " [5 6 7 8 9]]\n",
      "tensor([[0, 1, 2, 3, 4],\n",
      "        [5, 6, 7, 8, 9]])\n"
     ]
    }
   ],
   "source": [
    "# TODO print the array\n",
    "print(numpyarray) # np.array\n",
    "print(a) # torch.tensor"
   ]
  },
  {
   "cell_type": "code",
   "execution_count": 357,
   "metadata": {
    "colab": {
     "base_uri": "https://localhost:8080/"
    },
    "collapsed": false,
    "id": "2SK56a7Rf7w1",
    "outputId": "ecefe234-e033-419b-f204-059dc9bb5595"
   },
   "outputs": [
    {
     "name": "stdout",
     "output_type": "stream",
     "text": [
      "<class 'numpy.ndarray'>\n",
      "torch.LongTensor\n"
     ]
    }
   ],
   "source": [
    "# TODO print its type\n",
    "print(type(numpyarray))\n",
    "print(a.type())"
   ]
  },
  {
   "cell_type": "code",
   "execution_count": 358,
   "metadata": {
    "colab": {
     "base_uri": "https://localhost:8080/"
    },
    "collapsed": false,
    "id": "Q4pQdKBEf-fq",
    "outputId": "c6a90d8f-b89d-4f47-d74a-29c75827c9b0"
   },
   "outputs": [
    {
     "name": "stdout",
     "output_type": "stream",
     "text": [
      "(2, 5)\n",
      "torch.Size([2, 5])\n"
     ]
    }
   ],
   "source": [
    "# TODO print its shape\n",
    "print(numpyarray.shape)\n",
    "print(a.shape)"
   ]
  },
  {
   "cell_type": "code",
   "execution_count": 359,
   "metadata": {
    "colab": {
     "base_uri": "https://localhost:8080/"
    },
    "collapsed": false,
    "id": "wpPKk4_jgFGK",
    "outputId": "4480c3b1-0615-490d-e23f-94ec9a17e4b7"
   },
   "outputs": [
    {
     "name": "stdout",
     "output_type": "stream",
     "text": [
      "10\n",
      "torch.Size([2, 5])\n"
     ]
    }
   ],
   "source": [
    "# TODO print its size\n",
    "print(numpyarray.size)\n",
    "print(a.size())"
   ]
  },
  {
   "cell_type": "code",
   "execution_count": 360,
   "metadata": {
    "colab": {
     "base_uri": "https://localhost:8080/"
    },
    "collapsed": false,
    "id": "Jstfx0J-jdgm",
    "outputId": "7613e3d6-d4b4-4a73-fca1-5c43f9fa2d3b"
   },
   "outputs": [
    {
     "name": "stdout",
     "output_type": "stream",
     "text": [
      "[[0 1 2 3 4]\n",
      " [5 6 7 8 9]]\n",
      "10\n"
     ]
    }
   ],
   "source": [
    "# TODO convert the tensor back to a numpy array and print its size again\n",
    "a_np = a.numpy()\n",
    "print(a_np)\n",
    "print(a_np.size)"
   ]
  },
  {
   "cell_type": "markdown",
   "metadata": {
    "collapsed": false,
    "id": "g48rvntriAwy"
   },
   "source": [
    "Let's create some new tensors."
   ]
  },
  {
   "cell_type": "code",
   "execution_count": 361,
   "metadata": {
    "colab": {
     "base_uri": "https://localhost:8080/"
    },
    "collapsed": false,
    "id": "IbJHIVPKic65",
    "outputId": "c7ba1b0e-5292-42a8-c11c-5eb426cae66e"
   },
   "outputs": [
    {
     "name": "stdout",
     "output_type": "stream",
     "text": [
      "tensor([[1, 1, 1, 1, 1],\n",
      "        [1, 1, 1, 1, 1]], dtype=torch.int32)\n"
     ]
    }
   ],
   "source": [
    "# TODO create tensor (2,5) filled with ones of type int and print it\n",
    "a_1 = torch.ones(2,5, dtype=torch.int)\n",
    "print(a_1)"
   ]
  },
  {
   "cell_type": "code",
   "execution_count": 362,
   "metadata": {
    "colab": {
     "base_uri": "https://localhost:8080/"
    },
    "collapsed": false,
    "id": "3GgCNZ3ei0J7",
    "outputId": "5626a027-57ab-45bf-ede5-f82fed98332e"
   },
   "outputs": [
    {
     "name": "stdout",
     "output_type": "stream",
     "text": [
      "tensor([[0, 0, 0, 0],\n",
      "        [0, 0, 0, 0],\n",
      "        [0, 0, 0, 0]], dtype=torch.int32)\n"
     ]
    }
   ],
   "source": [
    "# TODO create tensor (3,4) filled with zeros and print it\n",
    "a_2 = torch.zeros(3,4, dtype=torch.int)\n",
    "print(a_2)"
   ]
  },
  {
   "cell_type": "code",
   "execution_count": 363,
   "metadata": {
    "colab": {
     "base_uri": "https://localhost:8080/"
    },
    "collapsed": false,
    "id": "y_G9-xG1jJE6",
    "outputId": "870320bb-4500-486d-e771-69e41b366872"
   },
   "outputs": [
    {
     "data": {
      "text/plain": [
       "tensor([[0, 5],\n",
       "        [1, 6],\n",
       "        [2, 7],\n",
       "        [3, 8],\n",
       "        [4, 9]])"
      ]
     },
     "execution_count": 363,
     "metadata": {
      "tags": null
     },
     "output_type": "execute_result"
    }
   ],
   "source": [
    "# TODO transpose a\n",
    "a.t()"
   ]
  },
  {
   "cell_type": "markdown",
   "metadata": {
    "collapsed": false,
    "id": "NLMyDyWHWFWc"
   },
   "source": [
    "Now change a value in the numpy array. Does the corresponding tensor change?"
   ]
  },
  {
   "cell_type": "code",
   "execution_count": 364,
   "metadata": {
    "colab": {
     "base_uri": "https://localhost:8080/"
    },
    "collapsed": false,
    "id": "Ufbn0kQKVU2e",
    "outputId": "3b970b13-c19e-4b3f-d696-b06f4c7ecc10"
   },
   "outputs": [
    {
     "name": "stdout",
     "output_type": "stream",
     "text": [
      "[[999   1   2   3   4]\n",
      " [  5   6   7   8   9]]\n",
      "tensor([[999,   1,   2,   3,   4],\n",
      "        [  5,   6,   7,   8,   9]])\n"
     ]
    }
   ],
   "source": [
    "# TODO change value in numpy array and inspect the tensor a\n",
    "numpyarray[0][0] = 999\n",
    "print(numpyarray)\n",
    "print(a)"
   ]
  },
  {
   "cell_type": "markdown",
   "metadata": {
    "collapsed": false,
    "id": "mEMlFZpejdhV"
   },
   "source": [
    "**JA!**\n",
    "\n",
    "Does it work the other way round as well?\n",
    "\n",
    "**JA!**\n"
   ]
  },
  {
   "cell_type": "code",
   "execution_count": 365,
   "metadata": {
    "colab": {
     "base_uri": "https://localhost:8080/"
    },
    "collapsed": false,
    "id": "Huwq_cz47Tqm",
    "outputId": "5497633d-2c30-48b2-9f14-95accd28a2e6"
   },
   "outputs": [
    {
     "name": "stdout",
     "output_type": "stream",
     "text": [
      "tensor([[999,   1,   2,   3,   4],\n",
      "        [111,   6,   7,   8,   9]])\n",
      "[[999   1   2   3   4]\n",
      " [111   6   7   8   9]]\n"
     ]
    }
   ],
   "source": [
    "a[1][0] = 111\n",
    "print(a)\n",
    "print(numpyarray)"
   ]
  },
  {
   "cell_type": "markdown",
   "metadata": {
    "collapsed": false,
    "id": "-6n92SYfyW9_"
   },
   "source": [
    "Now we want to make use of the different devices available, namely cpu and gpu. "
   ]
  },
  {
   "cell_type": "code",
   "execution_count": 366,
   "metadata": {
    "colab": {
     "base_uri": "https://localhost:8080/"
    },
    "collapsed": false,
    "id": "XrFr7fLfyyCB",
    "outputId": "8505aa08-154d-4e10-e04b-7e28dd9eedb0"
   },
   "outputs": [
    {
     "name": "stdout",
     "output_type": "stream",
     "text": [
      "tensor([[999,   1,   2,   3,   4],\n",
      "        [111,   6,   7,   8,   9]], device='cuda:0')\n"
     ]
    }
   ],
   "source": [
    "# TODO move a copy of 'a' it to the gpu\n",
    "a_1 = a.to(device)\n",
    "a[0][0] = 333\n",
    "print(a_1)"
   ]
  },
  {
   "cell_type": "markdown",
   "metadata": {
    "collapsed": false,
    "id": "Cjfa7JO4jdhi"
   },
   "source": [
    "If you change a value in the tensor now, does the corresponding value in the tensor on the GPU change as well?\n",
    "\n",
    "**NEIN!**\n"
   ]
  },
  {
   "cell_type": "markdown",
   "metadata": {
    "collapsed": false,
    "id": "VY01lmDfwgYY"
   },
   "source": [
    "# MNIST Dataset\n",
    "This dataset contains handwritten digits, and it is widely used by the machine learning community. It's really useful that you get accustomed with this dataset, as you'll come across later under other concepts. \n",
    "\n",
    "The first thing you should always do when you begin to work with a data set that you have not used before is to play around with it to get a better understanding of its properties."
   ]
  },
  {
   "cell_type": "markdown",
   "metadata": {
    "collapsed": false,
    "id": "qz0fKK90vApA"
   },
   "source": [
    "**Download** the train split of the MNIST dataset using torchvision dataset classes."
   ]
  },
  {
   "cell_type": "code",
   "execution_count": 367,
   "metadata": {
    "collapsed": false,
    "id": "utjtGRHcvCgd"
   },
   "outputs": [],
   "source": [
    "data_dir = pathlib.Path('data/')\n",
    "mnist_train = datasets.MNIST(data_dir, download=True, train=True)"
   ]
  },
  {
   "cell_type": "markdown",
   "metadata": {
    "collapsed": false,
    "id": "3V34jLJ-vX5P"
   },
   "source": [
    "Let's check the first ten samples to see what they look like"
   ]
  },
  {
   "cell_type": "code",
   "execution_count": 368,
   "metadata": {
    "colab": {
     "base_uri": "https://localhost:8080/",
     "height": 82
    },
    "collapsed": false,
    "id": "V1mbfCdEUfPM",
    "outputId": "22f64d95-c2b6-4415-e030-199532064460"
   },
   "outputs": [
    {
     "data": {
      "image/png": "[encoded data removed]",
      "text/plain": [
       "<PIL.Image.Image image mode=L size=28x28 at 0x7F1981236A90>"
      ]
     },
     "metadata": {
      "tags": null
     },
     "output_type": "display_data"
    },
    {
     "name": "stdout",
     "output_type": "stream",
     "text": [
      "Label: 5\n"
     ]
    }
   ],
   "source": [
    "X_sample, y_sample = mnist_train[0]\n",
    "# TODO: display the label and the image\n",
    "display(X_sample)\n",
    "print(f'Label: {y_sample}')"
   ]
  },
  {
   "cell_type": "markdown",
   "metadata": {
    "collapsed": false,
    "id": "rjwoK4uoyyom"
   },
   "source": [
    "Look at the types of X and y."
   ]
  },
  {
   "cell_type": "code",
   "execution_count": 369,
   "metadata": {
    "colab": {
     "base_uri": "https://localhost:8080/"
    },
    "collapsed": false,
    "id": "-esZPsHJyyon",
    "outputId": "63a73705-5fc5-4d86-b499-e1d3c305e4ad"
   },
   "outputs": [
    {
     "name": "stdout",
     "output_type": "stream",
     "text": [
      "<class 'PIL.Image.Image'>\n",
      "<class 'int'>\n"
     ]
    }
   ],
   "source": [
    "# TODO: display types\n",
    "print(type(X_sample))\n",
    "print(type(y_sample))"
   ]
  },
  {
   "cell_type": "markdown",
   "metadata": {
    "collapsed": false,
    "id": "3HBk4RHHypXv"
   },
   "source": [
    "How many data points are there in the dataset?"
   ]
  },
  {
   "cell_type": "code",
   "execution_count": 370,
   "metadata": {
    "colab": {
     "base_uri": "https://localhost:8080/"
    },
    "collapsed": false,
    "id": "9LQZ5xblyxOo",
    "outputId": "87f3f19a-d649-4c5b-96f9-963c79544719"
   },
   "outputs": [
    {
     "name": "stdout",
     "output_type": "stream",
     "text": [
      "60000\n"
     ]
    }
   ],
   "source": [
    "# TODO: print out the length of the dataset\n",
    "print(len(mnist_train))"
   ]
  },
  {
   "cell_type": "code",
   "execution_count": 371,
   "metadata": {
    "colab": {
     "base_uri": "https://localhost:8080/",
     "height": 161
    },
    "collapsed": false,
    "id": "qtAkG-5ez4KH",
    "outputId": "2ba25684-520c-429f-a61c-67697b281f6c"
   },
   "outputs": [
    {
     "data": {
      "image/png": "[encoded data removed]",
      "text/plain": [
       "<Figure size 1440x144 with 10 Axes>"
      ]
     },
     "metadata": {
      "needs_background": "light",
      "tags": null
     },
     "output_type": "display_data"
    }
   ],
   "source": [
    "N = 10\n",
    "fig, axes = plt.subplots(1, N, figsize=(2*N, 2))\n",
    "X, y = mnist_train.data, mnist_train.targets\n",
    "for ax, image, label in zip(axes, X, y):\n",
    "  ax.set_title(\"label: {}\".format(label))\n",
    "  ax.axis('off')\n",
    "  ax.imshow(image.reshape(28,28), cmap='gray') # Remember, images are 28x28\n"
   ]
  },
  {
   "cell_type": "markdown",
   "metadata": {
    "collapsed": false,
    "id": "f9PJLI5il2HP"
   },
   "source": [
    "The following plots show more information about the dataset:\n",
    "\n"
   ]
  },
  {
   "cell_type": "markdown",
   "metadata": {
    "collapsed": false,
    "id": "v-tajbPdzAV6"
   },
   "source": [
    "# Pre-process the data\n",
    "\n",
    "We have seen above that the contents of the data set are of type [(PIL.Image.Image, Int)]. However, pytorch (the core that is, not torchvision or torchtext) is only equipped to work on Tensor objects. So we need to **transform** _PIL.Image.Image_ to _torch.Tensor_. Torchvision takes care of that for us. _transforms.ToTensor_ is a transformation operation that maps a _PIL.Image.Image_ to a torch tensor."
   ]
  },
  {
   "cell_type": "code",
   "execution_count": 372,
   "metadata": {
    "collapsed": false,
    "id": "3_4dfCe-elWU"
   },
   "outputs": [],
   "source": [
    "mnist_train = datasets.MNIST(data_dir, download=True, train=True, transform=transforms.ToTensor())"
   ]
  },
  {
   "cell_type": "markdown",
   "metadata": {
    "collapsed": false,
    "id": "7oMMXeCEPIjO"
   },
   "source": [
    "## Normalization\n"
   ]
  },
  {
   "cell_type": "markdown",
   "metadata": {
    "collapsed": false,
    "id": "Swggb0KdPLhE"
   },
   "source": [
    "tmp_dataloader = torch.utils.data.DataLoader(mnist_train, batch_size=len(mnist_train), shuffle=True)Furthermore, we will **normalize** the data to zero-mean and unit-variance. _transforms.Normalize_ takes the mean and std-dev for each channel and rescales the data to zero-mean, unit-variance. \n",
    "\n",
    "See https://pytorch.org/docs/stable/torchvision/transforms.html#torchvision.transforms.Normalize for more information.\n",
    "\n",
    "We can combine multiple transformations via _transforms.Compose_.\n",
    "\n",
    "So let's create a new dataset that we will be using for testing purposes with those transformations in-place.\n"
   ]
  },
  {
   "cell_type": "code",
   "execution_count": 373,
   "metadata": {
    "collapsed": false,
    "id": "UCYxZokWjdig"
   },
   "outputs": [],
   "source": [
    "tmp_dataloader = torch.utils.data.DataLoader(mnist_train, batch_size=len(mnist_train), shuffle=True)"
   ]
  },
  {
   "cell_type": "code",
   "execution_count": 374,
   "metadata": {
    "colab": {
     "base_uri": "https://localhost:8080/"
    },
    "collapsed": false,
    "id": "AimE3wumz0_9",
    "outputId": "8fcf208d-6880-42e9-c75b-f35f9d531098"
   },
   "outputs": [
    {
     "name": "stdout",
     "output_type": "stream",
     "text": [
      "mean: 0.3081, sd: 0.1307\n"
     ]
    }
   ],
   "source": [
    "# TODO calculate mean and standard deviation of MNIST train dataset\n",
    "img_iter = iter(tmp_dataloader)\n",
    "img_item = img_iter.next()\n",
    "img_data = img_item[0]\n",
    "mean, std = torch.std_mean(img_data)\n",
    "print(f'mean: {mean:.4f}, sd: {std:.4f}')"
   ]
  },
  {
   "cell_type": "code",
   "execution_count": 375,
   "metadata": {
    "collapsed": false,
    "id": "q5KR3dhPYFSI"
   },
   "outputs": [],
   "source": [
    "mnist_transforms = transforms.Compose([transforms.ToTensor(), transforms.Normalize((mean,), (std,))])"
   ]
  },
  {
   "cell_type": "code",
   "execution_count": 376,
   "metadata": {
    "collapsed": false,
    "id": "ZPoJIEKOjdi0"
   },
   "outputs": [],
   "source": [
    "# TODO load the test set applying the transform defined above\n",
    "mnist_test = datasets.MNIST(data_dir, download=True, train=False, transform=mnist_transforms)"
   ]
  },
  {
   "cell_type": "markdown",
   "metadata": {
    "collapsed": false,
    "id": "ewhn8nboAvYh"
   },
   "source": [
    "Now let's create a dataloader for the test dataset.\n"
   ]
  },
  {
   "cell_type": "code",
   "execution_count": 377,
   "metadata": {
    "collapsed": false,
    "id": "Z-8kQnghANgs"
   },
   "outputs": [],
   "source": [
    "batch_size = 256"
   ]
  },
  {
   "cell_type": "code",
   "execution_count": 378,
   "metadata": {
    "collapsed": false,
    "id": "jZwWf7CcBmE9"
   },
   "outputs": [],
   "source": [
    "# TODO create the dataloader for the test set\n",
    "test_dataloader = torch.utils.data.DataLoader(mnist_train, batch_size=batch_size, shuffle=True)"
   ]
  },
  {
   "cell_type": "markdown",
   "metadata": {
    "collapsed": false,
    "id": "fvHI6P24IqZ3"
   },
   "source": [
    "## Training, Validation and Test Sets\n",
    "\n",
    "In the previous step we created a test dataset. \n",
    "\n",
    "But one dataset is not enough for training a model. In total, we need three datasets: one for training, one for validation in the training process, and the last one for testing the results of the training on unseen data. \n",
    "\n",
    "Note that you should not use the test set in any part of your training and model selection procedure. It should be only used for showing the final results."
   ]
  },
  {
   "cell_type": "markdown",
   "metadata": {
    "collapsed": false,
    "id": "NmLO9PKSMwBs"
   },
   "source": [
    "Now we need to create the dataset and dataloader for training and validation. \n",
    "Both sets are used in the process of model fitting (visualized in the graphic below taken from the lecture slides).\n",
    "While the training set needs to be quite large, the validation set can be relatively small."
   ]
  },
  {
   "cell_type": "markdown",
   "metadata": {
    "collapsed": false,
    "id": "wXtIXTEiRApP"
   },
   "source": []
  },
  {
   "cell_type": "markdown",
   "metadata": {
    "collapsed": false,
    "id": "5fZwvBwZUqfE"
   },
   "source": [
    "In order to split up the remaining data in training and validation, we first need to **load** the datasets.\n",
    "Above, we did that already for the test set data. Now it is your turn to do it for the **training** data."
   ]
  },
  {
   "cell_type": "code",
   "execution_count": 379,
   "metadata": {
    "collapsed": false,
    "id": "RSoNJGNECGw8"
   },
   "outputs": [],
   "source": [
    "# TODO download the dataset for training and validation, this time with normalization transform\n",
    "mnist_rest = datasets.MNIST(data_dir, download=True, train=True, transform=mnist_transforms)"
   ]
  },
  {
   "cell_type": "code",
   "execution_count": 380,
   "metadata": {
    "colab": {
     "base_uri": "https://localhost:8080/"
    },
    "collapsed": false,
    "id": "YgUQIx_5kXv0",
    "outputId": "7c840834-a3f9-4682-ec4a-b4d3a3aee226"
   },
   "outputs": [
    {
     "data": {
      "text/plain": [
       "60000"
      ]
     },
     "execution_count": 380,
     "metadata": {
      "tags": null
     },
     "output_type": "execute_result"
    }
   ],
   "source": [
    "len(mnist_rest)"
   ]
  },
  {
   "cell_type": "markdown",
   "metadata": {
    "collapsed": false,
    "id": "kgBH3RfQUuz6"
   },
   "source": [
    "Split the dataset in two sets, one for training and one for validation. Take 10 % of the dataset as validation set.\n",
    "Assign samples *randomly* to the training and validation set, using a fixed seed to ensure reproducibility."
   ]
  },
  {
   "cell_type": "code",
   "execution_count": 381,
   "metadata": {
    "collapsed": false,
    "id": "cf2DznpJT8wK"
   },
   "outputs": [],
   "source": [
    "# TODO split the dataset\n",
    "mnist_train, mnist_val = torch.utils.data.random_split(mnist_rest, [int(len(mnist_rest)*0.9), int(len(mnist_rest)*0.1)], generator=torch.Generator().manual_seed(1234))"
   ]
  },
  {
   "cell_type": "markdown",
   "metadata": {
    "collapsed": false,
    "id": "B6LDumpJUw-x"
   },
   "source": [
    "To load the data for model training, we need to define the **dataloaders**.\n",
    "A dataloader represents a Python iterable over a dataset and draws mini batches with random samples.\n",
    "Use the batch size as specified above.\n",
    "Make sure we get shuffled samples in batches."
   ]
  },
  {
   "cell_type": "code",
   "execution_count": 382,
   "metadata": {
    "collapsed": false,
    "id": "6wOV2iQYKA4Y"
   },
   "outputs": [],
   "source": [
    "# TODO create dataloader for training and validation\n",
    "val_dataloader = torch.utils.data.DataLoader(mnist_val, batch_size=batch_size, shuffle=True)\n",
    "train_dataloader = torch.utils.data.DataLoader(mnist_train, batch_size=batch_size, shuffle=True)"
   ]
  },
  {
   "cell_type": "markdown",
   "metadata": {
    "collapsed": false,
    "id": "_kD_tfv7EhBV"
   },
   "source": [
    "Let's get a data point now to see what we're dealing with. \n",
    "\n",
    "For this, you might want to check out how python's iterator protocol works. It's simple and will give you an important insight into python: https://wiki.python.org/moin/Iterator."
   ]
  },
  {
   "cell_type": "code",
   "execution_count": 383,
   "metadata": {
    "collapsed": false,
    "id": "bROYEcbCEjpB"
   },
   "outputs": [],
   "source": [
    "# TODO display an element of the train_dataloader\n",
    "x, y = next(iter(train_dataloader))"
   ]
  },
  {
   "cell_type": "code",
   "execution_count": 384,
   "metadata": {
    "colab": {
     "base_uri": "https://localhost:8080/"
    },
    "collapsed": false,
    "id": "YJwRzi_MHfyV",
    "outputId": "9c6daf95-6059-4f01-aa3c-00fc04175aa1"
   },
   "outputs": [
    {
     "name": "stdout",
     "output_type": "stream",
     "text": [
      "torch.Size([256, 1, 28, 28]) torch.Size([256])\n"
     ]
    }
   ],
   "source": [
    "# TODO display the dimensions of x and y\n",
    "print(x.size(), y.size())"
   ]
  },
  {
   "cell_type": "markdown",
   "metadata": {
    "collapsed": false,
    "id": "P4VmDBNvCmkp"
   },
   "source": [
    "x has size (\\[batchsize\\], 1, 28, 28) --> 256 batches (or whatever you have defined in your data loader), 1 channel (the images are monochrome), and the dimensions of the images are 28 height/rows and 28 width/cols.\n",
    "\n",
    "y has size (\\[batchsize\\]) --> 256 images (again depends on your data loader config). There's one label for each of the images in the batch."
   ]
  },
  {
   "cell_type": "markdown",
   "metadata": {
    "collapsed": false,
    "id": "GllzIkHzluH-"
   },
   "source": [
    "# Stochastic Gradient Descent and Logistic Regression\n",
    "Now that you know what MNIST looks like, in this task you can work with the dataset to classify handwritten digits.\n"
   ]
  },
  {
   "cell_type": "markdown",
   "metadata": {
    "collapsed": false,
    "id": "EasgugDjSSrt"
   },
   "source": [
    "## Create a model\n",
    "\n",
    "The task is now to define a model to train on the data. In this simple example, we only need **one fully-connected layer** as defined in *torch.nn.Linear* that produces a predicted label for a specific training image.\n",
    "\n",
    "Before, we set some variables, like the input and output size of the linear layer, how long we want to train the model (number of epochs) and the learning rate.\n"
   ]
  },
  {
   "cell_type": "code",
   "execution_count": 385,
   "metadata": {
    "collapsed": false,
    "id": "ZUq3zcWgMVwD"
   },
   "outputs": [],
   "source": [
    "epochs = 1\n",
    "input_dim = 28 * 28\n",
    "output_dim = 10\n",
    "lr = 0.001"
   ]
  },
  {
   "cell_type": "code",
   "execution_count": 386,
   "metadata": {
    "collapsed": false,
    "id": "FBQhYDR1MDUr"
   },
   "outputs": [],
   "source": [
    "class LogisticRegression(torch.nn.Module):\n",
    "    \"\"\"\n",
    "    Logistic regression model\n",
    "    inherits the torch.nn.Module which is the base class \n",
    "    for all neural network modules.\n",
    "    \"\"\"\n",
    "    def __init__(self, input_dim, output_dim):\n",
    "        \"\"\" Initializes internal Module state. \"\"\"\n",
    "        super(LogisticRegression, self).__init__()\n",
    "        # TODO define linear layer for the model\n",
    "        self.ll = torch.nn.Linear(input_dim, output_dim)\n",
    "\n",
    "    def forward(self, x):\n",
    "        \"\"\" Defines the computation performed at every call. \"\"\"\n",
    "        # What are the dimensions of your input layer?\n",
    "        # batch size (*1) * 28 * 28 \n",
    "        # TODO flatten the input to a suitable size for the initial layer\n",
    "        x = x.view(-1, input_dim)\n",
    "        # TODO run the data through the layer\n",
    "        outputs = self.ll(x)\n",
    "        return outputs"
   ]
  },
  {
   "cell_type": "markdown",
   "metadata": {
    "collapsed": false,
    "id": "NhtEaHPxw3Hu"
   },
   "source": [
    "### Instantiate the model\n",
    "\n",
    "Let us instantiate the model and take a look at the inside. It is always a good idea to verify that the actual architecture is what you intended it to be. Especially, when you start to create layers dynamically it is great for inspection/verification/debugging."
   ]
  },
  {
   "cell_type": "code",
   "execution_count": 387,
   "metadata": {
    "collapsed": false,
    "id": "9h8Zg06BOkft"
   },
   "outputs": [],
   "source": [
    "# TODO instantiate the model\n",
    "model = LogisticRegression(input_dim, output_dim)"
   ]
  },
  {
   "cell_type": "markdown",
   "metadata": {
    "collapsed": false,
    "id": "TGLn5kqx0Nzb"
   },
   "source": [
    "Move the model to the GPU if available."
   ]
  },
  {
   "cell_type": "code",
   "execution_count": 388,
   "metadata": {
    "collapsed": false,
    "id": "MhOt6uzU0UBb"
   },
   "outputs": [],
   "source": [
    "# TODO move model to device you specified above\n",
    "model_g = model.to(device)"
   ]
  },
  {
   "cell_type": "markdown",
   "metadata": {
    "collapsed": false,
    "id": "M9zCHNoVxM46"
   },
   "source": [
    "### Define a loss function\n",
    "\n",
    "Since we're deadling with multi-class classification (i.e. multiple categories), softmax is the canonical choice for the final layer activation. Softmax provides us with a distribution of values in [0, 1] that sum up to 1 over all categories.\n",
    "\n",
    "We then use the cross entropy to compute the loss.\n",
    "\n",
    "**Hint** Due to numerical reasons, softmax and cross entropy are combined to operate more stable. Read more about it in https://pytorch.org/docs/stable/generated/torch.nn.CrossEntropyLoss.html."
   ]
  },
  {
   "cell_type": "code",
   "execution_count": 389,
   "metadata": {
    "collapsed": false,
    "id": "NDUHKbO3OmWU"
   },
   "outputs": [],
   "source": [
    "# TODO define loss function\n",
    "loss_function = torch.nn.CrossEntropyLoss()"
   ]
  },
  {
   "cell_type": "markdown",
   "metadata": {
    "collapsed": false,
    "id": "VcANGg6Lx-Gk"
   },
   "source": [
    "### Define the optimizer\n",
    "\n",
    "The optimizer is the learning algorithm we use. In this case, we use Stochastic Gradient Descent (SGD)."
   ]
  },
  {
   "cell_type": "code",
   "execution_count": 390,
   "metadata": {
    "collapsed": false,
    "id": "F_d89VCXOruD"
   },
   "outputs": [],
   "source": [
    "optimizer = torch.optim.SGD(model.parameters(), lr=lr)"
   ]
  },
  {
   "cell_type": "markdown",
   "metadata": {
    "collapsed": false,
    "id": "tli1No3uUPU7"
   },
   "source": [
    "### Train the model\n",
    "\n",
    "Everything is set for the model to train!\n",
    "\n",
    "- In the forward pass, the prediction is made using the previously defined model on the images of the dataloader.\n",
    "- Then the loss (or error) needs to be computed by comparing the prediction to the actual label.\n",
    "- In the backward pass, the model learns and updates its weights based on the current gradient."
   ]
  },
  {
   "cell_type": "code",
   "execution_count": 391,
   "metadata": {
    "collapsed": false,
    "id": "2XKR1GPOOy3b"
   },
   "outputs": [],
   "source": [
    "# TODO fill in the missing lines\n",
    "for epoch in range(epochs):\n",
    "    for i, (images, labels) in enumerate(train_dataloader):\n",
    "        # Delete the gradients from last training iteration\n",
    "        optimizer.zero_grad()\n",
    "\n",
    "        # Forward pass: get predictions\n",
    "        y_pred = model_g(images.to(device))\n",
    "\n",
    "        # Compute loss\n",
    "        loss = loss_function(y_pred.to(device), labels.to(device))\n",
    "\n",
    "        # Backward pass 1. calculate gradients based on loss function\n",
    "        loss.backward()\n",
    "\n",
    "        # Backward pass 2. update weights with optimizer\n",
    "        optimizer.step()\n"
   ]
  },
  {
   "cell_type": "markdown",
   "metadata": {
    "collapsed": false,
    "id": "swruGhCBUMWx"
   },
   "source": [
    "### Make a prediction\n",
    "\n",
    "Now that our model is trained, we can make a new prediction by inputting an unseen image of the test dataset.\n",
    "\n",
    "Run this cell several times, does the model predict accurately?\n",
    "\n",
    "Set the number of epochs to 10 and try again!"
   ]
  },
  {
   "cell_type": "markdown",
   "metadata": {
    "collapsed": false,
    "id": "AMjr2BOajdku"
   },
   "source": [
    "**works fine...**"
   ]
  },
  {
   "cell_type": "code",
   "execution_count": 392,
   "metadata": {
    "colab": {
     "base_uri": "https://localhost:8080/"
    },
    "collapsed": false,
    "id": "uzgzX4IfCoqJ",
    "outputId": "a5a815d6-80c4-4278-fe6a-50531b382880"
   },
   "outputs": [
    {
     "name": "stdout",
     "output_type": "stream",
     "text": [
      "predicted label:  tensor(9, device='cuda:0')\n",
      "given label:  tensor(9)\n"
     ]
    }
   ],
   "source": [
    "# get a random element of the test dataloader\n",
    "i = random.randint(0, batch_size)\n",
    "image, label = next(iter(test_dataloader))\n",
    "\n",
    "# make a prediction\n",
    "model.eval()\n",
    "# no automatic gradient update needed in evaluation\n",
    "with torch.no_grad():\n",
    "    y_pred = model(image[i].to(device))\n",
    "\n",
    "# print predicted label and given label\n",
    "print(\"predicted label: \", y_pred.argmax())\n",
    "print(\"given label: \", label[i])"
   ]
  },
  {
   "cell_type": "markdown",
   "metadata": {
    "collapsed": false,
    "id": "wwIc2r23TUe3"
   },
   "source": [
    "## Track loss and accuracy\n",
    "\n",
    "What we have seen so far is the basic principle of training a model and making a prediction. But one might be interested to see more about the training process, for instance how the training error evolves with time and how the accuracy (hopefully) increases while training the model longer.\n",
    "\n",
    "Additionally we want to plot the confusion matrix at the end of the training procedure, to get an overview about which digits were easily predicted, and which digits were often confused for other, similar looking digits.\n",
    "At the end of this notebook you can find an example plot of the confusion matrix.\n",
    "\n",
    "For this step, we are going to refine the training process and add some important information saving for plotting."
   ]
  },
  {
   "cell_type": "code",
   "execution_count": 393,
   "metadata": {
    "collapsed": false,
    "id": "4BYkT-UUZ7C7"
   },
   "outputs": [],
   "source": [
    "def accuracy(correct, total): \n",
    "    \"\"\"\n",
    "    function to calculate the accuracy given the\n",
    "        correct: number of correctly classified\n",
    "        total: total number\n",
    "    returns the ratio\n",
    "    \"\"\"\n",
    "    return float(correct)/total"
   ]
  },
  {
   "cell_type": "code",
   "execution_count": 394,
   "metadata": {
    "collapsed": false,
    "id": "FmVlH408Tfkn"
   },
   "outputs": [],
   "source": [
    "# TODO fill in the missing lines\n",
    "def train(dataloader, optimizer, model, loss_fn, device, master_bar):\n",
    "    \"\"\" method to train the model \"\"\"\n",
    "    epoch_loss = []\n",
    "    epoch_correct, epoch_total = 0, 0\n",
    "\n",
    "    for x, y in fastprogress.progress_bar(dataloader, parent=master_bar):\n",
    "        optimizer.zero_grad()\n",
    "        model.train()\n",
    "\n",
    "        # Forward pass\n",
    "        y_pred = model(x.to(device))\n",
    "        # For calculating the accuracy, save the number of correctly classified images and the total number\n",
    "        for i in range(y_pred.shape[0]):\n",
    "          epoch_correct += y_pred[i].argmax().item() == y[i].item()\n",
    "        epoch_total += dataloader.batch_size  \n",
    "        # Compute loss\n",
    "        loss = loss_function(y_pred.to(device), y.to(device))\n",
    "        # Backward pass\n",
    "        loss.backward()\n",
    "        optimizer.step()\n",
    "        # For plotting the train loss, save it for each sample\n",
    "        epoch_loss.append(loss.item())\n",
    "    # Return the mean loss and the accuracy of this epoch\n",
    "    return sum(epoch_loss)/len(epoch_loss), accuracy(epoch_correct, epoch_total)\n"
   ]
  },
  {
   "cell_type": "code",
   "execution_count": 395,
   "metadata": {
    "collapsed": false,
    "id": "kJ1X0VTHZ-lS"
   },
   "outputs": [],
   "source": [
    "# TODO fill in the missing lines\n",
    "def validate(dataloader, model, loss_fn, device, master_bar):\n",
    "    \"\"\" method to compute the metrics on the validation set \"\"\"\n",
    "    epoch_loss = []\n",
    "    epoch_correct, epoch_total = 0, 0\n",
    "    confusion_matrix = torch.zeros(10, 10)    \n",
    "\n",
    "    model.eval()\n",
    "    with torch.no_grad():\n",
    "        for x, y in fastprogress.progress_bar(dataloader, parent=master_bar):\n",
    "            # make a prediction on validation set\n",
    "            y_pred = model(x.to(device))\n",
    "            # For calculating the accuracy, save the number of correctly classified images and the total number\n",
    "            for i in range(y_pred.shape[0]):\n",
    "              epoch_correct += y_pred[i].argmax().item() == y[i].item()\n",
    "              confusion_matrix[9-y[i].item(), y_pred[i].argmax().item()].add_(1)\n",
    "            epoch_total += dataloader.batch_size\n",
    "\n",
    "            # Compute loss\n",
    "            loss = loss_function(y_pred.to(device), y.to(device))\n",
    "            # For plotting the train loss, save it\n",
    "            epoch_loss.append(loss.item())\n",
    "    # Return the mean loss, the accuracy and the confusion matrix\n",
    "    return sum(epoch_loss)/len(epoch_loss), accuracy(epoch_correct, epoch_total), confusion_matrix"
   ]
  },
  {
   "cell_type": "code",
   "execution_count": 396,
   "metadata": {
    "collapsed": false,
    "id": "dVh-o4vJVRLh"
   },
   "outputs": [],
   "source": [
    "def run_training(model, optimizer, loss_function, device, num_epochs, train_dataloader, val_dataloader):\n",
    "    \"\"\" method to run the training procedure \"\"\"\n",
    "    master_bar = fastprogress.master_bar(range(num_epochs))\n",
    "    train_losses, val_losses, train_accs, val_accs = [],[],[],[]\n",
    "\n",
    "    for epoch in master_bar:\n",
    "        # TODO train the model. Use the functions defined above.\n",
    "        epoch_train_loss, epoch_train_acc = train(train_dataloader, optimizer, model, loss_function, device, master_bar)\n",
    "        # TODO compute metrics on validation set. Use functions defined above.\n",
    "        epoch_val_loss, epoch_val_acc, confusion_matrix = validate(val_dataloader, model, loss_function, device, master_bar)\n",
    "\n",
    "        # Save losses and accuracies for plotting\n",
    "        train_losses.append(epoch_train_loss)\n",
    "        val_losses.append(epoch_val_loss)\n",
    "        train_accs.append(epoch_train_acc)\n",
    "        val_accs.append(epoch_val_acc)\n",
    "\n",
    "        master_bar.write(f'Train loss: {epoch_train_loss:.2f}, val loss: {epoch_val_loss:.2f}, train acc: {epoch_train_acc:.3f}, val acc {epoch_val_acc:.3f}')\n",
    "    return train_losses, val_losses, train_accs, val_accs, confusion_matrix"
   ]
  },
  {
   "cell_type": "code",
   "execution_count": 397,
   "metadata": {
    "colab": {
     "base_uri": "https://localhost:8080/",
     "height": 1000
    },
    "collapsed": false,
    "id": "vmnXzMswyysS",
    "outputId": "c58e0c7f-e55d-4d58-b540-4fbe64e08cbf"
   },
   "outputs": [
    {
     "data": {
      "text/html": [
       "Train loss: 0.54, val loss: 0.52, train acc: 0.846, val acc 0.826<p>Train loss: 0.46, val loss: 0.46, train acc: 0.867, val acc 0.842<p>Train loss: 0.42, val loss: 0.44, train acc: 0.876, val acc 0.850<p>Train loss: 0.40, val loss: 0.42, train acc: 0.884, val acc 0.857<p>Train loss: 0.38, val loss: 0.40, train acc: 0.888, val acc 0.860<p>Train loss: 0.37, val loss: 0.39, train acc: 0.892, val acc 0.863<p>Train loss: 0.36, val loss: 0.39, train acc: 0.894, val acc 0.865<p>Train loss: 0.35, val loss: 0.38, train acc: 0.896, val acc 0.866<p>Train loss: 0.35, val loss: 0.37, train acc: 0.899, val acc 0.868<p>Train loss: 0.34, val loss: 0.36, train acc: 0.901, val acc 0.869<p>Train loss: 0.34, val loss: 0.36, train acc: 0.902, val acc 0.871<p>Train loss: 0.33, val loss: 0.36, train acc: 0.903, val acc 0.872<p>Train loss: 0.33, val loss: 0.36, train acc: 0.905, val acc 0.873<p>Train loss: 0.33, val loss: 0.35, train acc: 0.906, val acc 0.874<p>Train loss: 0.32, val loss: 0.36, train acc: 0.907, val acc 0.875<p>Train loss: 0.32, val loss: 0.34, train acc: 0.908, val acc 0.876<p>Train loss: 0.32, val loss: 0.35, train acc: 0.909, val acc 0.878<p>Train loss: 0.31, val loss: 0.34, train acc: 0.909, val acc 0.877<p>Train loss: 0.31, val loss: 0.34, train acc: 0.910, val acc 0.879<p>Train loss: 0.31, val loss: 0.34, train acc: 0.911, val acc 0.879<p>Train loss: 0.31, val loss: 0.34, train acc: 0.911, val acc 0.879<p>Train loss: 0.31, val loss: 0.34, train acc: 0.912, val acc 0.880<p>Train loss: 0.31, val loss: 0.34, train acc: 0.913, val acc 0.880<p>Train loss: 0.30, val loss: 0.33, train acc: 0.914, val acc 0.881<p>Train loss: 0.30, val loss: 0.33, train acc: 0.914, val acc 0.880<p>Train loss: 0.30, val loss: 0.33, train acc: 0.914, val acc 0.882<p>Train loss: 0.30, val loss: 0.33, train acc: 0.914, val acc 0.881<p>Train loss: 0.30, val loss: 0.33, train acc: 0.915, val acc 0.882<p>Train loss: 0.30, val loss: 0.33, train acc: 0.915, val acc 0.882<p>Train loss: 0.30, val loss: 0.34, train acc: 0.915, val acc 0.882<p>Train loss: 0.29, val loss: 0.33, train acc: 0.916, val acc 0.882<p>Train loss: 0.29, val loss: 0.33, train acc: 0.916, val acc 0.883<p>Train loss: 0.29, val loss: 0.32, train acc: 0.916, val acc 0.883<p>Train loss: 0.29, val loss: 0.33, train acc: 0.917, val acc 0.883<p>Train loss: 0.29, val loss: 0.33, train acc: 0.917, val acc 0.884<p>Train loss: 0.29, val loss: 0.32, train acc: 0.917, val acc 0.883<p>Train loss: 0.29, val loss: 0.33, train acc: 0.917, val acc 0.884<p>Train loss: 0.29, val loss: 0.32, train acc: 0.918, val acc 0.884<p>Train loss: 0.29, val loss: 0.32, train acc: 0.918, val acc 0.885<p>Train loss: 0.29, val loss: 0.33, train acc: 0.918, val acc 0.884<p>Train loss: 0.29, val loss: 0.32, train acc: 0.918, val acc 0.886<p>Train loss: 0.29, val loss: 0.32, train acc: 0.918, val acc 0.884<p>Train loss: 0.28, val loss: 0.32, train acc: 0.919, val acc 0.885<p>Train loss: 0.28, val loss: 0.32, train acc: 0.919, val acc 0.886<p>Train loss: 0.28, val loss: 0.32, train acc: 0.919, val acc 0.885<p>Train loss: 0.28, val loss: 0.32, train acc: 0.920, val acc 0.885<p>Train loss: 0.28, val loss: 0.32, train acc: 0.920, val acc 0.886<p>Train loss: 0.28, val loss: 0.32, train acc: 0.920, val acc 0.886<p>Train loss: 0.28, val loss: 0.32, train acc: 0.921, val acc 0.885<p>Train loss: 0.28, val loss: 0.32, train acc: 0.920, val acc 0.886"
      ],
      "text/plain": [
       "<IPython.core.display.HTML object>"
      ]
     },
     "metadata": {
      "tags": null
     },
     "output_type": "display_data"
    }
   ],
   "source": [
    "num_epochs = 50\n",
    "train_losses, val_losses, train_accs, val_accs, confusion_matrix = run_training(model, optimizer, loss_function, device, num_epochs, \n",
    "                                                              train_dataloader, val_dataloader)"
   ]
  },
  {
   "cell_type": "markdown",
   "metadata": {
    "collapsed": false,
    "id": "n2sGY16whRfa"
   },
   "source": [
    "### Plot the training and validation error"
   ]
  },
  {
   "cell_type": "markdown",
   "metadata": {
    "collapsed": false,
    "id": "dQ5Pi2VZ46iX"
   },
   "source": [
    "Create a plot using **seaborn** that contains both the losses on training set and the losses on the validation set for each epoch.\n",
    "\n",
    "**Note:** Do not forget to add title, axis labels and a legend!\n",
    "This applies in general, please keep in mind for future exercise sheets."
   ]
  },
  {
   "cell_type": "code",
   "execution_count": 398,
   "metadata": {
    "colab": {
     "base_uri": "https://localhost:8080/",
     "height": 315
    },
    "collapsed": false,
    "id": "0Y9OzZd3fFeE",
    "outputId": "19a393d9-db19-4324-ab8e-ccb0b371f7ab"
   },
   "outputs": [
    {
     "data": {
      "image/png": "[encoded data removed]",
      "text/plain": [
       "<Figure size 432x288 with 1 Axes>"
      ]
     },
     "metadata": {
      "needs_background": "light",
      "tags": null
     },
     "output_type": "display_data"
    }
   ],
   "source": [
    "# TODO write a plot function\n",
    "ax=sn.lineplot(x = range(num_epochs), y = train_losses, palette=\"blue\", label = \"Training loss\").set_title(\"Epoch vs. Loss\")\n",
    "sn.lineplot(x = range(num_epochs), y = val_losses, palette=\"orange\", label = \"Validation loss\")\n",
    "plt.xlabel(\"Epoch\")\n",
    "plt.ylabel(\"Loss\")\n",
    "plt.show()"
   ]
  },
  {
   "cell_type": "code",
   "execution_count": 399,
   "metadata": {
    "collapsed": false,
    "id": "oElpprFbdh6r"
   },
   "outputs": [],
   "source": [
    "# TODO plot losses\n",
    "# see above"
   ]
  },
  {
   "cell_type": "markdown",
   "metadata": {
    "collapsed": false,
    "id": "lUzcwP9Zy8mc"
   },
   "source": [
    "![loss_plot2.png](data:image/png;base64,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)"
   ]
  },
  {
   "cell_type": "markdown",
   "metadata": {
    "collapsed": false,
    "id": "AOtm1DxHhWif"
   },
   "source": [
    "### Plot the training and validation accuracy\n",
    "\n",
    "Now plot the accuracies on training and validation set similar to the plot before."
   ]
  },
  {
   "cell_type": "code",
   "execution_count": 400,
   "metadata": {
    "colab": {
     "base_uri": "https://localhost:8080/",
     "height": 315
    },
    "collapsed": false,
    "id": "Lakhvy0qrSsi",
    "outputId": "1c265f69-6a70-42de-a841-fdbf34b5383b"
   },
   "outputs": [
    {
     "data": {
      "image/png": "[encoded data removed]",
      "text/plain": [
       "<Figure size 432x288 with 1 Axes>"
      ]
     },
     "metadata": {
      "needs_background": "light",
      "tags": null
     },
     "output_type": "display_data"
    }
   ],
   "source": [
    "# TODO plot accuracies\n",
    "sn.lineplot(x = range(num_epochs), y = train_accs, palette=\"blue\", label = \"Training accuracy\").set_title(\"Epoch vs. Accuracy\")\n",
    "sn.lineplot(x = range(num_epochs), y = val_accs, palette=\"orange\", label = \"Validation accuracy\")\n",
    "plt.xlabel(\"Epoch\")\n",
    "plt.ylabel(\"Accuracy\")\n",
    "plt.show()"
   ]
  },
  {
   "cell_type": "markdown",
   "metadata": {
    "collapsed": false,
    "id": "oKYD9xBCzAfH"
   },
   "source": []
  },
  {
   "cell_type": "markdown",
   "metadata": {
    "collapsed": false,
    "id": "Vrq7fAe7_xX0"
   },
   "source": [
    "### Plot the confusion matrix\n",
    "\n",
    "Normalize the confusion matrix and plot it using seaborn similar to the following format.\n",
    "\n"
   ]
  },
  {
   "cell_type": "code",
   "execution_count": 401,
   "metadata": {
    "colab": {
     "base_uri": "https://localhost:8080/",
     "height": 641
    },
    "collapsed": false,
    "id": "KQySw9eX3GgT",
    "outputId": "d36d366c-351c-4470-e10b-5c8f29a41ad4"
   },
   "outputs": [
    {
     "data": {
      "image/png": "[encoded data removed]",
      "text/plain": [
       "<Figure size 720x720 with 2 Axes>"
      ]
     },
     "metadata": {
      "needs_background": "light",
      "tags": null
     },
     "output_type": "display_data"
    }
   ],
   "source": [
    "# TODO plot the confusion matrix\n",
    "confusion_matrix_rowsum = torch.sum(confusion_matrix, dim=1)\n",
    "confusion_matrix_std = torch.div(confusion_matrix.t(), confusion_matrix_rowsum).t()\n",
    "plt.figure(figsize=(10,10))\n",
    "sn.heatmap(confusion_matrix_std, annot=True, cmap='Blues', fmt='.2%', yticklabels = range(9, -1, -1))\n",
    "plt.title(\"Confusion matrix\")\n",
    "plt.ylabel('True label')\n",
    "plt.xlabel('Predicted label')\n",
    "plt.show()"
   ]
  },
  {
   "cell_type": "markdown",
   "metadata": {
    "collapsed": false,
    "id": "KpRlatE06V7i"
   },
   "source": [
    "Which number is often confused for which number?"
   ]
  },
  {
   "cell_type": "markdown",
   "metadata": {
    "collapsed": false,
    "id": "Qr-54ftByys1"
   },
   "source": [
    "**TODO your answer here**\n"
   ]
  },
  {
   "cell_type": "code",
   "execution_count": 402,
   "metadata": {
    "colab": {
     "base_uri": "https://localhost:8080/"
    },
    "collapsed": false,
    "id": "mqIEODPUyys5",
    "outputId": "6480dd69-10f2-4f6a-9ca7-3a009596db5c"
   },
   "outputs": [
    {
     "name": "stdout",
     "output_type": "stream",
     "text": [
      "Number 5 is most often confused for number 3!\n"
     ]
    }
   ],
   "source": [
    "confusion_matrix_std = confusion_matrix_std.numpy()\n",
    "get_confused = 9-np.diag(np.fliplr(confusion_matrix_std)).argmin()\n",
    "get_confused_by = confusion_matrix_std[9-get_confused,]\n",
    "get_confused_by = np.delete(get_confused_by, get_confused).argmax()\n",
    "print(f'Number {get_confused} is most often confused for number {get_confused_by}!')"
   ]
  }
 ],
 "metadata": {
  "accelerator": "GPU",
  "colab": {
   "collapsed_sections": null,
   "include_colab_link": true,
   "name": "Wang_Exercises1_2020.ipynb",
   "provenance": null
  },
  "kernelspec": {
   "argv": [
    "/usr/bin/python3",
    "-m",
    "ipykernel_launcher",
    "-f",
    "{connection_file}"
   ],
   "display_name": "Python 3",
   "env": null,
   "interrupt_mode": "signal",
   "language": "python",
   "metadata": null,
   "name": "python3"
  },
  "language_info": {
   "codemirror_mode": {
    "name": "ipython",
    "version": 3
   },
   "file_extension": ".py",
   "mimetype": "text/x-python",
   "name": "python",
   "nbconvert_exporter": "python",
   "pygments_lexer": "ipython3",
   "version": "3.8.5"
  },
  "name": "Exercises1_2020.ipynb",
  "nteract": {
   "version": "0.15.0"
  }
 },
 "nbformat": 4,
 "nbformat_minor": 0
}
