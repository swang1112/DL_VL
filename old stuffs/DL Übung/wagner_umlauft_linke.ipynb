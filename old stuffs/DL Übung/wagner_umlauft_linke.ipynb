{
 "cells": [
  {
   "cell_type": "markdown",
   "metadata": {
    "colab_type": "text",
    "id": "Z0qdA8OhP8PH"
   },
   "source": [
    "# Exercise Sheet 3 - Convolutional Neural Networks on MNIST + Batch Normalization"
   ]
  },
  {
   "cell_type": "markdown",
   "metadata": {
    "colab_type": "text",
    "id": "z5ZPkPLkQOZ-"
   },
   "source": [
    " * Deep Learning – Winter term 2019/20\n",
    " * Instructor: Prof. Dr. Alexander Ecker\n",
    " * Tutors: Pronaya Prosun Das, Samaneh Sadegh and Muhammad Jazib Zafar\n",
    " * Due date: Jan 13, 2020 at noon"
   ]
  },
  {
   "cell_type": "markdown",
   "metadata": {
    "colab_type": "text",
    "id": "jqwsYptpP-Kf"
   },
   "source": [
    "In this assignment you will learn how to train a Convolutional Neural Network to classify images. We will work with the MNIST hand-written digits dataset.\n",
    "The goals of this assignment are as follows:\n",
    "\n",
    "*   Exploring the architecture of CNNs like number of features, kernel sizes and pooling.\n",
    "*   Understanding the impact of batch normalization.\n",
    "*   Creating custom `nn.Module` in PyTorch."
   ]
  },
  {
   "cell_type": "markdown",
   "metadata": {
    "colab_type": "text",
    "id": "K72L2EwHQBmj"
   },
   "source": [
    "### IMPORTANT SUBMISSION INSTRUCTIONS\n",
    "\n",
    "- When you're done, download the notebook and rename it to \\<surname1\\>_\\<surname2\\>_\\<surname3\\>.ipynb\n",
    "- Only submit the ipynb file, no other file is required\n",
    "- Submit only once\n",
    "- The deadline is strict\n",
    "- You are required to present your solution in the tutorial; submission of the notebook alone is not sufficient\n",
    "\n",
    "Implementation\n",
    "- Only change code to replace placeholders. Leave the other code as is."
   ]
  },
  {
   "cell_type": "markdown",
   "metadata": {
    "colab_type": "text",
    "id": "AtuI4d3lQFJ8"
   },
   "source": [
    "\n",
    "\n",
    "### **PART 1**\n",
    "\n",
    "**Importing required libraries.**"
   ]
  },
  {
   "cell_type": "code",
   "execution_count": 1,
   "metadata": {
    "colab": {},
    "colab_type": "code",
    "id": "Cb_HlnJVQPoK"
   },
   "outputs": [],
   "source": [
    "import torch\n",
    "import torch.nn as nn\n",
    "import torchvision.datasets as ds\n",
    "import torchvision.transforms as T\n",
    "import pathlib\n",
    "import torch.optim as optim\n",
    "from torch.utils.data import DataLoader\n",
    "from torch.utils.data import sampler\n",
    "from torch.autograd import Variable\n",
    "import numpy as np\n",
    "import matplotlib.pyplot as plt\n",
    "import time\n",
    "import os"
   ]
  },
  {
   "cell_type": "markdown",
   "metadata": {
    "colab_type": "text",
    "id": "N7JinRHlQUlX"
   },
   "source": [
    "**load dataset.**\n",
    "\n",
    "We use the MNIST dataset. This might take a couple minutes the first time you do it. Use appropriate training and validation samples.\n",
    " "
   ]
  },
  {
   "cell_type": "code",
   "execution_count": 2,
   "metadata": {
    "colab": {
     "base_uri": "https://localhost:8080/",
     "height": 298
    },
    "colab_type": "code",
    "id": "1TetH-_-QnvT",
    "outputId": "713732ad-0d04-44b1-8244-96679c5a1bba"
   },
   "outputs": [
    {
     "name": "stdout",
     "output_type": "stream",
     "text": [
      "<torch._C.Generator object at 0x000002340340F070>\n"
     ]
    }
   ],
   "source": [
    "#seed is important for reproducibility\n",
    "seed = 42\n",
    "np.random.seed(seed)\n",
    "print(torch.manual_seed(seed))\n",
    "\n",
    "mnist_transforms = T.Compose([T.ToTensor(), T.Normalize((0.1307,), (0.3081,))])\n",
    "\n",
    "batch_size = 256\n",
    "# Load MNIST dataset\n",
    "mnist_trainset = ds.MNIST(root='./data', train=True, download=True, transform=mnist_transforms)\n",
    "train_size = int(0.8 * len(mnist_trainset))\n",
    "val_size = len(mnist_trainset) - train_size\n",
    "train_set, val_set = torch.utils.data.random_split(mnist_trainset, [train_size, val_size])\n",
    "\n",
    "trainloader = DataLoader(train_set, batch_size=batch_size,\n",
    "                         shuffle=True, num_workers=2)\n",
    "valloader = DataLoader(val_set, batch_size=batch_size,\n",
    "                        shuffle=True, num_workers=2)\n",
    "mnist_testset = ds.MNIST(root='./data', train=False, download=True, transform=mnist_transforms)\n",
    "testloader = DataLoader(mnist_testset, batch_size=batch_size,\n",
    "                        shuffle=True, num_workers=2)"
   ]
  },
  {
   "cell_type": "markdown",
   "metadata": {
    "colab_type": "text",
    "id": "phd-1udQQyj3"
   },
   "source": [
    "**Define a model.**\n",
    "\n",
    "The first step to training a model is defining its architecture. \n",
    "Use `nn.Sequential` to define a model with following structure:\n",
    "![Imgur](https://i.imgur.com/7LfRN2y.jpg)\n",
    "*   Convolutional layer with 32 filters, kernel size of 5*5 and stride of 1.\n",
    "*   Max Pooling layer with kernel size of 2*2 and default stride (2).\n",
    "*   ReLU activation function.\n",
    "*   Linear layer with output of 512.\n",
    "*   ReLU activation function.\n",
    "*   A linear layer with output of 10.\n",
    "*   At the end put a softmax activation."
   ]
  },
  {
   "cell_type": "code",
   "execution_count": 3,
   "metadata": {
    "colab": {},
    "colab_type": "code",
    "id": "NQA61-30RilS"
   },
   "outputs": [],
   "source": [
    "#self.net = nn.Sequential(\n",
    "#    nn.Conv2d(in_channels=1, out_channels=32, kernel_size=5, stride=1),\n",
    "#    nn.MaxPool2d(2, 2),\n",
    "#    nn.ReLU(),\n",
    "#    nn.Linear(in_features=32*12*12, out_features=512),\n",
    "#    nn.ReLU(),\n",
    "#    nn.Linear(in_features=512, out_features=10),\n",
    "#    nn.Softmax()\n",
    "#)\n",
    "\n",
    "class Net(nn.Module):\n",
    "    def __init__(self):\n",
    "        super(Net, self).__init__()\n",
    "        self.conv1 = nn.Conv2d(1, 32, 5)\n",
    "        self.pool = nn.MaxPool2d(2, 2)\n",
    "        self.relu1 = nn.ReLU()\n",
    "        self.fc1 = nn.Linear(32 * 12 * 12, 512)\n",
    "        self.relu2 = nn.ReLU()\n",
    "        self.fc2 = nn.Linear(512, 10)\n",
    "        self.softmax = nn.Softmax()###softmax raus\n",
    "\n",
    "    def forward(self, x):\n",
    "        x = self.relu1(self.pool(self.conv1(x)))\n",
    "        # Changing view because for executing the 3d-tensor as a 1d tensor in the linear layers\n",
    "        x = x.view(x.shape[0], 32 * 12 * 12)\n",
    "        x = self.relu2(self.fc1(x))\n",
    "        x = self.softmax(self.fc2(x))\n",
    "        return x\n",
    "\n",
    "\n",
    "net = Net()\n",
    "if os.path.exists(\"./mnist_classifier_model.pth\"):\n",
    "    net.load_state_dict(torch.load(\"./mnist_classifier_model.pth\"))"
   ]
  },
  {
   "cell_type": "code",
   "execution_count": 4,
   "metadata": {
    "colab": {
     "base_uri": "https://localhost:8080/",
     "height": 34
    },
    "colab_type": "code",
    "id": "Z8Ynsx4MfQkl",
    "outputId": "f1b9e8f4-17c5-4f99-dd45-69955fd1ae4e"
   },
   "outputs": [
    {
     "data": {
      "text/plain": [
       "Net(\n",
       "  (conv1): Conv2d(1, 32, kernel_size=(5, 5), stride=(1, 1))\n",
       "  (pool): MaxPool2d(kernel_size=2, stride=2, padding=0, dilation=1, ceil_mode=False)\n",
       "  (relu1): ReLU()\n",
       "  (fc1): Linear(in_features=4608, out_features=512, bias=True)\n",
       "  (relu2): ReLU()\n",
       "  (fc2): Linear(in_features=512, out_features=10, bias=True)\n",
       "  (softmax): Softmax(dim=None)\n",
       ")"
      ]
     },
     "execution_count": 4,
     "metadata": {},
     "output_type": "execute_result"
    }
   ],
   "source": [
    "net"
   ]
  },
  {
   "cell_type": "markdown",
   "metadata": {
    "colab_type": "text",
    "id": "UfgW-igIVX9j"
   },
   "source": [
    "**Train the model**\n",
    "\n",
    "Use the cross-entropy loss and set up an optimizer with appropriate parameters."
   ]
  },
  {
   "cell_type": "code",
   "execution_count": 5,
   "metadata": {
    "colab": {},
    "colab_type": "code",
    "id": "z6RUJJ3MV0Op"
   },
   "outputs": [],
   "source": [
    "loss_method = nn.CrossEntropyLoss() #softmax wird hier praktisch automatisch mit aufgenommen\n",
    "optimizer = optim.SGD(net.parameters(), lr=1e-04, momentum=9e-01)"
   ]
  },
  {
   "cell_type": "markdown",
   "metadata": {
    "colab_type": "text",
    "id": "fI-qvYzWWA6W"
   },
   "source": [
    "Train the model using datasets. Run the training for at least 10 epoch. Show validation accuracy and loss in each epoch. Also monitor training accuracy and loss."
   ]
  },
  {
   "cell_type": "code",
   "execution_count": 6,
   "metadata": {
    "colab": {},
    "colab_type": "code",
    "id": "I-F5veFQWDgG"
   },
   "outputs": [],
   "source": [
    "def accuracy_fn(correct, total):\n",
    "    return float(correct)/total\n",
    "\n",
    "def train(dataloader, model, device, optimizer, loss_fn, train_loss):\n",
    "    epoch_loss = []\n",
    "    epoch_correct = 0\n",
    "    epoch_total = 0\n",
    "    for x, y in dataloader:\n",
    "        optimizer.zero_grad()\n",
    "        model.train()\n",
    "        y_pred = model(x.to(device))\n",
    "        hits = y.to(device) == y_pred.argmax(dim=1).to(device)\n",
    "        epoch_correct += sum(hits)\n",
    "        epoch_total += len(hits)\n",
    "        loss = loss_fn(y_pred.to(device), y.to(device))\n",
    "        loss.backward()\n",
    "        optimizer.step()\n",
    "        epoch_loss.append(loss.item())\n",
    "        averaged_loss = sum(epoch_loss[-50:])/len(epoch_loss[-50:])\n",
    "    train_loss.extend(epoch_loss)\n",
    "    epoch_accuracy = accuracy_fn(epoch_correct, epoch_total)\n",
    "    return epoch_loss, epoch_accuracy\n",
    "\n",
    "\n",
    "def validate(dataloader, model, device, loss_fn, val_loss):\n",
    "    epoch_loss = []\n",
    "    confusion = torch.zeros(10, 10)\n",
    "    epoch_correct = 0\n",
    "    epoch_total = 0\n",
    "    epoch_misclassified = []\n",
    "    confusion = torch.zeros(10, 10, dtype=torch.int32)\n",
    "    for x, y in dataloader:\n",
    "        model.eval()\n",
    "        y_pred = model(x.to(device))\n",
    "        y_pred_idxs = y_pred.argmax(dim=1)\n",
    "        for (idx_true, idx_pred) in zip(y, y_pred_idxs):\n",
    "            confusion[idx_true, idx_pred] += 1\n",
    "        hits = y.to(device) == y_pred_idxs.to(device)\n",
    "        epoch_correct += sum(hits)\n",
    "        epoch_total += len(hits)\n",
    "        misclassified = list(zip([x for x in x[~hits]], y[~hits]))\n",
    "        epoch_misclassified.extend(misclassified)\n",
    "        loss = loss_fn(y_pred, y.to(device))\n",
    "        epoch_loss.append(loss.item())\n",
    "        averaged_loss = sum(epoch_loss[-50:])/len(epoch_loss[-50:])\n",
    "    epoch_accuracy = accuracy_fn(epoch_correct, epoch_total)\n",
    "    return epoch_loss, epoch_accuracy, epoch_misclassified, confusion\n",
    "    "
   ]
  },
  {
   "cell_type": "code",
   "execution_count": 7,
   "metadata": {
    "colab": {},
    "colab_type": "code",
    "id": "Sf3ZWpX81zQT"
   },
   "outputs": [],
   "source": [
    "def load(path):\n",
    "    if not os.path.exists(path):\n",
    "        loss = []\n",
    "    else:\n",
    "        loss = list(np.loadtxt(path, delimiter=','))\n",
    "    return loss\n",
    "\n",
    "def save(path, x):\n",
    "    np.savetxt(path, x, delimiter=',')\n",
    "\n",
    "if not os.path.exists(\"./losses\"):\n",
    "    os.mkdir(\"./losses\")\n",
    "\n",
    "train_loss = load(\"./losses/loss.out\")\n",
    "val_loss = load(\"./losses/val_loss.out\")\n",
    "epochs_train_losses = load(\"./losses/epochs_loss.out\")\n",
    "epochs_val_losses = load(\"./losses/epochs_val_loss.out\")\n",
    "epochs_train_accuracies = load(\"./losses/epochs_train_accuracy.out\")\n",
    "epochs_val_accuracies = load(\"./losses/epochs_val_accuracy.out\")\n"
   ]
  },
  {
   "cell_type": "code",
   "execution_count": null,
   "metadata": {
    "colab": {
     "base_uri": "https://localhost:8080/",
     "height": 593
    },
    "colab_type": "code",
    "id": "SdZCUHa4qdJ8",
    "outputId": "a60781d1-97a8-47e4-9c99-4f829017aa78"
   },
   "outputs": [
    {
     "name": "stderr",
     "output_type": "stream",
     "text": [
      "C:\\Users\\Katharina_2019\\Anaconda3\\lib\\site-packages\\ipykernel_launcher.py:27: UserWarning: Implicit dimension choice for softmax has been deprecated. Change the call to include dim=X as an argument.\n"
     ]
    },
    {
     "name": "stdout",
     "output_type": "stream",
     "text": [
      "Epoch: 0| loss=1.6919292414442022; accuracy=0.818875; val_loss=1.6929075565743954; val_accuracy=0.81525\n",
      "Epoch: 1| loss=1.6878152026775035; accuracy=0.8201875; val_loss=1.6889721535621804; val_accuracy=0.8165833333333333\n"
     ]
    }
   ],
   "source": [
    "use_cuda = False\n",
    "use_cuda = False if not use_cuda else torch.cuda.is_available()\n",
    "device = torch.device('cuda:0' if use_cuda else 'cpu')\n",
    "torch.cuda.get_device_name(device) if use_cuda else 'cpu'\n",
    "\n",
    "n_epochs = 30\n",
    "\n",
    "start_time = time.time()\n",
    "for epoch in range(n_epochs):\n",
    "    epoch_train_loss, epoch_train_accuracy = train(dataloader=trainloader,\n",
    "                           model=net,\n",
    "                           device=device,\n",
    "                           optimizer=optimizer,\n",
    "                           loss_fn=loss_method,\n",
    "                           train_loss=train_loss)\n",
    "    epoch_train_mean_loss = sum(epoch_train_loss)/len(epoch_train_loss)\n",
    "    epochs_train_losses.append(epoch_train_mean_loss)\n",
    "    epochs_train_accuracies.append(epoch_train_accuracy)\n",
    "    epoch_val_loss, epoch_val_acc, misclassified, confusion = validate(dataloader=valloader,\n",
    "                                                                       model=net,\n",
    "                                                                       device=device,\n",
    "                                                                       loss_fn=loss_method,\n",
    "                                                                       val_loss=val_loss)\n",
    "    epoch_val_mean_loss = sum(epoch_val_loss)/len(epoch_val_loss)\n",
    "    epochs_val_losses.append(epoch_val_mean_loss)\n",
    "    epochs_val_accuracies.append(epoch_val_acc)\n",
    "    print(f\"Epoch: {epoch}| loss={epoch_train_mean_loss}; accuracy={epoch_train_accuracy}; val_loss={epoch_val_mean_loss}; val_accuracy={epoch_val_acc}\")\n",
    "\n",
    "print(\"--- execution time in seconds : %s ---\" % (time.time() - start_time))\n",
    "PATH = './mnist_classifier_model.pth'\n",
    "torch.save(net.state_dict(), PATH)\n",
    "\n",
    "\n",
    "save(\"./losses/loss.out\", np.array(train_loss))\n",
    "save(\"./losses/val_loss.out\", np.array(val_loss))\n",
    "save(\"./losses/epochs_loss.out\", np.array(epochs_train_losses))\n",
    "save(\"./losses/epochs_val_loss.out\", np.array(epochs_val_losses))\n",
    "save(\"./losses/epochs_train_accuracy.out\", np.array(epochs_train_accuracies))\n",
    "save(\"./losses/epochs_val_accuracy.out\", np.array(epochs_val_accuracies))\n"
   ]
  },
  {
   "cell_type": "markdown",
   "metadata": {
    "colab_type": "text",
    "id": "EiEiPcCkiZYN"
   },
   "source": [
    "**Show plots**\n",
    "\n",
    "Show the Epoch Vs Accuracy and Epoch Vs Validation Loss plot from the previous training."
   ]
  },
  {
   "cell_type": "code",
   "execution_count": 0,
   "metadata": {
    "colab": {
     "base_uri": "https://localhost:8080/",
     "height": 573
    },
    "colab_type": "code",
    "id": "YLZut9gAktj-",
    "outputId": "8df5c7e2-a793-4232-9971-c8969b5e19a4"
   },
   "outputs": [
    {
     "data": {
      "image/png": "[encoded data removed]",
      "text/plain": [
       "<Figure size 432x288 with 1 Axes>"
      ]
     },
     "metadata": {
      "tags": []
     },
     "output_type": "display_data"
    },
    {
     "data": {
      "image/png": "[encoded data removed]",
      "text/plain": [
       "<Figure size 432x288 with 1 Axes>"
      ]
     },
     "metadata": {
      "tags": []
     },
     "output_type": "display_data"
    }
   ],
   "source": [
    "plt.figure(1)\n",
    "plt.title(\"LOSS\")\n",
    "plt.plot(load(\"./losses/epochs_loss.out\"))\n",
    "plt.plot(load(\"./losses/epochs_val_loss.out\"))\n",
    "plt.xlabel('epochs')\n",
    "plt.ylabel('cross entropy loss')\n",
    "plt.show()\n",
    "\n",
    "plt.figure(2)\n",
    "plt.title(\"ACCURACY\")\n",
    "plt.plot(load(\"./losses/epochs_train_accuracy.out\"))\n",
    "plt.plot(load(\"./losses/epochs_val_accuracy.out\"))\n",
    "plt.xlabel('epochs')\n",
    "plt.ylabel('accuracy')\n",
    "plt.show()"
   ]
  },
  {
   "cell_type": "markdown",
   "metadata": {
    "colab_type": "text",
    "id": "Oe5KCMI2rB5u"
   },
   "source": [
    "**Check the accuracy of the model.**\n",
    "\n",
    "Check the accuracy of the model using test dataset: loader_test."
   ]
  },
  {
   "cell_type": "code",
   "execution_count": 0,
   "metadata": {
    "colab": {},
    "colab_type": "code",
    "id": "lzcDq7iUrOKm"
   },
   "outputs": [],
   "source": [
    "def check_accuracy(dataloader, model, device):\n",
    "    epoch_loss = []\n",
    "    confusion = torch.zeros(10, 10)\n",
    "    epoch_correct = 0\n",
    "    epoch_total = 0\n",
    "    epoch_misclassified = []\n",
    "    confusion = torch.zeros(10, 10, dtype=torch.int32)\n",
    "    for x, y in dataloader:\n",
    "        model.eval()\n",
    "        y_pred = model(x.to(device))\n",
    "        y_pred_idxs = y_pred.argmax(dim=1)\n",
    "        for (idx_true, idx_pred) in zip(y, y_pred_idxs):\n",
    "            confusion[idx_true, idx_pred] += 1\n",
    "        hits = y.to(device) == y_pred_idxs.to(device)\n",
    "        epoch_correct += sum(hits)\n",
    "        epoch_total += len(hits)\n",
    "        misclassified = list(zip([x for x in x[~hits]], y[~hits]))\n",
    "        epoch_misclassified.extend(misclassified)\n",
    "    accuracy = accuracy_fn(epoch_correct, epoch_total)\n",
    "    return accuracy, misclassified, confusion"
   ]
  },
  {
   "cell_type": "code",
   "execution_count": 0,
   "metadata": {
    "colab": {
     "base_uri": "https://localhost:8080/",
     "height": 500
    },
    "colab_type": "code",
    "id": "-15iUW2DqzGl",
    "outputId": "bcd57681-807b-4425-ea5e-b75d03608165"
   },
   "outputs": [
    {
     "name": "stderr",
     "output_type": "stream",
     "text": [
      "/usr/local/lib/python3.6/dist-packages/ipykernel_launcher.py:17: UserWarning: Implicit dimension choice for softmax has been deprecated. Change the call to include dim=X as an argument.\n"
     ]
    },
    {
     "name": "stdout",
     "output_type": "stream",
     "text": [
      "ACC: 0.8286\n"
     ]
    },
    {
     "data": {
      "text/plain": [
       "<matplotlib.axes._subplots.AxesSubplot at 0x7fda443ea6d8>"
      ]
     },
     "execution_count": 19,
     "metadata": {
      "tags": []
     },
     "output_type": "execute_result"
    },
    {
     "data": {
      "image/png": "[encoded data removed]",
      "text/plain": [
       "<Figure size 720x504 with 2 Axes>"
      ]
     },
     "metadata": {
      "tags": []
     },
     "output_type": "display_data"
    }
   ],
   "source": [
    "import seaborn as sn\n",
    "accuracy, misclassified, confusion = check_accuracy(testloader, net, device)\n",
    "print(f\"ACC: {accuracy}\")\n",
    "plt.figure(figsize=(10, 7))\n",
    "sn.heatmap(confusion, annot=True)"
   ]
  },
  {
   "cell_type": "markdown",
   "metadata": {
    "colab_type": "text",
    "id": "NEvjy5RO3hjE"
   },
   "source": [
    "**bold text**### **PART 2**\n",
    "\n",
    "We now add batch normalization to the convolutional layer and dropout to the fully-connected layer. Both should improve performance of the model.\n",
    "\n",
    "**Batch Normalization**\n",
    "\n",
    "Normalization is done to adjust and scale the activations. For example, when we have features from 0 to 1 and some from 1 to 1000, we should normalize them to speed up learning. If the input layer is benefiting from it, the same should also hold for the values in the hidden layers. Batch normalization improves training speed and stabilizes training by avoiding vanishing or exploding gradients.\n",
    "\n",
    "**Dropout**\n",
    "\n",
    "Dropout is a regularization method. It temporarily removes a unit from the network, along with all its incoming and outgoing connections. \n",
    "\n",
    "**Task**\n",
    "\n",
    "Add batch normalization after convolutional layer and put a dropout layer with probality 0.6 after the first linear layer.\n"
   ]
  },
  {
   "cell_type": "code",
   "execution_count": 0,
   "metadata": {
    "colab": {},
    "colab_type": "code",
    "id": "_r-at5Nr7qwR"
   },
   "outputs": [],
   "source": [
    "class Net(nn.Module):\n",
    "    def __init__(self):\n",
    "        super(Net, self).__init__()\n",
    "        self.conv1 = nn.Conv2d(1, 32, 5)\n",
    "        self.batch_norm = nn.BatchNorm2d(32)\n",
    "        self.pool = nn.MaxPool2d(2, 2)\n",
    "        self.relu1 = nn.ReLU()\n",
    "        self.fc1 = nn.Linear(32 * 12 * 12, 512)\n",
    "        self.dropout = nn.Dropout(0.6)\n",
    "        self.relu2 = nn.ReLU()\n",
    "        self.fc2 = nn.Linear(512, 10)\n",
    "        self.softmax = nn.Softmax()\n",
    "\n",
    "    def forward(self, x):\n",
    "        x = self.relu1(self.pool(self.batch_norm(self.conv1(x))))\n",
    "        # Changing view because for executing the 3d-tensor as a 1d tensor in the linear layers\n",
    "        x = x.view(x.shape[0], 32 * 12 * 12)\n",
    "        x = self.relu2(self.dropout(self.fc1(x)))\n",
    "        x = self.softmax(self.fc2(x))\n",
    "        return x\n",
    "\n",
    "\n",
    "if not os.path.exists(\"./mnist_classifier_model_batch_norm.pth\"):\n",
    "    net_bn = Net()\n",
    "else:\n",
    "    net_bn = Net()\n",
    "    net_bn.load_state_dict(torch.load(\"./mnist_classifier_model_batch_norm.pth\"))"
   ]
  },
  {
   "cell_type": "markdown",
   "metadata": {
    "colab_type": "text",
    "id": "vF2yo3Hw8kPO"
   },
   "source": [
    "Train the model again with the same loss function and optimizer. Just call the train function you have written earlier."
   ]
  },
  {
   "cell_type": "code",
   "execution_count": 0,
   "metadata": {
    "colab": {},
    "colab_type": "code",
    "id": "WnpRrO6HNvKX"
   },
   "outputs": [],
   "source": [
    "# Your loss function and optimizer\n",
    "loss_method = nn.CrossEntropyLoss()\n",
    "optimizer2 = optim.SGD(net_bn.parameters(), lr=1e-04, momentum=9e-01)\n"
   ]
  },
  {
   "cell_type": "code",
   "execution_count": 0,
   "metadata": {
    "colab": {
     "base_uri": "https://localhost:8080/",
     "height": 245
    },
    "colab_type": "code",
    "id": "Jyzga8iD9DG_",
    "outputId": "b987e14d-765b-4e44-b4dc-710ad53be728"
   },
   "outputs": [
    {
     "name": "stderr",
     "output_type": "stream",
     "text": [
      "/usr/local/lib/python3.6/dist-packages/ipykernel_launcher.py:18: UserWarning: Implicit dimension choice for softmax has been deprecated. Change the call to include dim=X as an argument.\n"
     ]
    },
    {
     "name": "stdout",
     "output_type": "stream",
     "text": [
      "Epoch: 0| loss=1.7494283705315692; accuracy=0.7766875; val_loss=1.7213146153916703; val_accuracy=0.8018333333333333\n",
      "Epoch: 1| loss=1.7410300925691078; accuracy=0.7815625; val_loss=1.7142161663542403; val_accuracy=0.8055833333333333\n",
      "Epoch: 2| loss=1.7354073930293956; accuracy=0.782375; val_loss=1.707402396709361; val_accuracy=0.8084166666666667\n",
      "Epoch: 3| loss=1.7267008056031896; accuracy=0.7891458333333333; val_loss=1.7010310736108334; val_accuracy=0.8106666666666666\n",
      "Epoch: 4| loss=1.7211108049179644; accuracy=0.792; val_loss=1.6958452260240595; val_accuracy=0.81325\n",
      "Epoch: 5| loss=1.7149713350103257; accuracy=0.7971875; val_loss=1.6900069992592994; val_accuracy=0.8163333333333334\n",
      "Epoch: 6| loss=1.7084956999788894; accuracy=0.8020208333333333; val_loss=1.6834626299269655; val_accuracy=0.8244166666666667\n",
      "Epoch: 7| loss=1.7023900867776667; accuracy=0.8089166666666666; val_loss=1.6757406351414132; val_accuracy=0.8360833333333333\n",
      "Epoch: 8| loss=1.694213402398089; accuracy=0.8221875; val_loss=1.666741444709453; val_accuracy=0.8490833333333333\n",
      "Epoch: 9| loss=1.6870619692700974; accuracy=0.8337708333333333; val_loss=1.6589825229441866; val_accuracy=0.8588333333333333\n",
      "--- execution time in seconds : 431.86607098579407 ---\n"
     ]
    }
   ],
   "source": [
    "if not os.path.exists(\"./losses_batch_norm\"):\n",
    "    os.mkdir(\"./losses_batch_norm\")\n",
    "\n",
    "n_epochs = 10\n",
    "\n",
    "train_loss_bn = load(\"./losses_batch_norm/loss.out\")\n",
    "val_loss_bn = load(\"./losses_batch_norm/val_loss.out\")\n",
    "epochs_train_losses_bn = load(\"./losses_batch_norm/epochs_loss.out\")\n",
    "epochs_val_losses_bn = load(\"./losses_batch_norm/epochs_val_loss.out\")\n",
    "epochs_train_accuracies_bn = load(\"./losses_batch_norm/epochs_train_accuracy.out\")\n",
    "epochs_val_accuracies_bn = load(\"./losses_batch_norm/epochs_val_accuracy.out\")\n",
    "\n",
    "\n",
    "start_time = time.time()\n",
    "\n",
    "for epoch in range(n_epochs):\n",
    "    epoch_train_loss, epoch_train_accuracy = train(dataloader=trainloader,\n",
    "                           model=net_bn,\n",
    "                           device=device,\n",
    "                           optimizer=optimizer,\n",
    "                           loss_fn=loss_method,\n",
    "                           train_loss=train_loss_bn)\n",
    "    epoch_train_mean_loss = sum(epoch_train_loss)/len(epoch_train_loss)\n",
    "    epochs_train_losses_bn.append(epoch_train_mean_loss)\n",
    "    epochs_train_accuracies_bn.append(epoch_train_accuracy)\n",
    "    epoch_val_loss, epoch_val_acc, misclassified, confusion = validate(dataloader=valloader,\n",
    "                                                                       model=net_bn,\n",
    "                                                                       device=device,\n",
    "                                                                       loss_fn=loss_method,\n",
    "                                                                       val_loss=val_loss_bn)\n",
    "    epoch_val_mean_loss = sum(epoch_val_loss)/len(epoch_val_loss)\n",
    "    epochs_val_losses_bn.append(epoch_val_mean_loss)\n",
    "    epochs_val_accuracies_bn.append(epoch_val_acc)\n",
    "    print(f\"Epoch: {epoch}| loss={epoch_train_mean_loss}; accuracy={epoch_train_accuracy}; val_loss={epoch_val_mean_loss}; val_accuracy={epoch_val_acc}\")\n",
    "\n",
    "print(\"--- execution time in seconds : %s ---\" % (time.time() - start_time))\n",
    "PATH = './mnist_classifier_model_batch_norm.pth'\n",
    "torch.save(net.state_dict(), PATH)\n",
    "\n",
    "\n",
    "save(\"./losses_batch_norm/loss.out\", np.array(train_loss_bn))\n",
    "save(\"./losses_batch_norm/val_loss.out\", np.array(val_loss_bn))\n",
    "save(\"./losses_batch_norm/epochs_loss.out\", np.array(epochs_train_losses_bn))\n",
    "save(\"./losses_batch_norm/epochs_val_loss.out\", np.array(epochs_val_losses_bn))\n",
    "save(\"./losses_batch_norm/epochs_train_accuracy.out\", np.array(epochs_train_accuracies_bn))\n",
    "save(\"./losses_batch_norm/epochs_val_accuracy.out\", np.array(epochs_val_accuracies_bn))\n"
   ]
  },
  {
   "cell_type": "code",
   "execution_count": 0,
   "metadata": {
    "colab": {
     "base_uri": "https://localhost:8080/",
     "height": 573
    },
    "colab_type": "code",
    "id": "qF0E-DbuQotJ",
    "outputId": "082858b4-7f7f-446a-fa4a-a9af3e2d8aea"
   },
   "outputs": [
    {
     "data": {
      "image/png": "[encoded data removed]",
      "text/plain": [
       "<Figure size 432x288 with 1 Axes>"
      ]
     },
     "metadata": {
      "tags": []
     },
     "output_type": "display_data"
    },
    {
     "data": {
      "image/png": "[encoded data removed]",
      "text/plain": [
       "<Figure size 432x288 with 1 Axes>"
      ]
     },
     "metadata": {
      "tags": []
     },
     "output_type": "display_data"
    }
   ],
   "source": [
    "plt.figure(1)\n",
    "plt.title(\"LOSS (BATCH NORM)\")\n",
    "plt.plot(load(\"./losses_batch_norm/epochs_loss.out\"))\n",
    "plt.plot(load(\"./losses_batch_norm/epochs_val_loss.out\"))\n",
    "plt.xlabel('epochs')\n",
    "plt.ylabel('cross entropy loss')\n",
    "plt.show()\n",
    "\n",
    "plt.figure(2)\n",
    "plt.title(\"ACCURACY (BATCH NORM)\")\n",
    "plt.plot(load(\"./losses_batch_norm/epochs_train_accuracy.out\"))\n",
    "plt.plot(load(\"./losses_batch_norm/epochs_val_accuracy.out\"))\n",
    "plt.xlabel('epochs')\n",
    "plt.ylabel('accuracy')\n",
    "plt.show()"
   ]
  },
  {
   "cell_type": "markdown",
   "metadata": {
    "colab_type": "text",
    "id": "_FJsRdG-_QM7"
   },
   "source": [
    "Is there any change in train, validation and test accuracy?"
   ]
  },
  {
   "cell_type": "code",
   "execution_count": 0,
   "metadata": {
    "colab": {
     "base_uri": "https://localhost:8080/",
     "height": 500
    },
    "colab_type": "code",
    "id": "ue_8m7j3_X5-",
    "outputId": "820fbd4c-f59d-46f9-cff9-5e60ce43701d"
   },
   "outputs": [
    {
     "name": "stderr",
     "output_type": "stream",
     "text": [
      "/usr/local/lib/python3.6/dist-packages/ipykernel_launcher.py:18: UserWarning: Implicit dimension choice for softmax has been deprecated. Change the call to include dim=X as an argument.\n"
     ]
    },
    {
     "name": "stdout",
     "output_type": "stream",
     "text": [
      "ACC: 0.8709\n"
     ]
    },
    {
     "data": {
      "text/plain": [
       "<matplotlib.axes._subplots.AxesSubplot at 0x7fda1c39af98>"
      ]
     },
     "execution_count": 51,
     "metadata": {
      "tags": []
     },
     "output_type": "execute_result"
    },
    {
     "data": {
      "image/png": "[encoded data removed]",
      "text/plain": [
       "<Figure size 720x504 with 2 Axes>"
      ]
     },
     "metadata": {
      "tags": []
     },
     "output_type": "display_data"
    }
   ],
   "source": [
    "import seaborn as sn\n",
    "accuracy, misclassified, confusion = check_accuracy(testloader, net_bn, device)\n",
    "print(f\"ACC: {accuracy}\")\n",
    "plt.figure(figsize=(10, 7))\n",
    "sn.heatmap(confusion, annot=True)"
   ]
  },
  {
   "cell_type": "markdown",
   "metadata": {
    "colab_type": "text",
    "id": "jc4uFlHzFd9V"
   },
   "source": [
    "### **PART 3**\n",
    "\n",
    "In this section we implement a model with multiple convolutional layers and train using GPU (if available).\n",
    "\n",
    "Implement the following architecture by subclassing `nn.Module`:\n",
    "\n",
    "![Imgur](https://imgur.com/rpBqY43.png)\n",
    "\n",
    "**Setting Free GPU**\n",
    "\n",
    "Go to Edit > Notebook settings or Runtime > Change runtime type and select GPU as Hardware accelerator.\n",
    "\n",
    "![Imgur](https://imgur.com/wGchqmj.png)\n",
    "\n",
    "For details, please read the \n",
    "[this](https://medium.com/deep-learning-turkey/google-colab-free-gpu-tutorial-e113627b9f5d)\n",
    "article.\n",
    "\n",
    "Also you have to move all the tensors to the GPU, otherwise it will run on CPU. Train the model for at least 10 epoch."
   ]
  },
  {
   "cell_type": "code",
   "execution_count": 0,
   "metadata": {
    "colab": {},
    "colab_type": "code",
    "id": "j3FbKt57CPdo"
   },
   "outputs": [],
   "source": [
    "# Define the model\n",
    "class CustomModel(torch.nn.Module):\n",
    "    def __init__(self):\n",
    "        super(CustomModel, self).__init__()\n",
    "        self.features1 = nn.Sequential(\n",
    "            nn.Conv2d(1, 32, 3, 1),\n",
    "            nn.MaxPool2d(2),\n",
    "            nn.ReLU(),\n",
    "            nn.BatchNorm2d(32),\n",
    "            nn.Conv2d(32, 64, 5, 1),\n",
    "            nn.MaxPool2d(3),\n",
    "            nn.ReLU(),\n",
    "            nn.BatchNorm2d(64)\n",
    "        )\n",
    "        self.features2 = nn.Sequential(\n",
    "            nn.Conv2d(1, 128, 7, 1),\n",
    "            nn.MaxPool2d(2),\n",
    "            nn.ReLU(),\n",
    "            nn.BatchNorm2d(128),\n",
    "        )\n",
    "        self.classifier = nn.Sequential(\n",
    "            nn.Linear(16064, 1000),\n",
    "            nn.ReLU(),\n",
    "            nn.Dropout(0.6),\n",
    "            nn.Linear(1000, 10),\n",
    "            nn.Softmax()\n",
    "        )\n",
    "\n",
    "\n",
    "\n",
    "    def forward(self, x):\n",
    "        f1 = self.features1(x)\n",
    "        f2 = self.features2(x)\n",
    "        f1 = f1.view(f1.shape[0], f1.shape[1] * f1.shape[2] * f1.shape[3])\n",
    "        f2 = f2.view(f2.shape[0], f2.shape[1] * f2.shape[2] * f2.shape[3])\n",
    "        concat = torch.cat((f1, f2), dim=1)\n",
    "        out = self.classifier(concat)\n",
    "        return out\n",
    "\n",
    "\n",
    "# Instantiate the model\n",
    "cnn = CustomModel()\n",
    "\n",
    "# Utilize GPU\n",
    "device = torch.device('cuda:0')\n",
    "cnn = cnn.to(device)"
   ]
  },
  {
   "cell_type": "markdown",
   "metadata": {
    "colab_type": "text",
    "id": "FRoud9yxoohx"
   },
   "source": [
    "Define the loss function and optimizer,"
   ]
  },
  {
   "cell_type": "code",
   "execution_count": 0,
   "metadata": {
    "colab": {},
    "colab_type": "code",
    "id": "m23_T9dWebPN"
   },
   "outputs": [],
   "source": [
    "loss_fn = nn.CrossEntropyLoss()\n",
    "optimizer3 = optim.SGD(cnn.parameters(), lr=1e-04, momentum=9e-01)"
   ]
  },
  {
   "cell_type": "markdown",
   "metadata": {
    "colab_type": "text",
    "id": "ugoF8oxOoy2E"
   },
   "source": [
    "Call the train function you have written earlier."
   ]
  },
  {
   "cell_type": "code",
   "execution_count": 0,
   "metadata": {
    "colab": {
     "base_uri": "https://localhost:8080/",
     "height": 263
    },
    "colab_type": "code",
    "id": "OvcZaHRPejM6",
    "outputId": "f7f1d7f8-d49d-45a6-9ee3-d7f1ba506dff"
   },
   "outputs": [
    {
     "name": "stderr",
     "output_type": "stream",
     "text": [
      "/usr/local/lib/python3.6/dist-packages/torch/nn/modules/container.py:92: UserWarning: Implicit dimension choice for softmax has been deprecated. Change the call to include dim=X as an argument.\n",
      "  input = module(input)\n"
     ]
    },
    {
     "name": "stdout",
     "output_type": "stream",
     "text": [
      "Epoch: 0| loss=2.2660230537678334; accuracy=0.28789583333333335; val_loss=2.191907801526658; val_accuracy=0.5696666666666667\n",
      "Epoch: 1| loss=2.0842791681594037; accuracy=0.5909166666666666; val_loss=1.9657418778602114; val_accuracy=0.6875833333333333\n",
      "Epoch: 2| loss=1.9010300769450816; accuracy=0.7173541666666666; val_loss=1.823095440864563; val_accuracy=0.7814166666666666\n",
      "Epoch: 3| loss=1.7969584712322721; accuracy=0.7826458333333334; val_loss=1.7492693053915145; val_accuracy=0.81375\n",
      "Epoch: 4| loss=1.7385995831895382; accuracy=0.8209375; val_loss=1.7003439335112875; val_accuracy=0.8551666666666666\n",
      "Epoch: 5| loss=1.6966434203563852; accuracy=0.8558958333333333; val_loss=1.6657489081646533; val_accuracy=0.8806666666666667\n",
      "Epoch: 6| loss=1.667514463054373; accuracy=0.8729166666666667; val_loss=1.6427974878473486; val_accuracy=0.8904166666666666\n",
      "Epoch: 7| loss=1.648412524385655; accuracy=0.8818958333333333; val_loss=1.6260951326248494; val_accuracy=0.8994166666666666\n",
      "Epoch: 8| loss=1.6326699085692142; accuracy=0.890625; val_loss=1.614258461810173; val_accuracy=0.9051666666666667\n",
      "Epoch: 9| loss=1.621682714908681; accuracy=0.8961041666666667; val_loss=1.60452812275988; val_accuracy=0.9093333333333333\n",
      "--- execution time in seconds : 108.98601341247559 ---\n"
     ]
    }
   ],
   "source": [
    "if not os.path.exists(\"./losses_cnn\"):\n",
    "    os.mkdir(\"./losses_cnn\")\n",
    "\n",
    "n_epochs = 10\n",
    "\n",
    "NEW = True\n",
    "\n",
    "train_loss = [] if NEW else load(\"./losses_cnn/loss.out\")\n",
    "val_loss = [] if NEW else load(\"./losses_cnn/val_loss.out\")\n",
    "epochs_train_losses = [] if NEW else load(\"./losses_cnn/epochs_loss.out\")\n",
    "epochs_val_losses = [] if NEW else load(\"./losses_cnn/epochs_val_loss.out\")\n",
    "epochs_train_accuracies = [] if NEW else load(\"./losses_cnn/epochs_train_accuracy.out\")\n",
    "epochs_val_accuracies = [] if NEW else load(\"./losses_cnn/epochs_val_accuracy.out\")\n",
    "\n",
    "\n",
    "start_time = time.time()\n",
    "\n",
    "for epoch in range(n_epochs):\n",
    "    epoch_train_loss, epoch_train_accuracy = train(dataloader=trainloader,\n",
    "                           model=cnn,\n",
    "                           device=device,\n",
    "                           optimizer=optimizer3,\n",
    "                           loss_fn=loss_method,\n",
    "                           train_loss=train_loss)\n",
    "    epoch_train_mean_loss = sum(epoch_train_loss)/len(epoch_train_loss)\n",
    "    epochs_train_losses.append(epoch_train_mean_loss)\n",
    "    epochs_train_accuracies.append(epoch_train_accuracy)\n",
    "    epoch_val_loss, epoch_val_acc, misclassified, confusion = validate(dataloader=valloader,\n",
    "                                                                       model=cnn,\n",
    "                                                                       device=device,\n",
    "                                                                       loss_fn=loss_method,\n",
    "                                                                       val_loss=val_loss)\n",
    "    epoch_val_mean_loss = sum(epoch_val_loss)/len(epoch_val_loss)\n",
    "    epochs_val_losses.append(epoch_val_mean_loss)\n",
    "    epochs_val_accuracies.append(epoch_val_acc)\n",
    "    print(f\"Epoch: {epoch}| loss={epoch_train_mean_loss}; accuracy={epoch_train_accuracy}; val_loss={epoch_val_mean_loss}; val_accuracy={epoch_val_acc}\")\n",
    "\n",
    "print(\"--- execution time in seconds : %s ---\" % (time.time() - start_time))\n",
    "PATH = './mnist_classifier_model_batch_norm.pth'\n",
    "torch.save(net.state_dict(), PATH)\n",
    "\n",
    "\n",
    "save(\"./losses_cnn/loss.out\", np.array(train_loss))\n",
    "save(\"./losses_cnn/val_loss.out\", np.array(val_loss))\n",
    "save(\"./losses_cnn/epochs_loss.out\", np.array(epochs_train_losses))\n",
    "save(\"./losses_cnn/epochs_val_loss.out\", np.array(epochs_val_losses))\n",
    "save(\"./losses_cnn/epochs_train_accuracy.out\", np.array(epochs_train_accuracies))\n",
    "save(\"./losses_cnn/epochs_val_accuracy.out\", np.array(epochs_val_accuracies))\n"
   ]
  },
  {
   "cell_type": "markdown",
   "metadata": {
    "colab_type": "text",
    "id": "elcAYXsrpGLJ"
   },
   "source": [
    "Show the accuracy by calling check_accuracy(...)\n"
   ]
  },
  {
   "cell_type": "code",
   "execution_count": 0,
   "metadata": {
    "colab": {
     "base_uri": "https://localhost:8080/",
     "height": 517
    },
    "colab_type": "code",
    "id": "sjzZJqyHU6Ej",
    "outputId": "1d9ee826-82fb-48ba-f370-6f42fa655a3f"
   },
   "outputs": [
    {
     "name": "stderr",
     "output_type": "stream",
     "text": [
      "/usr/local/lib/python3.6/dist-packages/torch/nn/modules/container.py:92: UserWarning: Implicit dimension choice for softmax has been deprecated. Change the call to include dim=X as an argument.\n",
      "  input = module(input)\n"
     ]
    },
    {
     "name": "stdout",
     "output_type": "stream",
     "text": [
      "ACC: 0.9204\n"
     ]
    },
    {
     "data": {
      "text/plain": [
       "<matplotlib.axes._subplots.AxesSubplot at 0x7fda1c075b38>"
      ]
     },
     "execution_count": 151,
     "metadata": {
      "tags": []
     },
     "output_type": "execute_result"
    },
    {
     "data": {
      "image/png": "[encoded data removed]",
      "text/plain": [
       "<Figure size 720x504 with 2 Axes>"
      ]
     },
     "metadata": {
      "tags": []
     },
     "output_type": "display_data"
    }
   ],
   "source": [
    "import seaborn as sn\n",
    "accuracy, misclassified, confusion = check_accuracy(testloader, cnn, device)\n",
    "print(f\"ACC: {accuracy}\")\n",
    "plt.figure(figsize=(10, 7))\n",
    "sn.heatmap(confusion, annot=True)"
   ]
  },
  {
   "cell_type": "markdown",
   "metadata": {
    "colab_type": "text",
    "id": "nzgvz7i8Nijd"
   },
   "source": [
    "#### [OPTIONAL]\n",
    "Can you get the performance of the CNN to 99.5% with the above architecture? If not, can you change it to improve performance? Note that state-of-the-art performance on MNIST with CNNs is around 99.8% accuracy."
   ]
  },
  {
   "cell_type": "code",
   "execution_count": 0,
   "metadata": {
    "colab": {},
    "colab_type": "code",
    "id": "RTuvaTYjNi4Y"
   },
   "outputs": [],
   "source": [
    "# TODO"
   ]
  }
 ],
 "metadata": {
  "accelerator": "GPU",
  "colab": {
   "collapsed_sections": [],
   "name": "DL19_Homework3.ipynb",
   "provenance": []
  },
  "kernelspec": {
   "display_name": "Python 3",
   "language": "python",
   "name": "python3"
  },
  "language_info": {
   "codemirror_mode": {
    "name": "ipython",
    "version": 3
   },
   "file_extension": ".py",
   "mimetype": "text/x-python",
   "name": "python",
   "nbconvert_exporter": "python",
   "pygments_lexer": "ipython3",
   "version": "3.7.4"
  },
  "nteract": {
   "version": "0.15.0"
  }
 },
 "nbformat": 4,
 "nbformat_minor": 1
}
