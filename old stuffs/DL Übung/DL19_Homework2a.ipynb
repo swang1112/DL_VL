{
 "cells": [
  {
   "cell_type": "markdown",
   "metadata": {
    "colab_type": "text",
    "id": "-IIEY_l98O_7"
   },
   "source": [
    "# Exercise Sheet 2 - MNIST Classification with PyTorch"
   ]
  },
  {
   "cell_type": "markdown",
   "metadata": {
    "colab_type": "text",
    "id": "Yl8FXR3s8PBB"
   },
   "source": [
    " * Deep Learning – Winter term 2019/20\n",
    " * Instructor: Alexander Ecker\n",
    " * Tutor: Peter Chronz\n",
    " * Due date: Jan 6, 2020 at noon"
   ]
  },
  {
   "cell_type": "markdown",
   "metadata": {
    "colab_type": "text",
    "id": "eaoMWjbZdCLf"
   },
   "source": [
    "# IMPORTANT SUBMISSION INSTRUCTIONS\n",
    "\n",
    "- When you're done, download the notebook and rename it to \\<surname1\\>_\\<surname2\\>_\\<surname3\\>.ipynb\n",
    "- Only submit the ipynb file, no other file is required\n",
    "- Submit only once\n",
    "- The deadline is strict\n",
    "- You are required to present your solution in the tutorial; submission of the notebook alone is not sufficient\n",
    "\n",
    "Implementation\n",
    "- Only change code to replace placeholders. Leave the other code as is.\n"
   ]
  },
  {
   "cell_type": "markdown",
   "metadata": {
    "colab_type": "text",
    "id": "rwaaZtaJ8PBI"
   },
   "source": [
    "## Questions\n",
    "* **There are seven cells with questions throughout the notebook. Make sure to answer those questions in the empty cell below.**\n",
    "* In addition to the question cells there are code exercises marked in the code cells. Just fill in the placeholders, which are marked like so: `<PUT IN SOME CODE HERE>`"
   ]
  },
  {
   "cell_type": "markdown",
   "metadata": {
    "colab_type": "text",
    "id": "ep2PNrTr1TKM"
   },
   "source": [
    "# PyTorch\n",
    "\n",
    "We will be using PyTorch as our framework throughout the rest of the term. Some of the basics are explained in this exercise and implemented for you already, but it is not meant to be a comprehensive tutorial for learning PyTorch. Please refer to the excellent online resources:\n",
    "\n",
    " - Documentation: https://pytorch.org/docs/\n",
    " - Tutorials: https://pytorch.org/tutorials/"
   ]
  },
  {
   "cell_type": "markdown",
   "metadata": {
    "colab_type": "text",
    "id": "RSaZHscD8PBK"
   },
   "source": [
    "## Setup/requirements (skip if using Colab)"
   ]
  },
  {
   "cell_type": "markdown",
   "metadata": {
    "colab_type": "text",
    "id": "F5XKteTu8PBN"
   },
   "source": [
    "If you're not using Colab, install the required libraries before running this notebook.\n",
    "* fastprogress for progress bars during training\n",
    "* matplotlib to plot loss\n",
    "* seaborn to plot the confusion matrix as a heatmap\n",
    "* pytorch and torchvision for most of the operations\n",
    "\n",
    "Choose the installation method based on your system. All tested with the Anaconda setup, but it should be fine via pip3 as well. Note that pip3 might simply be pip on your system.\n",
    "\n",
    "If you're missing any of the dependencies, you can uncomment the code below. Choose either the Anaconda version or the python version. You might need to install Anaconda first."
   ]
  },
  {
   "cell_type": "markdown",
   "metadata": {
    "colab_type": "text",
    "id": "o_TiepIM8PBP"
   },
   "source": [
    "### Anaconda"
   ]
  },
  {
   "cell_type": "code",
   "execution_count": 0,
   "metadata": {
    "colab": {},
    "colab_type": "code",
    "id": "AGtT8Rfx8PBR"
   },
   "outputs": [],
   "source": [
    "# !conda install -c fastai fastprogress\n",
    "# !conda install -c conda-forge matplotlib\n",
    "# !conda install -c anaconda seaborn\n",
    "# !conda install pytorch torchvision cudatoolkit=10.1 -c pytorch # with CUDA"
   ]
  },
  {
   "cell_type": "markdown",
   "metadata": {
    "colab_type": "text",
    "id": "43pXTPMg8PBV"
   },
   "source": [
    "### Pip"
   ]
  },
  {
   "cell_type": "code",
   "execution_count": 0,
   "metadata": {
    "colab": {},
    "colab_type": "code",
    "id": "jWWrHBu18PBX"
   },
   "outputs": [],
   "source": [
    "# !pip3 install fastprogress\n",
    "# !pip3 install matplotlib\n",
    "# !pip3 install seaborn\n",
    "# !pip3 install torch torchvision"
   ]
  },
  {
   "cell_type": "markdown",
   "metadata": {
    "colab_type": "text",
    "id": "lBX7G6nm8PBa"
   },
   "source": [
    "## Imports"
   ]
  },
  {
   "cell_type": "code",
   "execution_count": 0,
   "metadata": {
    "colab": {},
    "colab_type": "code",
    "id": "Xo4MVsQj8PBb"
   },
   "outputs": [],
   "source": [
    "import os\n",
    "import pathlib\n",
    "import random\n",
    "\n",
    "import fastprogress\n",
    "import matplotlib.pyplot as plt\n",
    "import seaborn as sn\n",
    "import torch\n",
    "import torch.nn as nn\n",
    "import torch.optim as optim\n",
    "import torch.nn.functional as F\n",
    "import torchvision.transforms.functional as TF\n",
    "from torchvision import datasets, transforms"
   ]
  },
  {
   "cell_type": "markdown",
   "metadata": {
    "colab_type": "text",
    "id": "wXfMlc3_8PBg"
   },
   "source": [
    "## System checks\n",
    "\n",
    "Perform some rudimentary system checks. Do we have a CUDA-capable device? Multiple? Is CuDNN active (huge speedups for some networks)?"
   ]
  },
  {
   "cell_type": "code",
   "execution_count": 0,
   "metadata": {
    "colab": {
     "base_uri": "https://localhost:8080/",
     "height": 34
    },
    "colab_type": "code",
    "id": "4Lo5sRjw8PBi",
    "outputId": "36c2e952-ad59-4dc1-c2d1-bfdfaf526c87"
   },
   "outputs": [
    {
     "data": {
      "text/plain": [
       "(False, True, 0)"
      ]
     },
     "execution_count": 7,
     "metadata": {
      "tags": []
     },
     "output_type": "execute_result"
    }
   ],
   "source": [
    "torch.cuda.is_available(), torch.backends.cudnn.is_available(), torch.cuda.device_count()"
   ]
  },
  {
   "cell_type": "markdown",
   "metadata": {
    "colab_type": "text",
    "id": "uSkGnMux8PBo"
   },
   "source": [
    "Choose your device for computation. CPU or one of your CUDA devices?"
   ]
  },
  {
   "cell_type": "code",
   "execution_count": 0,
   "metadata": {
    "colab": {
     "base_uri": "https://localhost:8080/",
     "height": 34
    },
    "colab_type": "code",
    "id": "MSyb08pX8PBq",
    "outputId": "b7df699a-9ea9-4912-e4d1-6230303442d2"
   },
   "outputs": [
    {
     "data": {
      "text/plain": [
       "'cpu'"
      ]
     },
     "execution_count": 8,
     "metadata": {
      "tags": []
     },
     "output_type": "execute_result"
    }
   ],
   "source": [
    "use_cuda = True\n",
    "use_cuda = False if not use_cuda else torch.cuda.is_available()\n",
    "device = torch.device('cuda:0' if use_cuda else 'cpu')\n",
    "torch.cuda.get_device_name(device) if use_cuda else 'cpu'"
   ]
  },
  {
   "cell_type": "markdown",
   "metadata": {
    "colab_type": "text",
    "id": "aDCFFn-_8PBu"
   },
   "source": [
    "How many CPUs do we have? Use that as a guide to set the # of workers for multiprocessing in the data loader."
   ]
  },
  {
   "cell_type": "code",
   "execution_count": 0,
   "metadata": {
    "colab": {
     "base_uri": "https://localhost:8080/",
     "height": 34
    },
    "colab_type": "code",
    "id": "a1CMBy4E8PBv",
    "outputId": "1bbdf09a-7691-46e8-ef7d-86655749e09c"
   },
   "outputs": [
    {
     "data": {
      "text/plain": [
       "2"
      ]
     },
     "execution_count": 9,
     "metadata": {
      "tags": []
     },
     "output_type": "execute_result"
    }
   ],
   "source": [
    "num_cpus = os.cpu_count()\n",
    "num_cpus"
   ]
  },
  {
   "cell_type": "markdown",
   "metadata": {
    "colab_type": "text",
    "id": "nxa07_Af8PBz"
   },
   "source": [
    "## Prepare the data"
   ]
  },
  {
   "cell_type": "markdown",
   "metadata": {
    "colab_type": "text",
    "id": "8hreJGgn8PB0"
   },
   "source": [
    "Set the data dir and download the MNIST dataset to that location."
   ]
  },
  {
   "cell_type": "code",
   "execution_count": 0,
   "metadata": {
    "colab": {},
    "colab_type": "code",
    "id": "UaLiwZSu8PB2"
   },
   "outputs": [],
   "source": [
    "data_dir = pathlib.Path('data/')"
   ]
  },
  {
   "cell_type": "markdown",
   "metadata": {
    "colab_type": "text",
    "id": "yO4Sw3Za8PB7"
   },
   "source": [
    "Get the data set. We will use a popular data set, which is already integrated with pytorch. However, it's quite easy to implement your own dataset.\n",
    "\n",
    "A data set is a subclass of ``DataSet`` (https://pytorch.org/docs/stable/data.html#torch.utils.data.Dataset). DataSet `implements` ``__len__`` and ``__get_item__``, which allow it to be used by a data loader.\n",
    "\n",
    "https://pytorch.org/docs/stable/torchvision/datasets.html#mnist"
   ]
  },
  {
   "cell_type": "code",
   "execution_count": 0,
   "metadata": {
    "colab": {
     "base_uri": "https://localhost:8080/",
     "height": 280
    },
    "colab_type": "code",
    "id": "e5AFBM6d8PB9",
    "outputId": "5c49e385-368b-4ed2-81df-eff211f52700"
   },
   "outputs": [
    {
     "name": "stderr",
     "output_type": "stream",
     "text": [
      "  0%|          | 0/9912422 [00:00<?, ?it/s]"
     ]
    },
    {
     "name": "stdout",
     "output_type": "stream",
     "text": [
      "Downloading http://yann.lecun.com/exdb/mnist/train-images-idx3-ubyte.gz to data/MNIST/raw/train-images-idx3-ubyte.gz\n"
     ]
    },
    {
     "name": "stderr",
     "output_type": "stream",
     "text": [
      "9920512it [00:00, 21289400.27it/s]                            \n"
     ]
    },
    {
     "name": "stdout",
     "output_type": "stream",
     "text": [
      "Extracting data/MNIST/raw/train-images-idx3-ubyte.gz to data/MNIST/raw\n"
     ]
    },
    {
     "name": "stderr",
     "output_type": "stream",
     "text": [
      "32768it [00:00, 320631.36it/s]                           \n",
      "0it [00:00, ?it/s]"
     ]
    },
    {
     "name": "stdout",
     "output_type": "stream",
     "text": [
      "Downloading http://yann.lecun.com/exdb/mnist/train-labels-idx1-ubyte.gz to data/MNIST/raw/train-labels-idx1-ubyte.gz\n",
      "Extracting data/MNIST/raw/train-labels-idx1-ubyte.gz to data/MNIST/raw\n",
      "Downloading http://yann.lecun.com/exdb/mnist/t10k-images-idx3-ubyte.gz to data/MNIST/raw/t10k-images-idx3-ubyte.gz\n"
     ]
    },
    {
     "name": "stderr",
     "output_type": "stream",
     "text": [
      "1654784it [00:00, 5369315.49it/s]                           \n",
      "8192it [00:00, 130176.16it/s]\n"
     ]
    },
    {
     "name": "stdout",
     "output_type": "stream",
     "text": [
      "Extracting data/MNIST/raw/t10k-images-idx3-ubyte.gz to data/MNIST/raw\n",
      "Downloading http://yann.lecun.com/exdb/mnist/t10k-labels-idx1-ubyte.gz to data/MNIST/raw/t10k-labels-idx1-ubyte.gz\n",
      "Extracting data/MNIST/raw/t10k-labels-idx1-ubyte.gz to data/MNIST/raw\n",
      "Processing...\n",
      "Done!\n"
     ]
    }
   ],
   "source": [
    "mnist_train = datasets.MNIST(data_dir, download=True, train=True)"
   ]
  },
  {
   "cell_type": "markdown",
   "metadata": {
    "colab_type": "text",
    "id": "niIMyM-98PCB"
   },
   "source": [
    "Create a data loader (https://pytorch.org/docs/stable/data.html#torch.utils.data.DataLoader) for our data set. Adjust the batch size, so that the batches (incl. the net) fit snuggly into memory. Generally, larger batch sizes are better. Adjust the number of workers; play around and notice the impact on your iteration speed. How fast is your memory access and your FS access (quad channel memory and NVMe SSDs are nice)?\n",
    "\n",
    "While the data set provides access to the raw data, the data loader provides higher level access to the data.\n",
    "For example, the data loader\n",
    "* packs data points into batches,\n",
    "* shuffles the data,\n",
    "* loads data in parallel, by managing workers."
   ]
  },
  {
   "cell_type": "markdown",
   "metadata": {
    "colab_type": "text",
    "id": "hiTR4evH8PCC"
   },
   "source": [
    "Review the data. It's always a good idea to have checkpoints to make sure that things work.\n",
    "Since DataSet implements ``__len__`` and ``__getitem__``, **we can access the data as if it were a list**!"
   ]
  },
  {
   "cell_type": "code",
   "execution_count": 0,
   "metadata": {
    "colab": {
     "base_uri": "https://localhost:8080/",
     "height": 52
    },
    "colab_type": "code",
    "id": "iyrRFEhK8PCC",
    "outputId": "b3ad3220-ab3f-4b9d-8dd0-acb55943eced"
   },
   "outputs": [
    {
     "name": "stdout",
     "output_type": "stream",
     "text": [
      "<PIL.Image.Image image mode=L size=28x28 at 0x7F3ADA22E0F0>\n",
      "5\n"
     ]
    }
   ],
   "source": [
    "# <SELECT THE FIRST ELEMENT FROM THE DATA SET HERE. WHAT'S INSIDE?>\n",
    "from torch.utils.data import DataLoader\n",
    "data_loader_train = DataLoader(mnist_train, batch_size=1, num_workers=0)\n",
    "x, y = data_loader_train.dataset[0]\n",
    "print(x)\n",
    "print(y)"
   ]
  },
  {
   "cell_type": "markdown",
   "metadata": {
    "colab_type": "text",
    "id": "cpfzKDQd8PCF"
   },
   "source": [
    "We see that the dataset provides a tuple: (x, y). x is the image, y is the class."
   ]
  },
  {
   "cell_type": "markdown",
   "metadata": {
    "colab_type": "text",
    "id": "_DYUndJR8PCF"
   },
   "source": [
    "Let's look at some random images (always a good idead if possible). \n",
    "Instead of rendering the image in code, just return the image to Jupyter, which will then recognize it as a PIL.Image and render automatically. \n",
    "Run this cell a couple of time to make sture that the labels are correct and to get a feeling for the data."
   ]
  },
  {
   "cell_type": "code",
   "execution_count": 0,
   "metadata": {
    "colab": {
     "base_uri": "https://localhost:8080/",
     "height": 62
    },
    "colab_type": "code",
    "id": "u2g1tWH-8PCG",
    "outputId": "0a2fe541-2ae3-427f-e7d6-0173f39186ef"
   },
   "outputs": [
    {
     "name": "stdout",
     "output_type": "stream",
     "text": [
      "8\n"
     ]
    },
    {
     "data": {
      "image/png": "[encoded data removed]",
      "text/plain": [
       "<PIL.Image.Image image mode=L size=28x28 at 0x7F3ADA22E2E8>"
      ]
     },
     "execution_count": 13,
     "metadata": {
      "tags": []
     },
     "output_type": "execute_result"
    }
   ],
   "source": [
    "# DONE\n",
    "# <CHOOSE A RANDOM ELEMENT FROM THE DATASET HERE. THEN RUN THE CELL MULTIPLE TIMES BY HAND.>\n",
    "import random\n",
    "i = random.randint(0, len(data_loader_train.dataset)-2) # not sure if i is supposed to be set here. i don't get increment\n",
    "i += 1\n",
    "x, y = data_loader_train.dataset[i]\n",
    "print(y)\n",
    "x"
   ]
  },
  {
   "cell_type": "markdown",
   "metadata": {
    "colab_type": "text",
    "id": "4uy4ryTX8PCI"
   },
   "source": [
    "How many data points are there in the dataset?"
   ]
  },
  {
   "cell_type": "code",
   "execution_count": 0,
   "metadata": {
    "colab": {
     "base_uri": "https://localhost:8080/",
     "height": 34
    },
    "colab_type": "code",
    "id": "8eBelVr68PCJ",
    "outputId": "2713621f-d1e5-49f3-fd4e-a0da17ab4e91"
   },
   "outputs": [
    {
     "name": "stdout",
     "output_type": "stream",
     "text": [
      "The size of the dataset is 60000\n"
     ]
    }
   ],
   "source": [
    "# DONE\n",
    "# <OBTAIN AND PRINT OUT THE LENGHT OF THE DATA SET>\n",
    "size = len(data_loader_train)\n",
    "print(f\"The size of the dataset is {size}\")"
   ]
  },
  {
   "cell_type": "markdown",
   "metadata": {
    "colab_type": "text",
    "id": "_3Brd-aj8PCN"
   },
   "source": [
    "## Pre-process the data"
   ]
  },
  {
   "cell_type": "markdown",
   "metadata": {
    "colab_type": "text",
    "id": "CDgCYCmU8PCO"
   },
   "source": [
    "We have seen above that the contents of the data set are of type ``[(PIL.Image.Image, Int)]``. However, pytorch (the core that is, not torchvision or torchtext) is only equipped to work on Tensor objects. So we need to transform ``PIL.Image.Image`` to ``torch.Tensor``. Torchvision takes care of that for us. ``transforms.ToTensor`` is a transformation operation that maps a ``PIL.Image.Image`` to a troch tensor.\n",
    "\n",
    "Furthermore, we will normalize the data to zero-mean and unit-variance. ``transforms.Normalize`` takes the mean and std-dev for each channel and rescales the data to zero-mean, unit-variance. https://pytorch.org/docs/stable/torchvision/transforms.html#torchvision.transforms.Normalize\n",
    "\n",
    "We can combine multiple transformations via ``transforms.Compose``.\n",
    "\n",
    "So let's create a new dataset with those transformations in-place."
   ]
  },
  {
   "cell_type": "code",
   "execution_count": 0,
   "metadata": {
    "colab": {},
    "colab_type": "code",
    "id": "5j9yFuaS8PCQ"
   },
   "outputs": [],
   "source": [
    "batch_size = 256"
   ]
  },
  {
   "cell_type": "code",
   "execution_count": 0,
   "metadata": {
    "colab": {},
    "colab_type": "code",
    "id": "xBx6FdG-8PCT"
   },
   "outputs": [],
   "source": [
    "mnist_transforms = transforms.Compose([transforms.ToTensor(), transforms.Normalize((0.1307,), (0.3081,))])"
   ]
  },
  {
   "cell_type": "code",
   "execution_count": 0,
   "metadata": {
    "colab": {},
    "colab_type": "code",
    "id": "ZQSYv2RT8PCV"
   },
   "outputs": [],
   "source": [
    "mnist_train = datasets.MNIST(data_dir, download=True, train=True, transform=mnist_transforms)"
   ]
  },
  {
   "cell_type": "code",
   "execution_count": 0,
   "metadata": {
    "colab": {},
    "colab_type": "code",
    "id": "gfHktCJM8PCX"
   },
   "outputs": [],
   "source": [
    "train_dataloader = torch.utils.data.DataLoader(mnist_train, batch_size=batch_size, shuffle=True, num_workers=num_cpus//1)"
   ]
  },
  {
   "cell_type": "markdown",
   "metadata": {
    "colab_type": "text",
    "id": "iv9xA0vu8PCZ"
   },
   "source": [
    "Let's also create a validation set from the test set."
   ]
  },
  {
   "cell_type": "code",
   "execution_count": 0,
   "metadata": {
    "colab": {},
    "colab_type": "code",
    "id": "R-kHrp-S8PCa"
   },
   "outputs": [],
   "source": [
    "train_size = int(0.8 * len(mnist_train))\n",
    "val_size = len(mnist_train) - train_size\n",
    "mnist_train, mnist_val = torch.utils.data.random_split(mnist_train, [train_size, val_size]) # LOAD THE MNIST TEST SET AS VALIDATION SET\n",
    "# gewollt: train=false"
   ]
  },
  {
   "cell_type": "code",
   "execution_count": 0,
   "metadata": {
    "colab": {},
    "colab_type": "code",
    "id": "7x2bflgq8PCc"
   },
   "outputs": [],
   "source": [
    "val_dataloader = torch.utils.data.DataLoader(mnist_val, batch_size=batch_size, shuffle=True, num_workers=num_cpus//1) # CREATE A VALIDATION DATA LOADER"
   ]
  },
  {
   "cell_type": "markdown",
   "metadata": {
    "colab_type": "text",
    "id": "mwajdHCS8PCf"
   },
   "source": [
    "Let's get a data point now to see what we're dealing with."
   ]
  },
  {
   "cell_type": "code",
   "execution_count": 0,
   "metadata": {
    "colab": {
     "base_uri": "https://localhost:8080/",
     "height": 1000
    },
    "colab_type": "code",
    "id": "9bJyeTET8PCf",
    "outputId": "412d7176-f27a-42ec-e8be-3cfddff36de6"
   },
   "outputs": [
    {
     "data": {
      "text/plain": [
       "(tensor([[[[-0.4242, -0.4242, -0.4242,  ..., -0.4242, -0.4242, -0.4242],\n",
       "           [-0.4242, -0.4242, -0.4242,  ..., -0.4242, -0.4242, -0.4242],\n",
       "           [-0.4242, -0.4242, -0.4242,  ..., -0.4242, -0.4242, -0.4242],\n",
       "           ...,\n",
       "           [-0.4242, -0.4242, -0.4242,  ..., -0.4242, -0.4242, -0.4242],\n",
       "           [-0.4242, -0.4242, -0.4242,  ..., -0.4242, -0.4242, -0.4242],\n",
       "           [-0.4242, -0.4242, -0.4242,  ..., -0.4242, -0.4242, -0.4242]]],\n",
       " \n",
       " \n",
       "         [[[-0.4242, -0.4242, -0.4242,  ..., -0.4242, -0.4242, -0.4242],\n",
       "           [-0.4242, -0.4242, -0.4242,  ..., -0.4242, -0.4242, -0.4242],\n",
       "           [-0.4242, -0.4242, -0.4242,  ..., -0.4242, -0.4242, -0.4242],\n",
       "           ...,\n",
       "           [-0.4242, -0.4242, -0.4242,  ..., -0.4242, -0.4242, -0.4242],\n",
       "           [-0.4242, -0.4242, -0.4242,  ..., -0.4242, -0.4242, -0.4242],\n",
       "           [-0.4242, -0.4242, -0.4242,  ..., -0.4242, -0.4242, -0.4242]]],\n",
       " \n",
       " \n",
       "         [[[-0.4242, -0.4242, -0.4242,  ..., -0.4242, -0.4242, -0.4242],\n",
       "           [-0.4242, -0.4242, -0.4242,  ..., -0.4242, -0.4242, -0.4242],\n",
       "           [-0.4242, -0.4242, -0.4242,  ..., -0.4242, -0.4242, -0.4242],\n",
       "           ...,\n",
       "           [-0.4242, -0.4242, -0.4242,  ..., -0.4242, -0.4242, -0.4242],\n",
       "           [-0.4242, -0.4242, -0.4242,  ..., -0.4242, -0.4242, -0.4242],\n",
       "           [-0.4242, -0.4242, -0.4242,  ..., -0.4242, -0.4242, -0.4242]]],\n",
       " \n",
       " \n",
       "         ...,\n",
       " \n",
       " \n",
       "         [[[-0.4242, -0.4242, -0.4242,  ..., -0.4242, -0.4242, -0.4242],\n",
       "           [-0.4242, -0.4242, -0.4242,  ..., -0.4242, -0.4242, -0.4242],\n",
       "           [-0.4242, -0.4242, -0.4242,  ..., -0.4242, -0.4242, -0.4242],\n",
       "           ...,\n",
       "           [-0.4242, -0.4242, -0.4242,  ..., -0.4242, -0.4242, -0.4242],\n",
       "           [-0.4242, -0.4242, -0.4242,  ..., -0.4242, -0.4242, -0.4242],\n",
       "           [-0.4242, -0.4242, -0.4242,  ..., -0.4242, -0.4242, -0.4242]]],\n",
       " \n",
       " \n",
       "         [[[-0.4242, -0.4242, -0.4242,  ..., -0.4242, -0.4242, -0.4242],\n",
       "           [-0.4242, -0.4242, -0.4242,  ..., -0.4242, -0.4242, -0.4242],\n",
       "           [-0.4242, -0.4242, -0.4242,  ..., -0.4242, -0.4242, -0.4242],\n",
       "           ...,\n",
       "           [-0.4242, -0.4242, -0.4242,  ..., -0.4242, -0.4242, -0.4242],\n",
       "           [-0.4242, -0.4242, -0.4242,  ..., -0.4242, -0.4242, -0.4242],\n",
       "           [-0.4242, -0.4242, -0.4242,  ..., -0.4242, -0.4242, -0.4242]]],\n",
       " \n",
       " \n",
       "         [[[-0.4242, -0.4242, -0.4242,  ..., -0.4242, -0.4242, -0.4242],\n",
       "           [-0.4242, -0.4242, -0.4242,  ..., -0.4242, -0.4242, -0.4242],\n",
       "           [-0.4242, -0.4242, -0.4242,  ..., -0.4242, -0.4242, -0.4242],\n",
       "           ...,\n",
       "           [-0.4242, -0.4242, -0.4242,  ..., -0.4242, -0.4242, -0.4242],\n",
       "           [-0.4242, -0.4242, -0.4242,  ..., -0.4242, -0.4242, -0.4242],\n",
       "           [-0.4242, -0.4242, -0.4242,  ..., -0.4242, -0.4242, -0.4242]]]]),\n",
       " tensor([8, 4, 8, 6, 6, 9, 2, 1, 0, 0, 4, 6, 7, 2, 1, 7, 2, 5, 0, 2, 6, 2, 0, 0,\n",
       "         1, 0, 0, 5, 5, 5, 8, 4, 5, 9, 4, 9, 1, 2, 6, 0, 8, 2, 4, 2, 8, 5, 9, 3,\n",
       "         3, 4, 4, 1, 7, 1, 2, 8, 6, 6, 2, 6, 4, 8, 6, 1, 6, 3, 9, 7, 2, 8, 9, 9,\n",
       "         6, 8, 8, 3, 4, 5, 1, 8, 0, 8, 8, 3, 6, 1, 7, 0, 1, 1, 8, 5, 0, 7, 3, 1,\n",
       "         8, 4, 3, 5, 4, 4, 5, 6, 6, 3, 7, 4, 4, 9, 2, 8, 7, 0, 9, 8, 4, 0, 9, 6,\n",
       "         8, 9, 5, 8, 9, 6, 1, 7, 8, 0, 2, 2, 2, 7, 3, 9, 4, 8, 8, 9, 9, 4, 7, 6,\n",
       "         1, 1, 0, 4, 3, 7, 3, 6, 3, 6, 1, 9, 3, 9, 2, 3, 4, 2, 2, 9, 7, 4, 9, 9,\n",
       "         7, 7, 6, 5, 6, 1, 7, 5, 8, 2, 2, 2, 1, 2, 7, 2, 2, 6, 0, 3, 4, 5, 6, 0,\n",
       "         2, 7, 9, 3, 4, 8, 9, 5, 2, 4, 3, 1, 6, 1, 9, 8, 2, 9, 9, 9, 2, 4, 5, 7,\n",
       "         4, 0, 4, 6, 7, 2, 3, 0, 9, 1, 3, 0, 6, 8, 3, 7, 9, 4, 6, 3, 3, 7, 1, 7,\n",
       "         5, 8, 4, 4, 8, 2, 0, 3, 2, 9, 1, 3, 8, 7, 0, 5]))"
      ]
     },
     "execution_count": 21,
     "metadata": {
      "tags": []
     },
     "output_type": "execute_result"
    }
   ],
   "source": [
    "x, y = next(iter(train_dataloader))\n",
    "x, y"
   ]
  },
  {
   "cell_type": "markdown",
   "metadata": {
    "colab_type": "text",
    "id": "pPujqFJJ8PCh"
   },
   "source": [
    "If you you're wondering about that ``next(iter(.))``-business check out how python's iterator protocol works. It's simple and will give you an important insight into python: https://wiki.python.org/moin/Iterator"
   ]
  },
  {
   "cell_type": "markdown",
   "metadata": {
    "colab_type": "text",
    "id": "Xnsc8PHk8PCi"
   },
   "source": [
    "***QUESTION 1:*** How does the element access above work? What do the functions do?"
   ]
  },
  {
   "cell_type": "markdown",
   "metadata": {
    "colab_type": "text",
    "id": "Ewxt58dA8PCj"
   },
   "source": [
    "***SOLUTION:*** The function `iter` creates an iterator for the dataset. On this iterator `next` is called meaning that the first element is called and outputed. It is the first batch of size 256 of the training data."
   ]
  },
  {
   "cell_type": "markdown",
   "metadata": {
    "colab_type": "text",
    "id": "aCOFaXdY8PCj"
   },
   "source": [
    "The data loader gives us two tensors. The first is a tensor with dimensons:"
   ]
  },
  {
   "cell_type": "code",
   "execution_count": 0,
   "metadata": {
    "colab": {
     "base_uri": "https://localhost:8080/",
     "height": 34
    },
    "colab_type": "code",
    "id": "i8Qvblsw8PCk",
    "outputId": "43beb104-1e47-45b6-80f1-5ff95f90a3a4"
   },
   "outputs": [
    {
     "data": {
      "text/plain": [
       "torch.Size([256, 1, 28, 28])"
      ]
     },
     "execution_count": 22,
     "metadata": {
      "tags": []
     },
     "output_type": "execute_result"
    }
   ],
   "source": [
    "x.shape"
   ]
  },
  {
   "cell_type": "markdown",
   "metadata": {
    "colab_type": "text",
    "id": "MaCZs36H8PCm"
   },
   "source": [
    "and the second has dimensions:"
   ]
  },
  {
   "cell_type": "code",
   "execution_count": 0,
   "metadata": {
    "colab": {
     "base_uri": "https://localhost:8080/",
     "height": 34
    },
    "colab_type": "code",
    "id": "QeAHSJBh8PCn",
    "outputId": "696a2079-99d1-485b-9c1b-34793f10be52"
   },
   "outputs": [
    {
     "data": {
      "text/plain": [
       "torch.Size([256])"
      ]
     },
     "execution_count": 23,
     "metadata": {
      "tags": []
     },
     "output_type": "execute_result"
    }
   ],
   "source": [
    "y.size()"
   ]
  },
  {
   "cell_type": "markdown",
   "metadata": {
    "colab_type": "text",
    "id": "mtxIKF3i8PCp"
   },
   "source": [
    "(``.shape`` and ``.size()`` are both valid and used interchangably throughout pytorch.)"
   ]
  },
  {
   "cell_type": "markdown",
   "metadata": {
    "colab_type": "text",
    "id": "-e4iRr3a8PCq"
   },
   "source": [
    "x has size (4, 1, 28, 28) --> 4 batches (or whatever you have defined in your data loader), 1 channel (the images are monochrome), 28 height/rows, 28 width/cols."
   ]
  },
  {
   "cell_type": "markdown",
   "metadata": {
    "colab_type": "text",
    "id": "ovQSOElc8PCq"
   },
   "source": [
    "y has size (4) --> 4 batches (again depends on your data loader config). There's one label for each of the images in the batch."
   ]
  },
  {
   "cell_type": "markdown",
   "metadata": {
    "colab_type": "text",
    "id": "CJuJ01YK8PCr"
   },
   "source": [
    "How about the mean of a couple of batches? Should be approx. 0. Extra exercise compute the std. dev. as well.\n",
    "Let's create a new data loader first, that will load only a subset of the data. A data loader that loads only a subset is often great to iterate quickly through experiments/parameters early on in the training."
   ]
  },
  {
   "cell_type": "markdown",
   "metadata": {
    "colab_type": "text",
    "id": "Fq-oLpf68PCr"
   },
   "source": [
    "***QUESTION 2:*** To get a dataloader that operates on a subset of a given data set, you can provide the data loader with a custom sampler. For this exercise define a sampler that will load random samples from a subset of the data set. The PyTorch docs are your friend!"
   ]
  },
  {
   "cell_type": "markdown",
   "metadata": {
    "colab_type": "text",
    "id": "py3oti6J8PCs"
   },
   "source": [
    "***SOLUTION:***"
   ]
  },
  {
   "cell_type": "code",
   "execution_count": 0,
   "metadata": {
    "colab": {},
    "colab_type": "code",
    "id": "k1eBsrV78PCs"
   },
   "outputs": [],
   "source": [
    "# DONE\n",
    "sampler = torch.utils.data.RandomSampler(mnist_train, replacement=True, num_samples = 100)# DEFINE A SAMPLER THAT WILL LOAD RANDOM SAMPLES FROM A SUBSET OF THE DATASET\n",
    "subset_loader = torch.utils.data.DataLoader(mnist_train, batch_size=4, num_workers=num_cpus//1, sampler=sampler)"
   ]
  },
  {
   "cell_type": "code",
   "execution_count": 0,
   "metadata": {
    "colab": {
     "base_uri": "https://localhost:8080/",
     "height": 34
    },
    "colab_type": "code",
    "id": "WHrMytEm8PCt",
    "outputId": "55b8f97b-798b-4aae-dcf3-5da060fb468e"
   },
   "outputs": [
    {
     "data": {
      "text/plain": [
       "tensor(-0.0080)"
      ]
     },
     "execution_count": 25,
     "metadata": {
      "tags": []
     },
     "output_type": "execute_result"
    }
   ],
   "source": [
    "means = [x.mean() for x, _ in subset_loader]\n",
    "torch.stack(means).mean()"
   ]
  },
  {
   "cell_type": "markdown",
   "metadata": {
    "colab_type": "text",
    "id": "RGt_nBBU8PCw"
   },
   "source": [
    "## Create a model"
   ]
  },
  {
   "cell_type": "markdown",
   "metadata": {
    "colab_type": "text",
    "id": "VYwmFD708PCx"
   },
   "source": [
    "Now we're going to define the model that we're going to train on the data. Let's go for a simple, fully connected network also called multi-layer perceptron (MLP). An MLP consists of multiple fully connected layers with activation functions in between. In pytorch a fully connected layer is called *linear* layer. We'll use a sigmoid as activation functions within the network and a softamx for the categorical output.\n",
    "\n",
    "Nets are defined as composable modules. Typically one would implement the initialization and the forward function. ``__init__`` usually instantiates sub-modules, while forward uses those modules to compute the forward function. The backward pass is performed automatically with autograd, which is the core feature of pytorch."
   ]
  },
  {
   "cell_type": "markdown",
   "metadata": {
    "colab_type": "text",
    "id": "_Vz7JxSw8PCy"
   },
   "source": [
    "### Define the architecture"
   ]
  },
  {
   "cell_type": "markdown",
   "metadata": {
    "colab_type": "text",
    "id": "h33UL8xx8PC0"
   },
   "source": [
    "Now we need to define a net to train on our data. Let's use a simple MLP with three linear layers and some activation function (ReLU, LeakyReLU, Sigmoid, tanh?). The second layer should have the same amount of inputs as the initial layer. The last layer should have half as many inputs as the middle layer. \n",
    "\n",
    "Look up ``nn.Linear`` in the PyTorch docs. What should the input size be? How many elements are in the input data?\n",
    "\n",
    "Also lookup potential activation functions.\n",
    "\n",
    "In the forward function first \"flatten\" the input vector. The input vector will be of size (BATCH_SIZE, 28, 28). However, the linear layers only take data of size (BATCH_SIZE, N). So, you need to flatten the last two dimensions. There's a vector operation for this purpose in PyTorch. Then run the input data through all your layers in the proper sequence.\n",
    "\n",
    "In general in PyTorch most operations happen on (BATCH_SIZE, ...) because batches are computed in parallel on GPUs. So most of the time the BATCH_SIZE is there implicitly in operations and tensors.\n",
    "\n",
    "Hint for the output layer: you need to have an output of size (BATCH_SIZE, 10) for our loss function to work. Again, the batch size is implicit in the definition of the output layer."
   ]
  },
  {
   "cell_type": "code",
   "execution_count": 0,
   "metadata": {
    "colab": {},
    "colab_type": "code",
    "id": "msbzlVSI8PC1"
   },
   "outputs": [],
   "source": [
    "class MLP(nn.Module):\n",
    "    # TODO: aktiv vor die layer\n",
    "    def __init__(self, num_layers=1):\n",
    "        super().__init__()\n",
    "        layers = [nn.Linear(28*28, 28*28),\n",
    "                  nn.Sigmoid(),\n",
    "                  nn.Linear(28*28, 28*14),\n",
    "                  nn.Sigmoid(),\n",
    "                  nn.Linear(28*14, 10)]\n",
    "        self.lls = nn.Sequential(*layers)\n",
    "    \n",
    "    def forward(self, x):\n",
    "        batch_size = x.shape[0]\n",
    "        x = torch.flatten(x, 2,3) # <FLATTEN THE INPUT TO A SUITABLE SIZE FOR THE INITIAL LINEAR LAYER>\n",
    "        # <RUN THE DATA THROUGH ALL OF YOUR LAYERS>\n",
    "        for layer in self.lls:\n",
    "            x = layer(x)\n",
    "        return x"
   ]
  },
  {
   "cell_type": "markdown",
   "metadata": {
    "colab_type": "text",
    "id": "zAETgRHt8PC3"
   },
   "source": [
    "### Instantiate the model"
   ]
  },
  {
   "cell_type": "code",
   "execution_count": 0,
   "metadata": {
    "colab": {},
    "colab_type": "code",
    "id": "tmCKjfEk8PC3"
   },
   "outputs": [],
   "source": [
    "model = MLP(num_layers=1).to(device)"
   ]
  },
  {
   "cell_type": "markdown",
   "metadata": {
    "colab_type": "text",
    "id": "2cATXj3w8PC5"
   },
   "source": [
    "Let's take a look a look at the inside of our model. It's always a good idea to verify that the actual architecture is what you intended it to be. Especially, when you start to create layers dynamically it's great for inspection/verification/debugging."
   ]
  },
  {
   "cell_type": "code",
   "execution_count": 0,
   "metadata": {
    "colab": {
     "base_uri": "https://localhost:8080/",
     "height": 173
    },
    "colab_type": "code",
    "id": "FWku4YJN8PC5",
    "outputId": "22f94d23-85cb-4958-8156-a71f082582a9"
   },
   "outputs": [
    {
     "data": {
      "text/plain": [
       "MLP(\n",
       "  (lls): Sequential(\n",
       "    (0): Linear(in_features=784, out_features=784, bias=True)\n",
       "    (1): Sigmoid()\n",
       "    (2): Linear(in_features=784, out_features=392, bias=True)\n",
       "    (3): Sigmoid()\n",
       "    (4): Linear(in_features=392, out_features=10, bias=True)\n",
       "  )\n",
       ")"
      ]
     },
     "execution_count": 28,
     "metadata": {
      "tags": []
     },
     "output_type": "execute_result"
    }
   ],
   "source": [
    "model"
   ]
  },
  {
   "cell_type": "markdown",
   "metadata": {
    "colab_type": "text",
    "id": "4Bcnh2pX8PC7"
   },
   "source": [
    "## Define a loss function"
   ]
  },
  {
   "cell_type": "markdown",
   "metadata": {
    "colab_type": "text",
    "id": "wsBp_tRW8PC8"
   },
   "source": [
    "So far we've avoided to define the final layer activation in our net. Since we're deadling with multi-class classification (i.e. multiple categories), softmax is the canonical choice for the final layer activation. Softmax provides us with a distribution of values $\\in [0, 1]$ that sum to 1 over all categories.\n",
    "\n",
    "The softmax function typically goes hand-in-hand with negative log-likelihood (NLL) as loss function. So, naively, one would set the final layer activation to softmax and then the loss to NLL. However, NLL expects log-probablities, but softmax provides probabilities. Thus, we would need to compute the log of softmax's output. This approach in turn leads to numerical instabilities, which in turn make it harder for your net to converge. One solution is to use ``LogSoftmax``, which computes the log probabilities from the softmax direclty. It's numerically stable and faster, than the manual approach. An alternative, but functionally equivalent, approach is to skip the final layer activation and to use ``nn.functional.cross_entropy``. This is a loss function that combines ``LogSoftmax`` and ``NLLLoss`` . "
   ]
  },
  {
   "cell_type": "code",
   "execution_count": 0,
   "metadata": {
    "colab": {},
    "colab_type": "code",
    "id": "io-oTx5G8PC9"
   },
   "outputs": [],
   "source": [
    "loss_fn = F.cross_entropy"
   ]
  },
  {
   "cell_type": "markdown",
   "metadata": {
    "colab_type": "text",
    "id": "RXFxILek8PC_"
   },
   "source": [
    "## Define the optimizer"
   ]
  },
  {
   "cell_type": "markdown",
   "metadata": {
    "colab_type": "text",
    "id": "sxDcXQN18PC_"
   },
   "source": [
    "Let's use Adam as optimizer, since it's robust and thus easy to use. We need to pass the model parameters to the optimizer, because the optimizer needs to adjust thos based on the accumulated gradients after backprop."
   ]
  },
  {
   "cell_type": "markdown",
   "metadata": {
    "colab_type": "text",
    "id": "mx4pwiPO8PDA"
   },
   "source": [
    "Look up how to set the learning rate with Adam and **initialize the optimizer below with a learning rate of 1e-4**."
   ]
  },
  {
   "cell_type": "code",
   "execution_count": 0,
   "metadata": {
    "colab": {},
    "colab_type": "code",
    "id": "Ml3kRzmR8PDA"
   },
   "outputs": [],
   "source": [
    "optimizer = torch.optim.Adam(model.parameters(), betas=(0.9, 0.999), lr=1e-4)"
   ]
  },
  {
   "cell_type": "markdown",
   "metadata": {
    "colab_type": "text",
    "id": "1omb8VDi8PDB"
   },
   "source": [
    "## Train"
   ]
  },
  {
   "cell_type": "code",
   "execution_count": 0,
   "metadata": {
    "colab": {},
    "colab_type": "code",
    "id": "XU2XIM858PDC"
   },
   "outputs": [],
   "source": [
    "train_loss, val_loss = [], []"
   ]
  },
  {
   "cell_type": "markdown",
   "metadata": {
    "colab_type": "text",
    "id": "XVqrabMZ8PDD"
   },
   "source": [
    "Let's define the inner training loop."
   ]
  },
  {
   "cell_type": "code",
   "execution_count": 0,
   "metadata": {
    "colab": {},
    "colab_type": "code",
    "id": "zdBGUcyO8PDD"
   },
   "outputs": [],
   "source": [
    "def accuracy(correct, total): return float(correct)/total\n",
    "    \n",
    "\n",
    "# REMOVE\n",
    "torch.set_printoptions(threshold=5000) \n",
    "# END REMOVE\n",
    "\n",
    "def train(dataloader, optimizer, model, loss_fn, train_loss, device, master_bar):\n",
    "    epoch_loss = []\n",
    "    epoch_correct = 0\n",
    "    epoch_total = 0\n",
    "    # <LOOP OVER THE DATA LOADER AND USE fastprogress.progress_bar WITH master_bar FOR OUTPUT>\n",
    "    for x, y in fastprogress.progress_bar(dataloader, parent=master_bar):\n",
    "        optimizer.zero_grad()\n",
    "        model.train()\n",
    "        y_pred = model(x.to(device)).flatten(1,2)\n",
    "        hits = y == y_pred.argmax(dim=1)\n",
    "        epoch_correct += sum(hits)\n",
    "        epoch_total += len(hits)\n",
    "        loss = loss_fn(y_pred.to(device), y.to(device)) # <MOVE THE LABEL TO YOUR DEVICE AND COMPUTE THE LOSS>\n",
    "        loss.backward() # <COMPUTE THE GRADIENTS IN A BACKWARD PASS>\n",
    "        optimizer.step() # <USE THE COMPUTED GRADIENTS TO PERFORM AN OPTIMIZATION STEP>\n",
    "        epoch_loss.append(loss.item())\n",
    "        averaged_loss = sum(epoch_loss[-50:])/len(epoch_loss[-50:])\n",
    "        master_bar.child.comment = f'Train loss: {averaged_loss:.2f}, train accuracy: {accuracy(epoch_correct, epoch_total):.3f}'\n",
    "    train_loss.extend(epoch_loss)\n",
    "    epoch_accuracy = accuracy(epoch_correct, epoch_total)\n",
    "    return epoch_loss, epoch_accuracy\n",
    "\n",
    "def validate(dataloader, model, loss_fn, val_loss, device, master_bar):\n",
    "    # XXX Using a plain list and appending to it can a) be slow b) lead to memory leaks!\n",
    "    # Use something like a ring buffer for things you want to re-use here in code and\n",
    "    # tensorboardx for training metrics in larger setups.\n",
    "    epoch_loss = []\n",
    "    confusion = torch.zeros(10, 10)\n",
    "    epoch_correct = 0\n",
    "    epoch_total = 0\n",
    "    epoch_misclassified = []\n",
    "    confusion = torch.zeros(10, 10, dtype=torch.int32)\n",
    "    for x, y in fastprogress.progress_bar(dataloader, parent=master_bar):\n",
    "        model.eval()\n",
    "        y_pred = model(x.to(device)).flatten(1,2)\n",
    "        y_pred_idxs = y_pred.argmax(dim=1)\n",
    "        for (idx_true, idx_pred) in zip(y, y_pred_idxs):\n",
    "            confusion[idx_true, idx_pred] += 1\n",
    "        hits = y == y_pred_idxs\n",
    "        epoch_correct += sum(hits)\n",
    "        epoch_total += len(hits)\n",
    "        misclassified = list(zip([x for x in x[~hits]], y[~hits]))\n",
    "        epoch_misclassified.extend(misclassified)\n",
    "        loss = loss_fn(y_pred, y.to(device))\n",
    "        epoch_loss.append(loss.item())\n",
    "        averaged_loss = sum(epoch_loss[-50:])/len(epoch_loss[-50:])\n",
    "        master_bar.child.comment = f'Val loss: {averaged_loss:.2f}, train accuracy: {accuracy(epoch_correct, epoch_total):.3f}'\n",
    "    epoch_accuracy = accuracy(epoch_correct, epoch_total)\n",
    "    return epoch_loss, epoch_accuracy, epoch_misclassified, confusion"
   ]
  },
  {
   "cell_type": "markdown",
   "metadata": {
    "colab_type": "text",
    "id": "xEsabo1Y8PDE"
   },
   "source": [
    "***Question 3:*** Why are we using `optimizer.zero_grad()` in the training loop for each batch? Why aren't we doing that in the validation loop as well?"
   ]
  },
  {
   "cell_type": "markdown",
   "metadata": {
    "colab_type": "text",
    "id": "oZMk2tNK8PDF"
   },
   "source": [
    "***SOLUTION:*** PyTorch accumulates the gradients by default, meaning that for every parameter the new gradients get added to the old ones.\n",
    "Therefore, it is required to reset the gradients to 0 in every iteration so the gradient points to the minimum and not some other direction."
   ]
  },
  {
   "cell_type": "code",
   "execution_count": 0,
   "metadata": {
    "colab": {
     "base_uri": "https://localhost:8080/",
     "height": 337
    },
    "colab_type": "code",
    "id": "T6pTA-CF8PDF",
    "outputId": "9b3082c7-1848-492f-d7dd-255106774879"
   },
   "outputs": [
    {
     "data": {
      "text/html": [
       "Train loss: 1.52, val loss: 0.83, train acc: 0.648, val acc 0.831<p>Train loss: 0.59, val loss: 0.45, train acc: 0.869, val acc 0.889<p>Train loss: 0.39, val loss: 0.35, train acc: 0.901, val acc 0.905"
      ],
      "text/plain": [
       "<IPython.core.display.HTML object>"
      ]
     },
     "metadata": {
      "tags": []
     },
     "output_type": "display_data"
    },
    {
     "data": {
      "image/png": "[encoded data removed]",
      "text/plain": [
       "<Figure size 432x288 with 1 Axes>"
      ]
     },
     "metadata": {
      "tags": []
     },
     "output_type": "display_data"
    }
   ],
   "source": [
    "num_epochs = 3\n",
    "master_bar = fastprogress.master_bar(range(num_epochs))\n",
    "for epoch in master_bar:\n",
    "    epoch_train_loss, epoch_train_acc = train(train_dataloader, optimizer, model, loss_fn, train_loss, device, master_bar)\n",
    "    epoch_train_mean_loss = sum(epoch_train_loss)/len(epoch_train_loss)\n",
    "    epoch_val_loss, epoch_val_acc, misclassified, confusion = validate(val_dataloader, model, loss_fn, val_loss, device, master_bar)\n",
    "    epoch_val_mean_loss = sum(epoch_val_loss)/len(epoch_val_loss)\n",
    "    master_bar.write(f'Train loss: {epoch_train_mean_loss:.2f}, val loss: {epoch_val_mean_loss:.2f}, train acc: {epoch_train_acc:.3f}, val acc {epoch_val_acc:.3f}')\n",
    "    master_bar.update_graph([[range(len(epoch_train_loss)), epoch_train_loss]])"
   ]
  },
  {
   "cell_type": "code",
   "execution_count": 0,
   "metadata": {
    "colab": {
     "base_uri": "https://localhost:8080/",
     "height": 282
    },
    "colab_type": "code",
    "id": "JiWqnkwZ8PDH",
    "outputId": "f03de318-4547-493b-d0cc-6d53358af410"
   },
   "outputs": [
    {
     "data": {
      "text/plain": [
       "[<matplotlib.lines.Line2D at 0x7f3ad9f16550>]"
      ]
     },
     "execution_count": 34,
     "metadata": {
      "tags": []
     },
     "output_type": "execute_result"
    },
    {
     "data": {
      "image/png": "[encoded data removed]",
      "text/plain": [
       "<Figure size 432x288 with 1 Axes>"
      ]
     },
     "metadata": {
      "tags": []
     },
     "output_type": "display_data"
    }
   ],
   "source": [
    "plt.plot(train_loss)"
   ]
  },
  {
   "cell_type": "markdown",
   "metadata": {
    "colab_type": "text",
    "id": "GzuyqkFr8PDJ"
   },
   "source": [
    "Let's take a look at random misclassified images. Misclassified images can give you a better feeling for well your classifier is doing and where it's weaknesses may lie. Are the misclassified images really hard to interpret? Are there any obvious patterns that the classifier doesn't get? Would you do better yourself?"
   ]
  },
  {
   "cell_type": "code",
   "execution_count": 0,
   "metadata": {
    "colab": {
     "base_uri": "https://localhost:8080/",
     "height": 34
    },
    "colab_type": "code",
    "id": "rw1KlNK78PDK",
    "outputId": "9e8787cc-7e4d-4ad0-a0e5-ef224ae97ceb"
   },
   "outputs": [
    {
     "data": {
      "text/plain": [
       "1144"
      ]
     },
     "execution_count": 35,
     "metadata": {
      "tags": []
     },
     "output_type": "execute_result"
    }
   ],
   "source": [
    "len(misclassified)"
   ]
  },
  {
   "cell_type": "code",
   "execution_count": 0,
   "metadata": {
    "colab": {
     "base_uri": "https://localhost:8080/",
     "height": 62
    },
    "colab_type": "code",
    "id": "G-Rqs9ZZ8PDL",
    "outputId": "cfc132bf-5e29-4851-e30c-a4a5414b106a"
   },
   "outputs": [
    {
     "name": "stdout",
     "output_type": "stream",
     "text": [
      "tensor(6)\n"
     ]
    },
    {
     "data": {
      "image/png": "[encoded data removed]",
      "text/plain": [
       "<PIL.Image.Image image mode=L size=28x28 at 0x7F3AD9E65E10>"
      ]
     },
     "execution_count": 36,
     "metadata": {
      "tags": []
     },
     "output_type": "execute_result"
    }
   ],
   "source": [
    "rand_miss_tensor, label = random.choice(misclassified)\n",
    "rand_miss_tensor = TF.normalize(rand_miss_tensor, (-0.1307/0.3081,), (1/0.3081,))\n",
    "rand_miss_image = TF.to_pil_image(rand_miss_tensor)\n",
    "print(label)\n",
    "rand_miss_image"
   ]
  },
  {
   "cell_type": "markdown",
   "metadata": {
    "colab_type": "text",
    "id": "Hdo-bre38PDN"
   },
   "source": [
    "Let's take a look at the confusion matrix to get a feeling for the most misclassified numbers."
   ]
  },
  {
   "cell_type": "code",
   "execution_count": 0,
   "metadata": {
    "colab": {
     "base_uri": "https://localhost:8080/",
     "height": 445
    },
    "colab_type": "code",
    "id": "C0W4q-RL8PDO",
    "outputId": "15bc109c-cebb-45bf-fc8e-a114574ffd46"
   },
   "outputs": [
    {
     "data": {
      "text/plain": [
       "<matplotlib.axes._subplots.AxesSubplot at 0x7f3ada22e3c8>"
      ]
     },
     "execution_count": 37,
     "metadata": {
      "tags": []
     },
     "output_type": "execute_result"
    },
    {
     "data": {
      "image/png": "[encoded data removed]",
      "text/plain": [
       "<Figure size 720x504 with 2 Axes>"
      ]
     },
     "metadata": {
      "tags": []
     },
     "output_type": "display_data"
    }
   ],
   "source": [
    "plt.figure(figsize=(10,7))\n",
    "sn.heatmap(confusion, annot=True)"
   ]
  },
  {
   "cell_type": "markdown",
   "metadata": {
    "colab_type": "text",
    "id": "9hrkgCMq8PDP"
   },
   "source": [
    "**Exercise** Where do you see most misclassifications in the confusion matrix above? Which classes are misclassified in what way?"
   ]
  },
  {
   "cell_type": "markdown",
   "metadata": {
    "colab_type": "text",
    "id": "_2h8ZfbH8PDP"
   },
   "source": [
    "Let's continue to train and see what happens. Btw. you can interrupt the execution by pressing `i` twice or with the \"stop\" button in the menu in Jupyter. In Colab press `Cmd/Ctrl+M` I or use the \"Runtime\" menu."
   ]
  },
  {
   "cell_type": "code",
   "execution_count": 0,
   "metadata": {
    "colab": {
     "base_uri": "https://localhost:8080/",
     "height": 1000
    },
    "colab_type": "code",
    "id": "kkHoMNn78PDQ",
    "jupyter": {
     "outputs_hidden": true
    },
    "outputId": "f6ba663f-daab-4100-ca1f-7d6a82037436"
   },
   "outputs": [
    {
     "data": {
      "text/html": [
       "\n",
       "    <div>\n",
       "        <style>\n",
       "            /* Turns off some styling */\n",
       "            progress {\n",
       "                /* gets rid of default border in Firefox and Opera. */\n",
       "                border: none;\n",
       "                /* Needs to be in here for Safari polyfill so background images work as expected. */\n",
       "                background-size: auto;\n",
       "            }\n",
       "            .progress-bar-interrupted, .progress-bar-interrupted::-webkit-progress-bar {\n",
       "                background: #F44336;\n",
       "            }\n",
       "        </style>\n",
       "      <progress value='210' class='' max='1000', style='width:300px; height:20px; vertical-align: middle;'></progress>\n",
       "      21.00% [210/1000 59:47<3:44:57]\n",
       "    </div>\n",
       "    \n",
       "Train loss: 0.31, val loss: 0.30, train acc: 0.913, val acc 0.915<p>Train loss: 0.28, val loss: 0.26, train acc: 0.921, val acc 0.922<p>Train loss: 0.25, val loss: 0.24, train acc: 0.928, val acc 0.928<p>Train loss: 0.23, val loss: 0.22, train acc: 0.934, val acc 0.936<p>Train loss: 0.21, val loss: 0.20, train acc: 0.940, val acc 0.941<p>Train loss: 0.19, val loss: 0.18, train acc: 0.945, val acc 0.946<p>Train loss: 0.18, val loss: 0.17, train acc: 0.949, val acc 0.951<p>Train loss: 0.16, val loss: 0.16, train acc: 0.952, val acc 0.953<p>Train loss: 0.15, val loss: 0.15, train acc: 0.956, val acc 0.958<p>Train loss: 0.14, val loss: 0.14, train acc: 0.959, val acc 0.961<p>Train loss: 0.13, val loss: 0.13, train acc: 0.962, val acc 0.962<p>Train loss: 0.12, val loss: 0.12, train acc: 0.965, val acc 0.966<p>Train loss: 0.11, val loss: 0.11, train acc: 0.967, val acc 0.969<p>Train loss: 0.11, val loss: 0.10, train acc: 0.970, val acc 0.971<p>Train loss: 0.10, val loss: 0.10, train acc: 0.972, val acc 0.972<p>Train loss: 0.09, val loss: 0.09, train acc: 0.974, val acc 0.974<p>Train loss: 0.09, val loss: 0.09, train acc: 0.976, val acc 0.976<p>Train loss: 0.08, val loss: 0.08, train acc: 0.977, val acc 0.978<p>Train loss: 0.08, val loss: 0.08, train acc: 0.979, val acc 0.979<p>Train loss: 0.07, val loss: 0.07, train acc: 0.980, val acc 0.981<p>Train loss: 0.07, val loss: 0.07, train acc: 0.982, val acc 0.982<p>Train loss: 0.06, val loss: 0.06, train acc: 0.983, val acc 0.983<p>Train loss: 0.06, val loss: 0.06, train acc: 0.984, val acc 0.984<p>Train loss: 0.05, val loss: 0.06, train acc: 0.985, val acc 0.985<p>Train loss: 0.05, val loss: 0.05, train acc: 0.986, val acc 0.987<p>Train loss: 0.05, val loss: 0.05, train acc: 0.987, val acc 0.987<p>Train loss: 0.05, val loss: 0.04, train acc: 0.988, val acc 0.989<p>Train loss: 0.04, val loss: 0.04, train acc: 0.989, val acc 0.990<p>Train loss: 0.04, val loss: 0.04, train acc: 0.990, val acc 0.991<p>Train loss: 0.04, val loss: 0.04, train acc: 0.991, val acc 0.991<p>Train loss: 0.03, val loss: 0.04, train acc: 0.992, val acc 0.992<p>Train loss: 0.03, val loss: 0.03, train acc: 0.992, val acc 0.993<p>Train loss: 0.03, val loss: 0.03, train acc: 0.993, val acc 0.993<p>Train loss: 0.03, val loss: 0.03, train acc: 0.994, val acc 0.994<p>Train loss: 0.03, val loss: 0.03, train acc: 0.995, val acc 0.995<p>Train loss: 0.02, val loss: 0.03, train acc: 0.995, val acc 0.995<p>Train loss: 0.02, val loss: 0.02, train acc: 0.995, val acc 0.996<p>Train loss: 0.02, val loss: 0.02, train acc: 0.996, val acc 0.996<p>Train loss: 0.02, val loss: 0.02, train acc: 0.996, val acc 0.997<p>Train loss: 0.02, val loss: 0.02, train acc: 0.997, val acc 0.996<p>Train loss: 0.02, val loss: 0.02, train acc: 0.997, val acc 0.997<p>Train loss: 0.02, val loss: 0.02, train acc: 0.997, val acc 0.998<p>Train loss: 0.01, val loss: 0.01, train acc: 0.998, val acc 0.998<p>Train loss: 0.01, val loss: 0.01, train acc: 0.998, val acc 0.998<p>Train loss: 0.01, val loss: 0.01, train acc: 0.998, val acc 0.998<p>Train loss: 0.01, val loss: 0.01, train acc: 0.999, val acc 0.999<p>Train loss: 0.01, val loss: 0.01, train acc: 0.999, val acc 0.999<p>Train loss: 0.01, val loss: 0.01, train acc: 0.999, val acc 0.999<p>Train loss: 0.01, val loss: 0.01, train acc: 0.999, val acc 0.999<p>Train loss: 0.01, val loss: 0.01, train acc: 0.999, val acc 0.999<p>Train loss: 0.01, val loss: 0.01, train acc: 0.999, val acc 0.999<p>Train loss: 0.01, val loss: 0.01, train acc: 0.999, val acc 0.999<p>Train loss: 0.01, val loss: 0.01, train acc: 0.999, val acc 1.000<p>Train loss: 0.01, val loss: 0.01, train acc: 1.000, val acc 1.000<p>Train loss: 0.01, val loss: 0.01, train acc: 1.000, val acc 1.000<p>Train loss: 0.00, val loss: 0.00, train acc: 1.000, val acc 1.000<p>Train loss: 0.00, val loss: 0.00, train acc: 1.000, val acc 1.000<p>Train loss: 0.00, val loss: 0.00, train acc: 1.000, val acc 1.000<p>Train loss: 0.00, val loss: 0.00, train acc: 1.000, val acc 1.000<p>Train loss: 0.00, val loss: 0.00, train acc: 1.000, val acc 1.000<p>Train loss: 0.00, val loss: 0.00, train acc: 1.000, val acc 1.000<p>Train loss: 0.00, val loss: 0.00, train acc: 1.000, val acc 1.000<p>Train loss: 0.00, val loss: 0.00, train acc: 1.000, val acc 1.000<p>Train loss: 0.00, val loss: 0.00, train acc: 1.000, val acc 1.000<p>Train loss: 0.00, val loss: 0.00, train acc: 1.000, val acc 1.000<p>Train loss: 0.00, val loss: 0.00, train acc: 1.000, val acc 1.000<p>Train loss: 0.00, val loss: 0.00, train acc: 1.000, val acc 1.000<p>Train loss: 0.00, val loss: 0.00, train acc: 1.000, val acc 1.000<p>Train loss: 0.00, val loss: 0.00, train acc: 1.000, val acc 1.000<p>Train loss: 0.00, val loss: 0.00, train acc: 1.000, val acc 1.000<p>Train loss: 0.00, val loss: 0.00, train acc: 1.000, val acc 1.000<p>Train loss: 0.00, val loss: 0.00, train acc: 1.000, val acc 1.000<p>Train loss: 0.00, val loss: 0.00, train acc: 1.000, val acc 1.000<p>Train loss: 0.00, val loss: 0.00, train acc: 1.000, val acc 1.000<p>Train loss: 0.00, val loss: 0.00, train acc: 1.000, val acc 1.000<p>Train loss: 0.00, val loss: 0.00, train acc: 1.000, val acc 1.000<p>Train loss: 0.00, val loss: 0.00, train acc: 1.000, val acc 1.000<p>Train loss: 0.00, val loss: 0.00, train acc: 1.000, val acc 1.000<p>Train loss: 0.00, val loss: 0.00, train acc: 1.000, val acc 1.000<p>Train loss: 0.00, val loss: 0.00, train acc: 1.000, val acc 1.000<p>Train loss: 0.00, val loss: 0.00, train acc: 1.000, val acc 1.000<p>Train loss: 0.00, val loss: 0.00, train acc: 1.000, val acc 1.000<p>Train loss: 0.00, val loss: 0.00, train acc: 1.000, val acc 1.000<p>Train loss: 0.00, val loss: 0.00, train acc: 1.000, val acc 1.000<p>Train loss: 0.00, val loss: 0.00, train acc: 1.000, val acc 1.000<p>Train loss: 0.00, val loss: 0.00, train acc: 1.000, val acc 1.000<p>Train loss: 0.00, val loss: 0.00, train acc: 1.000, val acc 1.000<p>Train loss: 0.00, val loss: 0.00, train acc: 1.000, val acc 1.000<p>Train loss: 0.00, val loss: 0.00, train acc: 1.000, val acc 1.000<p>Train loss: 0.00, val loss: 0.00, train acc: 1.000, val acc 1.000<p>Train loss: 0.00, val loss: 0.00, train acc: 1.000, val acc 1.000<p>Train loss: 0.00, val loss: 0.00, train acc: 1.000, val acc 1.000<p>Train loss: 0.00, val loss: 0.00, train acc: 1.000, val acc 1.000<p>Train loss: 0.00, val loss: 0.00, train acc: 1.000, val acc 1.000<p>Train loss: 0.00, val loss: 0.00, train acc: 1.000, val acc 1.000<p>Train loss: 0.00, val loss: 0.00, train acc: 1.000, val acc 1.000<p>Train loss: 0.00, val loss: 0.00, train acc: 1.000, val acc 1.000<p>Train loss: 0.00, val loss: 0.00, train acc: 1.000, val acc 1.000<p>Train loss: 0.00, val loss: 0.00, train acc: 1.000, val acc 1.000<p>Train loss: 0.00, val loss: 0.00, train acc: 1.000, val acc 1.000<p>Train loss: 0.00, val loss: 0.00, train acc: 1.000, val acc 1.000<p>Train loss: 0.00, val loss: 0.00, train acc: 1.000, val acc 1.000<p>Train loss: 0.00, val loss: 0.00, train acc: 1.000, val acc 1.000<p>Train loss: 0.00, val loss: 0.00, train acc: 1.000, val acc 1.000<p>Train loss: 0.00, val loss: 0.00, train acc: 1.000, val acc 1.000<p>Train loss: 0.00, val loss: 0.00, train acc: 1.000, val acc 1.000<p>Train loss: 0.00, val loss: 0.00, train acc: 1.000, val acc 1.000<p>Train loss: 0.00, val loss: 0.00, train acc: 1.000, val acc 1.000<p>Train loss: 0.00, val loss: 0.00, train acc: 1.000, val acc 1.000<p>Train loss: 0.00, val loss: 0.00, train acc: 1.000, val acc 1.000<p>Train loss: 0.00, val loss: 0.00, train acc: 1.000, val acc 1.000<p>Train loss: 0.00, val loss: 0.00, train acc: 1.000, val acc 1.000<p>Train loss: 0.00, val loss: 0.00, train acc: 1.000, val acc 1.000<p>Train loss: 0.00, val loss: 0.00, train acc: 1.000, val acc 1.000<p>Train loss: 0.00, val loss: 0.00, train acc: 1.000, val acc 1.000<p>Train loss: 0.00, val loss: 0.00, train acc: 1.000, val acc 1.000<p>Train loss: 0.00, val loss: 0.00, train acc: 1.000, val acc 1.000<p>Train loss: 0.00, val loss: 0.00, train acc: 1.000, val acc 1.000<p>Train loss: 0.00, val loss: 0.00, train acc: 1.000, val acc 1.000<p>Train loss: 0.00, val loss: 0.00, train acc: 1.000, val acc 1.000<p>Train loss: 0.00, val loss: 0.00, train acc: 1.000, val acc 1.000<p>Train loss: 0.00, val loss: 0.00, train acc: 1.000, val acc 1.000<p>Train loss: 0.00, val loss: 0.00, train acc: 1.000, val acc 1.000<p>Train loss: 0.00, val loss: 0.00, train acc: 1.000, val acc 1.000<p>Train loss: 0.00, val loss: 0.00, train acc: 1.000, val acc 1.000<p>Train loss: 0.00, val loss: 0.00, train acc: 1.000, val acc 1.000<p>Train loss: 0.00, val loss: 0.00, train acc: 1.000, val acc 1.000<p>Train loss: 0.00, val loss: 0.00, train acc: 1.000, val acc 1.000<p>Train loss: 0.00, val loss: 0.00, train acc: 1.000, val acc 1.000<p>Train loss: 0.00, val loss: 0.00, train acc: 1.000, val acc 1.000<p>Train loss: 0.00, val loss: 0.00, train acc: 1.000, val acc 1.000<p>Train loss: 0.00, val loss: 0.00, train acc: 1.000, val acc 1.000<p>Train loss: 0.00, val loss: 0.00, train acc: 1.000, val acc 1.000<p>Train loss: 0.00, val loss: 0.00, train acc: 1.000, val acc 1.000<p>Train loss: 0.00, val loss: 0.00, train acc: 1.000, val acc 1.000<p>Train loss: 0.00, val loss: 0.00, train acc: 1.000, val acc 1.000<p>Train loss: 0.00, val loss: 0.00, train acc: 1.000, val acc 1.000<p>Train loss: 0.00, val loss: 0.00, train acc: 1.000, val acc 1.000<p>Train loss: 0.00, val loss: 0.00, train acc: 1.000, val acc 1.000<p>Train loss: 0.00, val loss: 0.00, train acc: 1.000, val acc 1.000<p>Train loss: 0.00, val loss: 0.00, train acc: 1.000, val acc 1.000<p>Train loss: 0.00, val loss: 0.00, train acc: 1.000, val acc 1.000<p>Train loss: 0.00, val loss: 0.00, train acc: 1.000, val acc 1.000<p>Train loss: 0.00, val loss: 0.00, train acc: 1.000, val acc 1.000<p>Train loss: 0.00, val loss: 0.00, train acc: 1.000, val acc 1.000<p>Train loss: 0.00, val loss: 0.00, train acc: 1.000, val acc 1.000<p>Train loss: 0.00, val loss: 0.00, train acc: 1.000, val acc 1.000<p>Train loss: 0.00, val loss: 0.00, train acc: 1.000, val acc 1.000<p>Train loss: 0.00, val loss: 0.00, train acc: 1.000, val acc 1.000<p>Train loss: 0.00, val loss: 0.00, train acc: 1.000, val acc 1.000<p>Train loss: 0.00, val loss: 0.00, train acc: 1.000, val acc 1.000<p>Train loss: 0.00, val loss: 0.00, train acc: 1.000, val acc 1.000<p>Train loss: 0.00, val loss: 0.00, train acc: 1.000, val acc 1.000<p>Train loss: 0.00, val loss: 0.00, train acc: 1.000, val acc 1.000<p>Train loss: 0.00, val loss: 0.00, train acc: 1.000, val acc 1.000<p>Train loss: 0.00, val loss: 0.00, train acc: 1.000, val acc 1.000<p>Train loss: 0.00, val loss: 0.00, train acc: 1.000, val acc 1.000<p>Train loss: 0.00, val loss: 0.00, train acc: 1.000, val acc 1.000<p>Train loss: 0.00, val loss: 0.00, train acc: 1.000, val acc 1.000<p>Train loss: 0.00, val loss: 0.00, train acc: 1.000, val acc 1.000<p>Train loss: 0.00, val loss: 0.00, train acc: 1.000, val acc 1.000<p>Train loss: 0.00, val loss: 0.00, train acc: 1.000, val acc 1.000<p>Train loss: 0.00, val loss: 0.00, train acc: 1.000, val acc 1.000<p>Train loss: 0.00, val loss: 0.00, train acc: 1.000, val acc 1.000<p>Train loss: 0.00, val loss: 0.00, train acc: 1.000, val acc 1.000<p>Train loss: 0.00, val loss: 0.00, train acc: 1.000, val acc 1.000<p>Train loss: 0.00, val loss: 0.00, train acc: 1.000, val acc 1.000<p>Train loss: 0.00, val loss: 0.00, train acc: 1.000, val acc 1.000<p>Train loss: 0.00, val loss: 0.00, train acc: 1.000, val acc 1.000<p>Train loss: 0.00, val loss: 0.00, train acc: 1.000, val acc 1.000<p>Train loss: 0.00, val loss: 0.00, train acc: 1.000, val acc 1.000<p>Train loss: 0.00, val loss: 0.00, train acc: 1.000, val acc 1.000<p>Train loss: 0.00, val loss: 0.00, train acc: 1.000, val acc 1.000<p>Train loss: 0.00, val loss: 0.00, train acc: 1.000, val acc 1.000<p>Train loss: 0.00, val loss: 0.00, train acc: 1.000, val acc 1.000<p>Train loss: 0.00, val loss: 0.00, train acc: 1.000, val acc 1.000<p>Train loss: 0.00, val loss: 0.00, train acc: 1.000, val acc 1.000<p>Train loss: 0.00, val loss: 0.00, train acc: 1.000, val acc 1.000<p>Train loss: 0.00, val loss: 0.00, train acc: 1.000, val acc 1.000<p>Train loss: 0.00, val loss: 0.00, train acc: 1.000, val acc 1.000<p>Train loss: 0.00, val loss: 0.00, train acc: 1.000, val acc 1.000<p>Train loss: 0.00, val loss: 0.00, train acc: 1.000, val acc 1.000<p>Train loss: 0.00, val loss: 0.00, train acc: 1.000, val acc 1.000<p>Train loss: 0.00, val loss: 0.00, train acc: 1.000, val acc 1.000<p>Train loss: 0.00, val loss: 0.00, train acc: 1.000, val acc 1.000<p>Train loss: 0.00, val loss: 0.00, train acc: 1.000, val acc 1.000<p>Train loss: 0.00, val loss: 0.00, train acc: 1.000, val acc 1.000<p>Train loss: 0.00, val loss: 0.00, train acc: 1.000, val acc 1.000<p>Train loss: 0.00, val loss: 0.00, train acc: 1.000, val acc 1.000<p>Train loss: 0.00, val loss: 0.00, train acc: 1.000, val acc 1.000<p>Train loss: 0.00, val loss: 0.00, train acc: 1.000, val acc 1.000<p>Train loss: 0.00, val loss: 0.00, train acc: 1.000, val acc 1.000<p>Train loss: 0.00, val loss: 0.00, train acc: 1.000, val acc 1.000<p>Train loss: 0.00, val loss: 0.00, train acc: 1.000, val acc 1.000<p>Train loss: 0.00, val loss: 0.00, train acc: 1.000, val acc 1.000<p>Train loss: 0.00, val loss: 0.00, train acc: 1.000, val acc 1.000<p>Train loss: 0.00, val loss: 0.00, train acc: 1.000, val acc 1.000<p>Train loss: 0.00, val loss: 0.00, train acc: 1.000, val acc 1.000<p>Train loss: 0.00, val loss: 0.00, train acc: 1.000, val acc 1.000<p>Train loss: 0.00, val loss: 0.00, train acc: 1.000, val acc 1.000<p>Train loss: 0.00, val loss: 0.00, train acc: 1.000, val acc 1.000<p>Train loss: 0.00, val loss: 0.00, train acc: 1.000, val acc 1.000<p>Train loss: 0.00, val loss: 0.00, train acc: 1.000, val acc 1.000<p>Train loss: 0.00, val loss: 0.00, train acc: 1.000, val acc 1.000<p>Train loss: 0.00, val loss: 0.00, train acc: 1.000, val acc 1.000<p>Train loss: 0.00, val loss: 0.00, train acc: 1.000, val acc 1.000<p>Train loss: 0.00, val loss: 0.00, train acc: 1.000, val acc 1.000<p>Train loss: 0.00, val loss: 0.00, train acc: 1.000, val acc 1.000<p>Train loss: 0.00, val loss: 0.00, train acc: 1.000, val acc 1.000<p>Train loss: 0.00, val loss: 0.00, train acc: 1.000, val acc 1.000<p>\n",
       "\n",
       "    <div>\n",
       "        <style>\n",
       "            /* Turns off some styling */\n",
       "            progress {\n",
       "                /* gets rid of default border in Firefox and Opera. */\n",
       "                border: none;\n",
       "                /* Needs to be in here for Safari polyfill so background images work as expected. */\n",
       "                background-size: auto;\n",
       "            }\n",
       "            .progress-bar-interrupted, .progress-bar-interrupted::-webkit-progress-bar {\n",
       "                background: #F44336;\n",
       "            }\n",
       "        </style>\n",
       "      <progress value='206' class='' max='235', style='width:300px; height:20px; vertical-align: middle;'></progress>\n",
       "      87.66% [206/235 00:12<00:01 Train loss: 0.00, train accuracy: 1.000]\n",
       "    </div>\n",
       "    "
      ],
      "text/plain": [
       "<IPython.core.display.HTML object>"
      ]
     },
     "metadata": {
      "tags": []
     },
     "output_type": "display_data"
    },
    {
     "data": {
      "image/png": "[encoded data removed]",
      "text/plain": [
       "<Figure size 432x288 with 1 Axes>"
      ]
     },
     "metadata": {
      "tags": []
     },
     "output_type": "display_data"
    }
   ],
   "source": [
    "num_epochs = 1000\n",
    "master_bar = fastprogress.master_bar(range(num_epochs))\n",
    "for epoch in master_bar:\n",
    "    epoch_train_loss, epoch_train_acc = train(train_dataloader, optimizer, model, loss_fn, train_loss, device, master_bar)\n",
    "    epoch_train_mean_loss = sum(epoch_train_loss)/len(epoch_train_loss)\n",
    "    epoch_val_loss, epoch_val_acc, misclassified, confusion = validate(val_dataloader, model, loss_fn, val_loss, device, master_bar)\n",
    "    epoch_val_mean_loss = sum(epoch_val_loss)/len(epoch_val_loss)\n",
    "    master_bar.write(f'Train loss: {epoch_train_mean_loss:.2f}, val loss: {epoch_val_mean_loss:.2f}, train acc: {epoch_train_acc:.3f}, val acc {epoch_val_acc:.3f}')\n",
    "    master_bar.update_graph([[range(len(epoch_train_loss)), epoch_train_loss]])"
   ]
  },
  {
   "cell_type": "markdown",
   "metadata": {
    "colab_type": "text",
    "id": "W6VXzDdU8PDT"
   },
   "source": [
    "***QUESTION 4:*** What is you observation regarding the relation of the training metrics to the validation metrics? What does you observation hint at?"
   ]
  },
  {
   "cell_type": "markdown",
   "metadata": {
    "colab_type": "text",
    "id": "YafzwPYI8PDU"
   },
   "source": [
    "***SOLUTION:*** The loss and the accuracy on the validation set is always above, but close to the loss and accuracy on the training set.\n",
    "\n",
    "Everything seems to be alright. However, some sources indicate underfitting."
   ]
  },
  {
   "cell_type": "markdown",
   "metadata": {
    "colab_type": "text",
    "id": "wdr8vpc28PDW"
   },
   "source": [
    "***QUESTION 5:*** Modify the initialization of our optimizer to apply L2 weight decay for regularization. Try a value of 0.001 and then experiment a little. How does L2 regularization impact the results? Copy the necessary cells from above below this cell and modify the code as needed. Which value for L2 regularization did you find to work well?"
   ]
  },
  {
   "cell_type": "markdown",
   "metadata": {
    "colab_type": "text",
    "id": "jc-giVU48PDW"
   },
   "source": [
    "***SOLUTION:*** The network performs very well without regularization and shows no sign of overfitting. Larger values for the weight decay tend to slow down the learning process. Somewhat around `0.000001` works out just fine. The numbers surrounding it led to a slower growing accuracy."
   ]
  },
  {
   "cell_type": "code",
   "execution_count": 0,
   "metadata": {
    "colab": {},
    "colab_type": "code",
    "id": "L1oyf-OU8PDX"
   },
   "outputs": [],
   "source": [
    "# TODO copy cells from above and apply L2 regularization. \n",
    "optimizer = torch.optim.Adam(model.parameters(), betas=(0.9, 0.999), lr=1e-4, weight_decay=0.000001)\n",
    "\n",
    "num_epochs = 1000\n",
    "master_bar = fastprogress.master_bar(range(num_epochs))\n",
    "for epoch in master_bar:\n",
    "    epoch_train_loss, epoch_train_acc = train(train_dataloader, optimizer, model, loss_fn, train_loss, device, master_bar)\n",
    "    epoch_train_mean_loss = sum(epoch_train_loss)/len(epoch_train_loss)\n",
    "    epoch_val_loss, epoch_val_acc, misclassified, confusion = validate(val_dataloader, model, loss_fn, val_loss, device, master_bar)\n",
    "    epoch_val_mean_loss = sum(epoch_val_loss)/len(epoch_val_loss)\n",
    "    master_bar.write(f'Train loss: {epoch_train_mean_loss:.2f}, val loss: {epoch_val_mean_loss:.2f}, train acc: {epoch_train_acc:.3f}, val acc {epoch_val_acc:.3f}')\n",
    "    master_bar.update_graph([[range(len(epoch_train_loss)), epoch_train_loss]])"
   ]
  },
  {
   "cell_type": "markdown",
   "metadata": {
    "colab_type": "text",
    "id": "EYDuItzf8PDY"
   },
   "source": [
    "***QUESTION 6:*** Instead of L2 regularization now use dropout. Add dropout layers after the activations in your network definition. Start with a drop out probability of 0.5 and then experiment with the parameter until you get satisfactory results. Again, copy only the required code from above, run it again and evaluate the results. Which *value* for dropout did you find to work well?"
   ]
  },
  {
   "cell_type": "markdown",
   "metadata": {
    "colab_type": "text",
    "id": "EbALuirp8PDY"
   },
   "source": [
    "***SOLUTION:*** We found `0.125/2` to be a good dropout propability"
   ]
  },
  {
   "cell_type": "code",
   "execution_count": 0,
   "metadata": {
    "colab": {},
    "colab_type": "code",
    "id": "kE9Px12r8PDZ"
   },
   "outputs": [],
   "source": [
    "class MLP(nn.Module):\n",
    "    def __init__(self, num_layers=1):\n",
    "        super().__init__()\n",
    "        layers = [nn.Linear(28*28, 28*28),\n",
    "                  nn.Linear(28*28, 28*14),\n",
    "                  nn.Linear(28*14, 10)]\n",
    "        self.lls = nn.Sequential(*layers)\n",
    "        self.dropout = nn.Dropout(p=0.125/2)\n",
    "    \n",
    "    def forward(self, x):\n",
    "        batch_size = x.shape[0]\n",
    "        x = torch.flatten(x, 2,3) # <FLATTEN THE INPUT TO A SUITABLE SIZE FOR THE INITIAL LINEAR LAYER>\n",
    "        # <RUN THE DATA THROUGH ALL OF YOUR LAYERS>\n",
    "        for layer in self.lls:\n",
    "            x = self.dropout(torch.sigmoid(layer(x)))\n",
    "        return x\n",
    "\n",
    "model = MLP(num_layers=1).to(device)\n",
    "# TODO copy cells from above and apply L2 regularization. \n",
    "optimizer = torch.optim.Adam(model.parameters(), betas=(0.9, 0.999), lr=1e-4)\n",
    "\n",
    "num_epochs = 1000\n",
    "master_bar = fastprogress.master_bar(range(num_epochs))\n",
    "for epoch in master_bar:\n",
    "    epoch_train_loss, epoch_train_acc = train(train_dataloader, optimizer, model, loss_fn, train_loss, device, master_bar)\n",
    "    epoch_train_mean_loss = sum(epoch_train_loss)/len(epoch_train_loss)\n",
    "    epoch_val_loss, epoch_val_acc, misclassified, confusion = validate(val_dataloader, model, loss_fn, val_loss, device, master_bar)\n",
    "    epoch_val_mean_loss = sum(epoch_val_loss)/len(epoch_val_loss)\n",
    "    master_bar.write(f'Train loss: {epoch_train_mean_loss:.2f}, val loss: {epoch_val_mean_loss:.2f}, train acc: {epoch_train_acc:.3f}, val acc {epoch_val_acc:.3f}')\n",
    "    master_bar.update_graph([[range(len(epoch_train_loss)), epoch_train_loss]])"
   ]
  },
  {
   "cell_type": "markdown",
   "metadata": {
    "colab_type": "text",
    "id": "Gk8kyYwf4IqS"
   },
   "source": [
    "***QUESTION 7:*** Can you explain what the line `model.eval()` at the beginning of the validation loop in the function `validate()` defined above does and why it is necessary to include it when using dropout regularization?"
   ]
  },
  {
   "cell_type": "markdown",
   "metadata": {
    "colab_type": "text",
    "id": "x2uYFluS5N82"
   },
   "source": [
    "***SOLUTION:*** The behavior of dropout layers differs in training and validation (dropout is only activ during training). Therefore, `model.eval()` needs to be called so the model can apply this behavior."
   ]
  }
 ],
 "metadata": {
  "colab": {
   "collapsed_sections": [
    "RSaZHscD8PBK",
    "o_TiepIM8PBP",
    "43pXTPMg8PBV"
   ],
   "name": "DL19_Homework2.ipynb",
   "provenance": []
  },
  "kernelspec": {
   "display_name": "Python 3",
   "language": "python",
   "name": "python3"
  },
  "language_info": {
   "codemirror_mode": {
    "name": "ipython",
    "version": 3
   },
   "file_extension": ".py",
   "mimetype": "text/x-python",
   "name": "python",
   "nbconvert_exporter": "python",
   "pygments_lexer": "ipython3",
   "version": "3.7.4"
  },
  "nteract": {
   "version": "0.15.0"
  }
 },
 "nbformat": 4,
 "nbformat_minor": 1
}
