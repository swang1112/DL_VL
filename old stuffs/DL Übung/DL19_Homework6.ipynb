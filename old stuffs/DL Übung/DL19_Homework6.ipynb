{
  "nbformat": 4,
  "nbformat_minor": 0,
  "metadata": {
    "colab": {
      "name": "DL19_Homework6.ipynb",
      "provenance": [],
      "collapsed_sections": [],
      "toc_visible": true
    },
    "kernelspec": {
      "name": "python3",
      "display_name": "Python 3"
    },
    "accelerator": "GPU"
  },
  "cells": [
    {
      "cell_type": "markdown",
      "metadata": {
        "id": "ol6-Fgcp2DgQ",
        "colab_type": "text"
      },
      "source": [
        "# Exercise Sheet 6 – Natural Language Processing with BERT \n",
        "\n",
        " * Deep Learning – Winter term 2019/20\n",
        " * Instructor: Alexander Ecker\n",
        " * Tutor: Lindrit Kqiku <kqiku@cs.uni-goettingen.de>\n",
        " * Due date: Feb 3, 2020 at noon\n"
      ]
    },
    {
      "cell_type": "markdown",
      "metadata": {
        "id": "LZp4BzDU_2Ig",
        "colab_type": "text"
      },
      "source": [
        "## Introduction\n",
        "\n",
        "The aim of this exercise is to build a model that can read textual data and make predictions about the *sentiment* of that text. We will use the IMDB movie data set to design and implement a model that is able to differentiate between positive and negative reviews of a movie.\n",
        "\n",
        "By completing this exercise, you will be able to\n",
        "- Understand and apply transfer learning techniques in NLP\n",
        "- Use the state-of-the-art embedding techniques as part of the embedding layer\n",
        "\n"
      ]
    },
    {
      "cell_type": "markdown",
      "metadata": {
        "id": "WVlgjZoP11i8",
        "colab_type": "text"
      },
      "source": [
        "# IMPORTANT SUBMISSION INSTRUCTIONS\n",
        "\n",
        "- When you're done, download the notebook and rename it to \\<surname1\\>_\\<surname2\\>_\\<surname3\\>.ipynb\n",
        "- Only submit the ipynb file, no other file is required\n",
        "- Submit only once\n",
        "- The deadline is strict\n",
        "- You are required to present your solution in the tutorial; submission of the notebook alone is not sufficient"
      ]
    },
    {
      "cell_type": "markdown",
      "metadata": {
        "id": "E0LCu5AP16--",
        "colab_type": "text"
      },
      "source": [
        "# Setup and Dataset\n"
      ]
    },
    {
      "cell_type": "markdown",
      "metadata": {
        "id": "_Le0E49B2Ubn",
        "colab_type": "text"
      },
      "source": [
        "## Using Colab GPU for Training \n",
        "\n",
        "A GPU can be added by going to the menu and selecting \n",
        "\n",
        "\n",
        "```\n",
        "Edit --> Notebook Settings --> Hardware accelerator --> (GPU)\n",
        "```\n",
        "\n"
      ]
    },
    {
      "cell_type": "code",
      "metadata": {
        "id": "kfgQWzyZS3zN",
        "colab_type": "code",
        "outputId": "31f83863-8c05-4573-f2af-be43714c12ec",
        "colab": {
          "base_uri": "https://localhost:8080/",
          "height": 119
        }
      },
      "source": [
        "import torch\n",
        "\n",
        "# First checking if GPU is available\n",
        "train_on_gpu=torch.cuda.is_available()\n",
        "\n",
        "if(train_on_gpu):\n",
        "    print('Training on GPU.')\n",
        "    device = torch.device(\"cuda\")\n",
        "    print('There is/are %d GPU(s) available.' % torch.cuda.device_count())\n",
        "    print()\n",
        "    print(\"We will use the GPU: \", torch.cuda.get_device_name(0))\n",
        "    print(\"with the following properties: \")\n",
        "    print(torch.cuda.get_device_properties(0))\n",
        "else:\n",
        "    print('No GPU available, training on CPU instead.')"
      ],
      "execution_count": 0,
      "outputs": [
        {
          "output_type": "stream",
          "text": [
            "Training on GPU.\n",
            "There is/are 1 GPU(s) available.\n",
            "\n",
            "We will use the GPU:  Tesla T4\n",
            "with the following properties: \n",
            "_CudaDeviceProperties(name='Tesla T4', major=7, minor=5, total_memory=15079MB, multi_processor_count=40)\n"
          ],
          "name": "stdout"
        }
      ]
    },
    {
      "cell_type": "markdown",
      "metadata": {
        "id": "3UwkbgUn2fnn",
        "colab_type": "text"
      },
      "source": [
        "## Installing the Hugging Face Library \n",
        "\n",
        " Next, let’s install the transformers package from Hugging Face which will give us a pytorch interface for working with implementations of state-of-the-art embedding layers. This library contains interfaces for  pretrained language models like BERT, XLNet, OpenAI’s GPT and GPT-2. \n",
        "\n",
        "**More details about BERT**\n",
        ">[Github page of the library](https://github.com/huggingface/transformers)\n",
        "\n",
        ">\n",
        "\n",
        "\n",
        ">[Paper](https://arxiv.org/abs/1910.03771v3)\n",
        "\n",
        "\n",
        "\n"
      ]
    },
    {
      "cell_type": "code",
      "metadata": {
        "id": "hOrc3Hf6213A",
        "colab_type": "code",
        "outputId": "b110fcda-f3a1-4222-99fe-fc1c9859fa7c",
        "colab": {
          "base_uri": "https://localhost:8080/",
          "height": 377
        }
      },
      "source": [
        "!pip install transformers"
      ],
      "execution_count": 0,
      "outputs": [
        {
          "output_type": "stream",
          "text": [
            "Requirement already satisfied: transformers in /usr/local/lib/python3.6/dist-packages (2.3.0)\n",
            "Requirement already satisfied: tqdm in /usr/local/lib/python3.6/dist-packages (from transformers) (4.28.1)\n",
            "Requirement already satisfied: sacremoses in /usr/local/lib/python3.6/dist-packages (from transformers) (0.0.38)\n",
            "Requirement already satisfied: sentencepiece in /usr/local/lib/python3.6/dist-packages (from transformers) (0.1.85)\n",
            "Requirement already satisfied: boto3 in /usr/local/lib/python3.6/dist-packages (from transformers) (1.10.47)\n",
            "Requirement already satisfied: numpy in /usr/local/lib/python3.6/dist-packages (from transformers) (1.17.5)\n",
            "Requirement already satisfied: regex!=2019.12.17 in /usr/local/lib/python3.6/dist-packages (from transformers) (2019.12.20)\n",
            "Requirement already satisfied: requests in /usr/local/lib/python3.6/dist-packages (from transformers) (2.21.0)\n",
            "Requirement already satisfied: joblib in /usr/local/lib/python3.6/dist-packages (from sacremoses->transformers) (0.14.1)\n",
            "Requirement already satisfied: six in /usr/local/lib/python3.6/dist-packages (from sacremoses->transformers) (1.12.0)\n",
            "Requirement already satisfied: click in /usr/local/lib/python3.6/dist-packages (from sacremoses->transformers) (7.0)\n",
            "Requirement already satisfied: jmespath<1.0.0,>=0.7.1 in /usr/local/lib/python3.6/dist-packages (from boto3->transformers) (0.9.4)\n",
            "Requirement already satisfied: s3transfer<0.3.0,>=0.2.0 in /usr/local/lib/python3.6/dist-packages (from boto3->transformers) (0.2.1)\n",
            "Requirement already satisfied: botocore<1.14.0,>=1.13.47 in /usr/local/lib/python3.6/dist-packages (from boto3->transformers) (1.13.47)\n",
            "Requirement already satisfied: chardet<3.1.0,>=3.0.2 in /usr/local/lib/python3.6/dist-packages (from requests->transformers) (3.0.4)\n",
            "Requirement already satisfied: urllib3<1.25,>=1.21.1 in /usr/local/lib/python3.6/dist-packages (from requests->transformers) (1.24.3)\n",
            "Requirement already satisfied: idna<2.9,>=2.5 in /usr/local/lib/python3.6/dist-packages (from requests->transformers) (2.8)\n",
            "Requirement already satisfied: certifi>=2017.4.17 in /usr/local/lib/python3.6/dist-packages (from requests->transformers) (2019.11.28)\n",
            "Requirement already satisfied: docutils<0.16,>=0.10 in /usr/local/lib/python3.6/dist-packages (from botocore<1.14.0,>=1.13.47->boto3->transformers) (0.15.2)\n",
            "Requirement already satisfied: python-dateutil<3.0.0,>=2.1; python_version >= \"2.7\" in /usr/local/lib/python3.6/dist-packages (from botocore<1.14.0,>=1.13.47->boto3->transformers) (2.6.1)\n"
          ],
          "name": "stdout"
        }
      ]
    },
    {
      "cell_type": "markdown",
      "metadata": {
        "id": "fwZZvZAc48Vi",
        "colab_type": "text"
      },
      "source": [
        "Getting the data can be done automatically or manually.\n",
        "\n",
        "## Downloading Datasets and Creating Folders\n",
        "\n",
        "Execute the following cells and it will automatically run a Python and shell script to download datasets needed to complete this task and create data folders. *NOTE: It is not relevant for our exercise to understand this section' code*\n",
        "\n",
        "If you are using Google Colab just execute the cells below. \n",
        "In the other case, please follow these steps:\n",
        "1.   Create a python script named download.py and copy-paste the next cells below. Note: You will need to install requests library (pip install requests)\n",
        "2.   Create a shell script by copy-pasting next cell and execute it\n",
        "\n",
        "\n",
        "\n",
        "Alternatively, you can follow the link below and create the directory structure by yourself\n",
        "\n",
        "> Save the data: [Imdb Data set](https://drive.google.com/file/d/13RliAESnCKvPA7_6PUUBYqUJB_ecMp7s/view?usp=sharing) in the folder: /content/data/imdb-ds-rating\n",
        "\n",
        "\n",
        "\n",
        "\n"
      ]
    },
    {
      "cell_type": "code",
      "metadata": {
        "id": "WXSD435f5Zyv",
        "colab_type": "code",
        "outputId": "64084043-d667-4820-bc3f-999c6ac7814e",
        "colab": {
          "base_uri": "https://localhost:8080/",
          "height": 102
        }
      },
      "source": [
        "%%shell\n",
        "pip install requests"
      ],
      "execution_count": 0,
      "outputs": [
        {
          "output_type": "stream",
          "text": [
            "Requirement already satisfied: requests in /usr/local/lib/python3.6/dist-packages (2.21.0)\n",
            "Requirement already satisfied: urllib3<1.25,>=1.21.1 in /usr/local/lib/python3.6/dist-packages (from requests) (1.24.3)\n",
            "Requirement already satisfied: chardet<3.1.0,>=3.0.2 in /usr/local/lib/python3.6/dist-packages (from requests) (3.0.4)\n",
            "Requirement already satisfied: idna<2.9,>=2.5 in /usr/local/lib/python3.6/dist-packages (from requests) (2.8)\n",
            "Requirement already satisfied: certifi>=2017.4.17 in /usr/local/lib/python3.6/dist-packages (from requests) (2019.11.28)\n"
          ],
          "name": "stdout"
        },
        {
          "output_type": "execute_result",
          "data": {
            "text/plain": [
              ""
            ]
          },
          "metadata": {
            "tags": []
          },
          "execution_count": 3
        }
      ]
    },
    {
      "cell_type": "code",
      "metadata": {
        "id": "KRR9J9gd6e7q",
        "colab_type": "code",
        "outputId": "34d5b50b-9b81-4c40-c7e4-ae9a7f930ccf",
        "colab": {
          "base_uri": "https://localhost:8080/",
          "height": 34
        }
      },
      "source": [
        "%%writefile download.py\n",
        "# Creates a python script named download.py to download our datasets \n",
        "# from google drive files\n",
        "#\n",
        "# CREDITS: [1] https://stackoverflow.com/a/39225039\n",
        "#          [2] Natural Language Processing with PyTorch - Build Intelligent Language Applications Using Deep Learning - Delip Rao & Brian McMahan\n",
        "\n",
        "\n",
        "import requests\n",
        "def progress_bar(some_iter):\n",
        "    try:\n",
        "        from tqdm import tqdm\n",
        "        return tqdm(some_iter)\n",
        "    except ModuleNotFoundError:\n",
        "        return some_iter\n",
        "\n",
        "def download_file_from_google_drive(id, destination):\n",
        "    print(\"Downloading {}\".format(destination))\n",
        "\n",
        "    def get_confirm_token(response):\n",
        "        for key, value in response.cookies.items():\n",
        "            if key.startswith('download_warning'):\n",
        "                return value\n",
        "\n",
        "        return None\n",
        "\n",
        "    def save_response_content(response, destination):\n",
        "        CHUNK_SIZE = 32768\n",
        "\n",
        "        with open(destination, \"wb\") as f:\n",
        "            for chunk in progress_bar(response.iter_content(CHUNK_SIZE)):\n",
        "                if chunk: # filter out keep-alive new chunks\n",
        "                    f.write(chunk)\n",
        "\n",
        "    URL = \"https://docs.google.com/uc?export=download\"\n",
        "\n",
        "    session = requests.Session()\n",
        "\n",
        "    response = session.get(URL, params = { 'id' : id }, stream = True)\n",
        "    token = get_confirm_token(response)\n",
        "\n",
        "    if token:\n",
        "        params = { 'id' : id, 'confirm' : token }\n",
        "        response = session.get(URL, params = params, stream = True)\n",
        "\n",
        "    save_response_content(response, destination)\n",
        "\n",
        "\n",
        "if __name__ == \"__main__\":\n",
        "    import sys\n",
        "    if len(sys.argv) != 3:\n",
        "        print(\"Usage: python download.py drive_file_id destination_file_path\")\n",
        "    else:\n",
        "        # TAKE ID FROM SHAREABLE LINK\n",
        "        file_id = sys.argv[1]\n",
        "        # DESTINATION FILE ON YOUR DISK or CLOUD\n",
        "        destination = sys.argv[2]\n",
        "        download_file_from_google_drive(file_id, destination)\n"
      ],
      "execution_count": 0,
      "outputs": [
        {
          "output_type": "stream",
          "text": [
            "Overwriting download.py\n"
          ],
          "name": "stdout"
        }
      ]
    },
    {
      "cell_type": "code",
      "metadata": {
        "id": "Kb0fOBG36f8G",
        "colab_type": "code",
        "outputId": "616b973a-dd8f-4eb6-98ee-20c97170556d",
        "colab": {
          "base_uri": "https://localhost:8080/",
          "height": 51
        }
      },
      "source": [
        "%%shell\n",
        "#! /bin/bash\n",
        "\n",
        "# For each file, a download.py line is added to call the previous script\n",
        "# Any additional processing on the downloaded file\n",
        "HERE=\"$( cd \"$( dirname \"${BASH_SOURCE[0]}\" )\" && pwd )\"\n",
        "\n",
        "# IMDB Reviews Dataset\n",
        "mkdir -p $HERE/data/imdb-ds\n",
        "if [ ! -f $HERE/data/imdb-ds/IMDB_Dataset.npz ]; then\n",
        "    python download.py 10qLP8pckM_oTs2cqN48Km-whkOBBXj4c $HERE/data/imdb-ds/IMDB_Dataset.npz\n",
        "fi"
      ],
      "execution_count": 0,
      "outputs": [
        {
          "output_type": "stream",
          "text": [
            "Downloading /content/data/imdb-ds/IMDB_Dataset.npz\n",
            "1985it [00:00, 8023.88it/s]\n"
          ],
          "name": "stdout"
        },
        {
          "output_type": "execute_result",
          "data": {
            "text/plain": [
              ""
            ]
          },
          "metadata": {
            "tags": []
          },
          "execution_count": 8
        }
      ]
    },
    {
      "cell_type": "code",
      "metadata": {
        "id": "iagHM_62E5Uh",
        "colab_type": "code",
        "outputId": "58cdd3ed-c8ed-4b5d-ea03-d835f1b4bc86",
        "colab": {
          "base_uri": "https://localhost:8080/",
          "height": 102
        }
      },
      "source": [
        "ls /content/data/imdb-ds/ -alh"
      ],
      "execution_count": 0,
      "outputs": [
        {
          "output_type": "stream",
          "text": [
            "total 126M\n",
            "drwxr-xr-x 2 root root 4.0K Jan 27 08:52 \u001b[0m\u001b[01;34m.\u001b[0m/\n",
            "drwxr-xr-x 3 root root 4.0K Jan 27 08:00 \u001b[01;34m..\u001b[0m/\n",
            "-rw-r--r-- 1 root root  64M Jan 27 08:00 IMDB_Dataset.csv\n",
            "-rw-r--r-- 1 root root  63M Jan 27 08:52 IMDB_Dataset.npz\n"
          ],
          "name": "stdout"
        }
      ]
    },
    {
      "cell_type": "code",
      "metadata": {
        "id": "ztqFJHCTHHe0",
        "colab_type": "code",
        "colab": {}
      },
      "source": [
        "# !rm /content/data/imdb-ds/IMDB_Dataset.npz"
      ],
      "execution_count": 0,
      "outputs": []
    },
    {
      "cell_type": "markdown",
      "metadata": {
        "id": "hu-hKzYgFvZJ",
        "colab_type": "text"
      },
      "source": [
        "# Sentiment Analysis"
      ]
    },
    {
      "cell_type": "markdown",
      "metadata": {
        "id": "hDiG-AxX6tQd",
        "colab_type": "text"
      },
      "source": [
        "## Data Pre-processing"
      ]
    },
    {
      "cell_type": "code",
      "metadata": {
        "id": "it5JOetS6sgI",
        "colab_type": "code",
        "colab": {}
      },
      "source": [
        "# Import necessary libraries\n",
        "import numpy as np\n",
        "import pandas as pd\n",
        "import seaborn as sns\n",
        "import matplotlib.pyplot as plt\n",
        "from tqdm import tqdm"
      ],
      "execution_count": 0,
      "outputs": []
    },
    {
      "cell_type": "code",
      "metadata": {
        "id": "kXM_-H-m7B-B",
        "colab_type": "code",
        "colab": {}
      },
      "source": [
        "# load the training data\n",
        "file_name = '/content/data/imdb-ds/IMDB_Dataset.npz'\n",
        "data = np.load(file_name, allow_pickle=True)\n",
        "reviews, labels = data['sentences'], data['labels']\n",
        "\n",
        "# TODO: Explore the dataset\n",
        "## What is its shape\n",
        "## is the dataset balanced?\n",
        "## Visualize the length of the reviews for some of the reviews"
      ],
      "execution_count": 0,
      "outputs": []
    },
    {
      "cell_type": "markdown",
      "metadata": {
        "id": "8g5OyMQPFfKQ",
        "colab_type": "text"
      },
      "source": [
        "## BERT: Tokenization & Input Formatting\n",
        "\n",
        "We will use the excellent [Transformers library](https://github.com/huggingface/transformers) by Hugging Face to work with BERT.\n",
        "\n",
        "The first step is to tokenize the reviews and bring them into the format that BERT expects. This includes\n",
        "\n",
        "- Tokenization\n",
        "- Adding special tokens: [CLS], [SEP]\n",
        "- Trimming sentences to maximum length\n",
        "- Padding [PAD] in case of shorter sentences\n",
        "\n",
        "Documentation of `BertTokenizer`: https://huggingface.co/transformers/model_doc/bert.html#berttokenizer\n"
      ]
    },
    {
      "cell_type": "code",
      "metadata": {
        "id": "eZTmDwOueqEN",
        "colab_type": "code",
        "outputId": "360cebc3-e247-497d-cbdb-fc8e20052444",
        "colab": {
          "base_uri": "https://localhost:8080/",
          "height": 34
        }
      },
      "source": [
        "# Get rid of Colab warning about Tensorflow 2.0\n",
        "%tensorflow_version 1.x\n",
        "\n",
        "from transformers import BertTokenizer\n",
        "\n",
        "# Load the BERT tokenizer.\n",
        "print('Loading the BERT tokenizer...')\n",
        "\n",
        "# We will use bert-base-uncased model\n",
        "tokenizer = BertTokenizer.from_pretrained('bert-base-uncased', do_lower_case=True)"
      ],
      "execution_count": 0,
      "outputs": [
        {
          "output_type": "stream",
          "text": [
            "Loading the BERT tokenizer...\n"
          ],
          "name": "stdout"
        }
      ]
    },
    {
      "cell_type": "code",
      "metadata": {
        "id": "EM0eJoNaKFXb",
        "colab_type": "code",
        "outputId": "2ef6b11a-720b-4530-cb1f-ac4c09a85f37",
        "colab": {
          "base_uri": "https://localhost:8080/",
          "height": 34
        }
      },
      "source": [
        "# Maximum length of a sequence\n",
        "MAX_LEN = 128\n",
        "\n",
        "# Tokenize all of the sentences and map the tokens to thier word IDs.\n",
        "input_ids = []\n",
        "\n",
        "# For every sentence...\n",
        "for review in tqdm(reviews):\n",
        "    # `encode_plus` will:\n",
        "    #   (1) Tokenize the sentence.\n",
        "    #   (2) Prepend the `[CLS]` token to the start.\n",
        "    #   (3) Append the `[SEP]` token to the end.\n",
        "    #   (4) Map tokens to their IDs.\n",
        "    #   (5) Pad to maximum length if the sequence is shorter\n",
        "    sequence = tokenizer.encode_plus(\n",
        "                    review,                      # Review to encode.\n",
        "                    add_special_tokens = True, # Add '[CLS]' and '[SEP]'\n",
        "                    max_length=MAX_LEN,\n",
        "                    pad_to_max_length=True,\n",
        "    )\n",
        "    input_ids.append(sequence['input_ids'])\n",
        "\n",
        "input_ids = np.array(input_ids)"
      ],
      "execution_count": 0,
      "outputs": [
        {
          "output_type": "stream",
          "text": [
            "100%|██████████| 50000/50000 [03:33<00:00, 233.65it/s]\n"
          ],
          "name": "stderr"
        }
      ]
    },
    {
      "cell_type": "code",
      "metadata": {
        "id": "D9P8lwIiMHLv",
        "colab_type": "code",
        "outputId": "14ed5dfd-c4ce-44d3-cb42-d7e57e972357",
        "colab": {
          "base_uri": "https://localhost:8080/",
          "height": 241
        }
      },
      "source": [
        "# Print example sentence 10, now as a list of IDs.\n",
        "i = 10\n",
        "print('Original: ', reviews[i])\n",
        "print('Token IDs:', input_ids[i])"
      ],
      "execution_count": 0,
      "outputs": [
        {
          "output_type": "stream",
          "text": [
            "Original:  Phil the Alien is one of those quirky films where the humour is based around the oddness of everything rather than actual punchlines.At first it was very odd and pretty funny but as the movie progressed I didn't find the jokes or oddness funny anymore.Its a low budget film (thats never a problem in itself), there were some pretty interesting characters, but eventually I just lost interest.I imagine this film would appeal to a stoner who is currently partaking.For something similar but better try \"Brother from another planet\"\n",
            "Token IDs: [  101  6316  1996  7344  2003  2028  1997  2216 21864 15952  3152  2073\n",
            "  1996 17211  2003  2241  2105  1996  5976  2791  1997  2673  2738  2084\n",
            "  5025  8595 12735  1012  2012  2034  2009  2001  2200  5976  1998  3492\n",
            "  6057  2021  2004  1996  3185 12506  1045  2134  1005  1056  2424  1996\n",
            " 13198  2030  5976  2791  6057  4902  1012  2049  1037  2659  5166  2143\n",
            "  1006  2008  2015  2196  1037  3291  1999  2993  1007  1010  2045  2020\n",
            "  2070  3492  5875  3494  1010  2021  2776  1045  2074  2439  3037  1012\n",
            "  1045  5674  2023  2143  2052  5574  2000  1037  2962  2099  2040  2003\n",
            "  2747  2112 15495  1012  2005  2242  2714  2021  2488  3046  1000  2567\n",
            "  2013  2178  4774  1000   102     0     0     0     0     0     0     0\n",
            "     0     0     0     0     0     0     0     0]\n"
          ],
          "name": "stdout"
        }
      ]
    },
    {
      "cell_type": "markdown",
      "metadata": {
        "id": "3qQYZFU0VXhI",
        "colab_type": "text"
      },
      "source": [
        "## Training, Validation, Test Split\n",
        "\n",
        "Use 1000-2000 reviews as validation and test set, respectively. Use the rest for training."
      ]
    },
    {
      "cell_type": "code",
      "metadata": {
        "id": "3E58xzigaBA_",
        "colab_type": "code",
        "colab": {}
      },
      "source": [
        "## ToDo: Split data into training, validation, and test data (features and labels, x and y)\n",
        "## ToDo: Print out the shapes of your splitted train, validation, and test set"
      ],
      "execution_count": 0,
      "outputs": []
    },
    {
      "cell_type": "markdown",
      "metadata": {
        "id": "NaSTkvQca3or",
        "colab_type": "text"
      },
      "source": [
        "## Create DataLoader\n",
        "\n",
        "You can use `TensorDataset` to create a dataset holding (reviews, labels)."
      ]
    },
    {
      "cell_type": "code",
      "metadata": {
        "id": "7my-m1Zt75Zp",
        "colab_type": "code",
        "colab": {}
      },
      "source": [
        "# TODO"
      ],
      "execution_count": 0,
      "outputs": []
    },
    {
      "cell_type": "markdown",
      "metadata": {
        "id": "8vuwkaCRkYLL",
        "colab_type": "text"
      },
      "source": [
        "\n",
        "# Sentiment Network - Classification Model\n",
        "\n",
        "We will build a sentiment classifier by using transfer learning from a pre-trained BERT model. For simplicity and to speed up the training process, we will freeze the weights of the BERT encoder (code already included below).\n",
        "\n",
        "Use the 768-dimensional embedding corresponding to the [CLS] token and add a binary classifier on top. Thus, your linear layer should map a (BATCH_SIZE x 768) tensor onto (BATCH_SIZE, ) or (BATCH_SIZE, 2), depending on whether you use a sigmoid activation and scalar outputs or code the two classes one-hot and use a softmax layer.\n",
        "\n"
      ]
    },
    {
      "cell_type": "markdown",
      "metadata": {
        "id": "AeJdGstbetUX",
        "colab_type": "text"
      },
      "source": [
        "### Implement a Binary Classifier \n",
        "\n",
        "Look up how to instantiate a pre-trained `BertModel`. A good starting point is the quickstart guide of the Transformers library: https://huggingface.co/transformers/quickstart.html\n",
        "\n",
        "Documentation of `BertModel`: https://huggingface.co/transformers/model_doc/bert.html#bertmodel"
      ]
    },
    {
      "cell_type": "code",
      "metadata": {
        "id": "UqgDnbrl_gny",
        "colab_type": "code",
        "colab": {}
      },
      "source": [
        "from transformers import BertModel\n",
        "import torch.nn as nn\n",
        "from torch.nn import CrossEntropyLoss\n",
        "\n",
        "class SentimentClassifier(nn.Module):\n",
        "    def __init__(self, fine_tune=False):\n",
        "        super(SentimentClassifier, self).__init__()\n",
        "\n",
        "        # TODO: BertModel as an embedding layer\n",
        "        self.bert = ...\n",
        "\n",
        "        # Turn gradients for BertModel on/off\n",
        "        self.bert.requires_grad_(fine_tune)\n",
        "\n",
        "        # TODO: Linear binary classification layer\n",
        "\n",
        "\n",
        "    def forward(self, x):\n",
        "        # TODO\n"
      ],
      "execution_count": 0,
      "outputs": []
    },
    {
      "cell_type": "markdown",
      "metadata": {
        "id": "IOT3lpt2PQNp",
        "colab_type": "text"
      },
      "source": [
        "## Instantiate the Network \n"
      ]
    },
    {
      "cell_type": "code",
      "metadata": {
        "id": "BRSIccYrIJSs",
        "colab_type": "code",
        "colab": {}
      },
      "source": [
        "# ToDo: Instantiate the model\n",
        "net = \n",
        "\n",
        "print(net)"
      ],
      "execution_count": 0,
      "outputs": []
    },
    {
      "cell_type": "markdown",
      "metadata": {
        "id": "GTERZi4LkdJe",
        "colab_type": "text"
      },
      "source": [
        "## Training and Testing\n",
        "\n",
        "Make sure to choose an appropriate learning rate. Regularly output training and validation loss + accuracy. Since the dataset is large, you want to output statistics in regular intervals also within an epoch."
      ]
    },
    {
      "cell_type": "code",
      "metadata": {
        "id": "ipI-UlSskm13",
        "colab_type": "code",
        "colab": {}
      },
      "source": [
        "# ToDo: Train & validate"
      ],
      "execution_count": 0,
      "outputs": []
    },
    {
      "cell_type": "markdown",
      "metadata": {
        "id": "feVzyzZkWN3l",
        "colab_type": "text"
      },
      "source": [
        "Plot the training and validation loss and report accuracy on the test set."
      ]
    },
    {
      "cell_type": "code",
      "metadata": {
        "id": "9yhhzoIVWK2n",
        "colab_type": "code",
        "colab": {}
      },
      "source": [
        "# TODO"
      ],
      "execution_count": 0,
      "outputs": []
    },
    {
      "cell_type": "markdown",
      "metadata": {
        "id": "us5O1pi6tQBl",
        "colab_type": "text"
      },
      "source": [
        "## Inference Testing\n",
        "\n",
        "This section consists of testing the models using inference testing, i.e., in our case, using other reviews to categorize them as positive or negative. "
      ]
    },
    {
      "cell_type": "code",
      "metadata": {
        "id": "lZLcwRs6tVdV",
        "colab_type": "code",
        "colab": {}
      },
      "source": [
        "# TODO:\n",
        "## Create a function that takes in the trained net, a text review, \n",
        "## and a sequence length to predict its sentiment to positive/negative\n",
        "\n",
        "def predict(net, test_review, sequence_length=MAX_LEN):\n",
        "        '''\n",
        "        params:\n",
        "        net - The trained net \n",
        "        test_review - a review as a string\n",
        "        sequence_length - the padded length of a review\n",
        "        '''\n",
        "    \n",
        "    \n",
        "    # print custom response based on whether test_review is pos/neg"
      ],
      "execution_count": 0,
      "outputs": []
    },
    {
      "cell_type": "code",
      "metadata": {
        "id": "BSDQ3xG_uWFw",
        "colab_type": "code",
        "colab": {}
      },
      "source": [
        "# TODO: Choose any of your preferred movies, find a review from imdb.com or\n",
        "#       any other source and compare your model result against the source rating"
      ],
      "execution_count": 0,
      "outputs": []
    },
    {
      "cell_type": "markdown",
      "metadata": {
        "id": "MWb3P4SWUD3C",
        "colab_type": "text"
      },
      "source": [
        "## [Optional] Fine-tune BERT model\n",
        "\n",
        "Can you improve performance by fine-tuning BERT in addition to training the linear classifier?"
      ]
    },
    {
      "cell_type": "code",
      "metadata": {
        "id": "8m-Up4tDUBqu",
        "colab_type": "code",
        "colab": {}
      },
      "source": [
        "# TODO"
      ],
      "execution_count": 0,
      "outputs": []
    }
  ]
}